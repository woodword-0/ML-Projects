{
  "nbformat": 4,
  "nbformat_minor": 0,
  "metadata": {
    "colab": {
      "name": "GaussBayes.ipynb",
      "provenance": [],
      "collapsed_sections": [],
      "authorship_tag": "ABX9TyP40E2JYDx5bO7SjHv1+6Gy",
      "include_colab_link": true
    },
    "kernelspec": {
      "display_name": "Python 3",
      "name": "python3"
    },
    "language_info": {
      "name": "python"
    }
  },
  "cells": [
    {
      "cell_type": "markdown",
      "metadata": {
        "id": "view-in-github",
        "colab_type": "text"
      },
      "source": [
        "<a href=\"https://colab.research.google.com/github/woodword-0/ML-Projects/blob/main/GaussBayes.ipynb\" target=\"_parent\"><img src=\"https://colab.research.google.com/assets/colab-badge.svg\" alt=\"Open In Colab\"/></a>"
      ]
    },
    {
      "cell_type": "code",
      "metadata": {
        "id": "NvGAZ-6KdZM9"
      },
      "source": [
        "import pandas as pd\n",
        "import numpy as np\n",
        "import matplotlib.pyplot as plt\n",
        "from scipy.stats import multivariate_normal as mvn"
      ],
      "execution_count": null,
      "outputs": []
    },
    {
      "cell_type": "code",
      "metadata": {
        "id": "O8K5wk1udjk2"
      },
      "source": [
        "df1 = pd.read_csv('/content/MNIST_train.csv')\n",
        "df2 = pd.read_csv('/content/MNIST_test.csv')"
      ],
      "execution_count": null,
      "outputs": []
    },
    {
      "cell_type": "code",
      "metadata": {
        "id": "8vQp3evZeETI"
      },
      "source": [
        "X_train = (1/255)*df1.iloc[:,3:].to_numpy()\n",
        "y_train = df1.iloc[:,2].to_numpy()\n",
        "X_test = (1/255)*df2.iloc[:,3:].to_numpy()\n",
        "y_test = df2.iloc[:, 2].to_numpy()"
      ],
      "execution_count": null,
      "outputs": []
    },
    {
      "cell_type": "code",
      "metadata": {
        "id": "jjhWd1vnSMpm"
      },
      "source": [
        "np.dot(X_test,X_test[3])"
      ],
      "execution_count": null,
      "outputs": []
    },
    {
      "cell_type": "code",
      "metadata": {
        "id": "bNjzFYP0eJdU"
      },
      "source": [
        "class GaussNB():\n",
        "    \"\"\"Naive Bayes model\"\"\"\n",
        "    def __init__(self):\n",
        "        pass\n",
        "\n",
        "    def fit(self, X:np.array, y:np.array, epsilon:int=1e-1) -> None:\n",
        "        self.likelihoods = dict()\n",
        "        self.priors = dict()\n",
        "\n",
        "        self.K = set(y.astype(int)) # list of classes\n",
        "\n",
        "        for k in self.K:\n",
        "            X_k = X[y==k,:]\n",
        "            self.likelihoods[k] = {\"mean\": X_k.mean(axis=0), \"cov\": X_k.var(axis=0) + epsilon}\n",
        "            self.priors[k] = len(X_k) / len(X)\n",
        "\n",
        "\n",
        "    def predict(self, X: np.array) -> np.array:\n",
        "        N, D = X.shape\n",
        "\n",
        "        P_hat = np.zeros((N, len(self.K)))\n",
        "\n",
        "        for k, l in self.likelihoods.items():\n",
        "            P_hat[:, k] = mvn.logpdf(X, l[\"mean\"], l[\"cov\"] + np.log(self.priors[k]))\n",
        "        \n",
        "        return P_hat.argmax(axis=1)\n",
        "\n",
        "\n",
        "class GaussBayes:\n",
        "\n",
        "    def fit(self, X:np.array, y:np.array, epsilon:int = 1e-3) -> None:\n",
        "        self.likelihoods = dict()\n",
        "        self.priors = dict()\n",
        "\n",
        "        self.K = set(y.astype(int))\n",
        "\n",
        "        for k in self.K:\n",
        "            X_k = X[y==k,:]\n",
        "            N_k, D = X_k.shape\n",
        "            mu_k = X_k.mean(axis=0)\n",
        "            self.likelihoods[k] = {\"mean\": X_k.mean(axis=0), \"cov\": (1 / (N_k - 1)) * np.matmul((X_k-mu_k).T, X_k - mu_k) + epsilon*np.identity(D)} \n",
        "\n",
        "            self.priors[k] = len(X_k) / len(X)\n",
        "    \n",
        "    def predict(self, X:np.array) -> np.array:\n",
        "        N, D = X.shape\n",
        "        P_hat = np.zeros((N, len(self.K)))\n",
        "\n",
        "        for k, l in self.likelihoods.items():\n",
        "            P_hat[:,k] = mvn.logpdf(X, l[\"mean\"], l[\"cov\"]) + np.log(self.priors[k])\n",
        "\n",
        "        return P_hat.argmax(axis=1)"
      ],
      "execution_count": null,
      "outputs": []
    },
    {
      "cell_type": "code",
      "metadata": {
        "id": "-2TNMvbcvoNq"
      },
      "source": [
        "# Checks accuracy of model\n",
        "gbayes = GaussBayes()\n",
        "gbayes.fit(X_train,y_train)\n",
        "y_hat_GB = gbayes.predict(X_train)"
      ],
      "execution_count": null,
      "outputs": []
    },
    {
      "cell_type": "code",
      "metadata": {
        "id": "68pEn3vVzu4I"
      },
      "source": [
        "def accuracyGB(y_train,y_hat_GB):\n",
        "    return np.mean(y_train == y_hat_GB)"
      ],
      "execution_count": null,
      "outputs": []
    },
    {
      "cell_type": "code",
      "metadata": {
        "id": "JnRk01hOz0ix"
      },
      "source": [
        "print(accuracyGB(y_train ,y_hat_GB))"
      ],
      "execution_count": null,
      "outputs": []
    },
    {
      "cell_type": "code",
      "metadata": {
        "id": "8R9ymqoceQKC"
      },
      "source": [
        "gbayes = GaussBayes()\n",
        "gbayes.fit(X_train,y_train)\n",
        "y_hat_GB = gbayes.predict(X_test)"
      ],
      "execution_count": null,
      "outputs": []
    },
    {
      "cell_type": "code",
      "metadata": {
        "id": "UjQv4nyf1XFy"
      },
      "source": [
        "def accuracyGB(y_test,y_hat_GB):\n",
        "    return np.mean(y_test == y_hat_GB)"
      ],
      "execution_count": null,
      "outputs": []
    },
    {
      "cell_type": "code",
      "metadata": {
        "id": "9RQx4iaL1cL4"
      },
      "source": [
        "print(accuracyGB(y_test ,y_hat_GB))"
      ],
      "execution_count": null,
      "outputs": []
    },
    {
      "cell_type": "code",
      "metadata": {
        "id": "F6Uy2JfxoYwY"
      },
      "source": [
        "def show_me(X):\n",
        "  plt.imshow(X.reshape(28,28))\n",
        "def show_me_allmean(X,y,k):\n",
        "  show_me(X[y==k,:]/len(X[y==k,:]))"
      ],
      "execution_count": null,
      "outputs": []
    },
    {
      "cell_type": "markdown",
      "metadata": {
        "id": "HCcnFbkuOOBf"
      },
      "source": [
        ""
      ]
    },
    {
      "cell_type": "code",
      "metadata": {
        "id": "Qhuf_gugpNH2"
      },
      "source": [
        "show_me(X_test[0])"
      ],
      "execution_count": null,
      "outputs": []
    },
    {
      "cell_type": "code",
      "metadata": {
        "id": "JgL8PxfDpWqe"
      },
      "source": [
        "gbayes.predict(X_test[0:1])"
      ],
      "execution_count": null,
      "outputs": []
    },
    {
      "cell_type": "code",
      "metadata": {
        "id": "WkX7j5kQqs3R"
      },
      "source": [
        "X_test[9:1].shape"
      ],
      "execution_count": null,
      "outputs": []
    },
    {
      "cell_type": "code",
      "metadata": {
        "id": "5wChKzsMp2gq"
      },
      "source": [
        "type(X_test[0])"
      ],
      "execution_count": null,
      "outputs": []
    },
    {
      "cell_type": "code",
      "metadata": {
        "id": "Rv9o0wnsqGdS"
      },
      "source": [
        "X_test[0].shape"
      ],
      "execution_count": null,
      "outputs": []
    },
    {
      "cell_type": "code",
      "metadata": {
        "id": "LMDPcM11qQns"
      },
      "source": [
        "plt.figure(figsize = (10,7))\n",
        "y_actu = pd.Series(y, name = 'Actual')\n"
      ],
      "execution_count": null,
      "outputs": []
    }
  ]
}