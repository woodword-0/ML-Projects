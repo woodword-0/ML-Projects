{
  "nbformat": 4,
  "nbformat_minor": 0,
  "metadata": {
    "kernelspec": {
      "display_name": "Python 3",
      "language": "python",
      "name": "python3"
    },
    "language_info": {
      "codemirror_mode": {
        "name": "ipython",
        "version": 3
      },
      "file_extension": ".py",
      "mimetype": "text/x-python",
      "name": "python",
      "nbconvert_exporter": "python",
      "pygments_lexer": "ipython3",
      "version": "3.8.5"
    },
    "colab": {
      "name": "NaiveGaussBayes.ipynb",
      "provenance": [],
      "collapsed_sections": [],
      "toc_visible": true,
      "include_colab_link": true
    }
  },
  "cells": [
    {
      "cell_type": "markdown",
      "metadata": {
        "id": "view-in-github",
        "colab_type": "text"
      },
      "source": [
        "<a href=\"https://colab.research.google.com/github/woodword-0/ML-Projects/blob/main/NaiveGaussBayes.ipynb\" target=\"_parent\"><img src=\"https://colab.research.google.com/assets/colab-badge.svg\" alt=\"Open In Colab\"/></a>"
      ]
    },
    {
      "cell_type": "code",
      "metadata": {
        "id": "kqSBqy5kBxOE"
      },
      "source": [
        "import pandas as pd\n",
        "import numpy as np\n",
        "import matplotlib.pyplot as plt\n",
        "from scipy.stats import multivariate_normal as mvn"
      ],
      "execution_count": null,
      "outputs": []
    },
    {
      "cell_type": "code",
      "metadata": {
        "id": "ZheXywKABxOO"
      },
      "source": [
        "df2 = pd.read_csv('/content/MNIST_train.csv')"
      ],
      "execution_count": null,
      "outputs": []
    },
    {
      "cell_type": "code",
      "metadata": {
        "id": "mKhAjsxiBxOQ"
      },
      "source": [
        "df2.head()"
      ],
      "execution_count": null,
      "outputs": []
    },
    {
      "cell_type": "code",
      "metadata": {
        "id": "TzuRh4TaBxOR"
      },
      "source": [
        "X = df2.to_numpy()\n",
        "X"
      ],
      "execution_count": null,
      "outputs": []
    },
    {
      "cell_type": "code",
      "metadata": {
        "id": "Krs9idyrBxOR"
      },
      "source": [
        "y = X[:,-1]\n",
        "X = X[:,:-1]"
      ],
      "execution_count": null,
      "outputs": []
    },
    {
      "cell_type": "code",
      "metadata": {
        "id": "LeRF6f-3BxOS"
      },
      "source": [
        "y.shape"
      ],
      "execution_count": null,
      "outputs": []
    },
    {
      "cell_type": "code",
      "metadata": {
        "id": "A_xheQrjBxOT"
      },
      "source": [
        "X.shape"
      ],
      "execution_count": null,
      "outputs": []
    },
    {
      "cell_type": "code",
      "metadata": {
        "id": "ubx2aj-9yyOZ"
      },
      "source": [
        "df2.dtypes"
      ],
      "execution_count": null,
      "outputs": []
    },
    {
      "cell_type": "code",
      "metadata": {
        "id": "vK6rgh7lBxOT"
      },
      "source": [
        "plt.figure()\n",
        "plt.hist(X[y==1,0], label = \"Male\", alpha = 0.5, bins = 30)\n",
        "plt.hist(X[y== 0,0], label = \"Female\", alpha = 0.5, bins =  30)\n",
        "plt.legend()"
      ],
      "execution_count": null,
      "outputs": []
    },
    {
      "cell_type": "code",
      "metadata": {
        "id": "l4mk4DBiBxOV"
      },
      "source": [
        "plt.figure()\n",
        "plt.hist(X[y==1,1], label = \"Male\", alpha = 0.5, bins = 30)\n",
        "plt.hist(X[y== 0,1], label = \"Female\", alpha = 0.5, bins =  30)\n",
        "plt.legend()"
      ],
      "execution_count": null,
      "outputs": []
    },
    {
      "cell_type": "code",
      "metadata": {
        "id": "qZAKNcLgBxOV"
      },
      "source": [
        "plt.figure()\n",
        "plt.scatter(X[:,0],X[:,1], c = y, alpha = 0.25, s = 8)"
      ],
      "execution_count": null,
      "outputs": []
    },
    {
      "cell_type": "code",
      "metadata": {
        "id": "b7uZcFxiBxOW"
      },
      "source": [
        "class GaussNB():\n",
        "    def fit(self, X,y, epsilon = 1e-3):\n",
        "        self.likelihoods = dict()\n",
        "        self.priors = dict()\n",
        "        \n",
        "        self.K = set(y.astype(int))\n",
        "        \n",
        "        for k in self.K:\n",
        "            X_k = X[y == k, :]\n",
        "            self.likelihoods[k] = {\"mean\": X_k.mean(axis = 0), \"cov\":X_k.var(axis = 0) + epsilon}\n",
        "            self.priors[k] = len(X_k)/len(X)\n",
        "            \n",
        "    def predict(self, X):\n",
        "        N,D = X.shape #Observations and features\n",
        "        #probability\n",
        "        p_hat = np.zeros((N,len(self.K)))\n",
        "        \n",
        "        for k, l in self.likelihoods.items():\n",
        "            p_hat[:,k] = mvn.logpdf(X, l[\"mean\"], l[\"cov\"]) + np.log(self.priors[k])\n",
        "        \n",
        "        return p_hat.argmax(axis = 1)"
      ],
      "execution_count": null,
      "outputs": []
    },
    {
      "cell_type": "code",
      "metadata": {
        "id": "qznXZ0rGBxOX"
      },
      "source": [
        "gnb = GaussNB()"
      ],
      "execution_count": null,
      "outputs": []
    },
    {
      "cell_type": "code",
      "metadata": {
        "id": "jy6GKwwmBxOX"
      },
      "source": [
        "gnb.fit(X,y)"
      ],
      "execution_count": null,
      "outputs": []
    },
    {
      "cell_type": "code",
      "metadata": {
        "id": "KVApJQKnBxOY"
      },
      "source": [
        "y_hat = gnb.predict(X)"
      ],
      "execution_count": null,
      "outputs": []
    },
    {
      "cell_type": "code",
      "metadata": {
        "id": "IUhQkBInBxOY"
      },
      "source": [
        "plt.figure()\n",
        "plt.scatter(X[:,0], X[:,1], c = y_hat, alpha = 0.25, s = 8)\n",
        "#plt.scatter(X[:,0], X[:,1], c = y, alpha = 0.25, s = 8)"
      ],
      "execution_count": null,
      "outputs": []
    },
    {
      "cell_type": "code",
      "metadata": {
        "id": "4LgWNQLwBxOZ"
      },
      "source": [
        "def accuracy(y,y_hat):\n",
        "    return np.mean(y == y_hat)"
      ],
      "execution_count": null,
      "outputs": []
    },
    {
      "cell_type": "code",
      "metadata": {
        "id": "VkciWg57BxOZ"
      },
      "source": [
        "accuracy(y,y_hat)"
      ],
      "execution_count": null,
      "outputs": []
    },
    {
      "cell_type": "code",
      "metadata": {
        "id": "V4qBFHHXBxOZ"
      },
      "source": [
        "plt.scatter(X[:,0], X[:,1], c = y, alpha = 0.25, s = 8)"
      ],
      "execution_count": null,
      "outputs": []
    },
    {
      "cell_type": "code",
      "metadata": {
        "id": "swgQ-GN7BxOa"
      },
      "source": [
        "X_New = np.asarray([[70,150]])"
      ],
      "execution_count": null,
      "outputs": []
    },
    {
      "cell_type": "code",
      "metadata": {
        "id": "7Zu-ezLyBxOa"
      },
      "source": [
        "y_hat_New = gnb.predict(X_New)"
      ],
      "execution_count": null,
      "outputs": []
    },
    {
      "cell_type": "code",
      "metadata": {
        "id": "nILaCjdYBxOb"
      },
      "source": [
        "y_hat_New"
      ],
      "execution_count": null,
      "outputs": []
    },
    {
      "cell_type": "code",
      "metadata": {
        "id": "A2M96fUGBxOb"
      },
      "source": [
        "#New sigma_k\n",
        "class GaussBayes():\n",
        "    def fit(self, X, y, epsilon =1e-3):\n",
        "        self.likelihoods = dict()\n",
        "        self.priors = dict()\n",
        "        \n",
        "        self.K = set(y.astype(int))\n",
        "        \n",
        "        for k in self.K:\n",
        "            X_k = X[y==k, :]\n",
        "            N_k, D = X_k.shape\n",
        "            mu_k = X_k.mean(axis = 0)\n",
        "            self.likelihoods[k] = {\"mean\":X_k.mean(axis=0),\"cov\":(1/(N_k-1))*np.matmul((X_k-mu_k).T,X_k-mu_k)+epsilon*np.identity(D)}\n",
        "            self.priors[k]=len(X_k)/len(X)\n",
        "            \n",
        "    def predict(self,X):\n",
        "        N,D = X.shape\n",
        "        \n",
        "        P_hat = np.zeros((N,len(self.K)))\n",
        "        \n",
        "        for k, l in self.likelihoods.items():\n",
        "            P_hat[:,k] = mvn.logpdf(X,l[\"mean\"],l[\"cov\"]) + np.log(self.priors[k])\n",
        "        return P_hat.argmax(axis=1)"
      ],
      "execution_count": null,
      "outputs": []
    },
    {
      "cell_type": "code",
      "metadata": {
        "id": "Gw_M7Z_fBxOc"
      },
      "source": [
        "X = df2.to_numpy()"
      ],
      "execution_count": null,
      "outputs": []
    },
    {
      "cell_type": "code",
      "metadata": {
        "id": "66L0BEEbBxOc"
      },
      "source": [
        "y = X[:,-1]\n",
        "X = X[:,:-1]"
      ],
      "execution_count": null,
      "outputs": []
    },
    {
      "cell_type": "code",
      "metadata": {
        "id": "cu9C1RapBxOd"
      },
      "source": [
        "X.shape"
      ],
      "execution_count": null,
      "outputs": []
    },
    {
      "cell_type": "code",
      "metadata": {
        "id": "Q3pQxU__BxOd"
      },
      "source": [
        "plt.figure()\n",
        "plt.scatter(X[:,0], X[:,1], c = y_hat, alpha = 0.25, s = 8)\n",
        "#plt.scatter(X[:,0], X[:,1], c = y, alpha = 0.25, s = 8)"
      ],
      "execution_count": null,
      "outputs": []
    },
    {
      "cell_type": "code",
      "metadata": {
        "id": "ejhOyZsIBxOd"
      },
      "source": [
        "gnb.fit(X,y)"
      ],
      "execution_count": null,
      "outputs": []
    },
    {
      "cell_type": "code",
      "metadata": {
        "id": "ivx_PWulBxOe"
      },
      "source": [
        "y_hat_NB=gnb.predict(X)"
      ],
      "execution_count": null,
      "outputs": []
    },
    {
      "cell_type": "code",
      "metadata": {
        "id": "bOu5rLJ5BxOe"
      },
      "source": [
        "gbayes = GaussBayes()"
      ],
      "execution_count": null,
      "outputs": []
    },
    {
      "cell_type": "code",
      "metadata": {
        "id": "sL35bS-gBxOe"
      },
      "source": [
        "gbayes.fit(X,y)"
      ],
      "execution_count": null,
      "outputs": []
    },
    {
      "cell_type": "code",
      "metadata": {
        "id": "g30j0Hx1BxOf"
      },
      "source": [
        "y_hat_GB = gbayes.predict(X)"
      ],
      "execution_count": null,
      "outputs": []
    },
    {
      "cell_type": "code",
      "metadata": {
        "id": "OIH3HegOBxOf"
      },
      "source": [
        "plt.figure()\n",
        "plt.scatter(X[:,0], X[:,1], c = y_hat, alpha = 0.25, s = 8)\n",
        "#plt.scatter(X[:,0], X[:,1], c = y, alpha = 0.25, s = 8)"
      ],
      "execution_count": null,
      "outputs": []
    }
  ]
}