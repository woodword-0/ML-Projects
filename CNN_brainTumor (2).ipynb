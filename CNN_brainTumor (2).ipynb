{
  "nbformat": 4,
  "nbformat_minor": 0,
  "metadata": {
    "colab": {
      "name": "CNN_brainTumor.ipynb",
      "provenance": [],
      "collapsed_sections": []
    },
    "kernelspec": {
      "display_name": "Python 3",
      "name": "python3"
    },
    "language_info": {
      "name": "python"
    }
  },
  "cells": [
    {
      "cell_type": "code",
      "metadata": {
        "id": "PvwiVdv5hG4W"
      },
      "source": [
        "import os\n",
        "import zipfile"
      ],
      "execution_count": null,
      "outputs": []
    },
    {
      "cell_type": "code",
      "metadata": {
        "id": "gjX8dYA1mTsa"
      },
      "source": [
        "local_zip1= '/content/train.zip'\n",
        "\n",
        "zip1= zipfile.ZipFile(local_zip1,'r')\n",
        "zip1.extractall('./')\n",
        "zip1.close()\n"
      ],
      "execution_count": null,
      "outputs": []
    },
    {
      "cell_type": "code",
      "metadata": {
        "id": "tUZpjUmvnV-Y"
      },
      "source": [
        "local_zip2= '/content/valid.zip'\n",
        "\n",
        "zip1= zipfile.ZipFile(local_zip2,'r')\n",
        "zip1.extractall()\n",
        "zip1.close()\n"
      ],
      "execution_count": null,
      "outputs": []
    },
    {
      "cell_type": "code",
      "metadata": {
        "id": "ypj4ElCeoBDE"
      },
      "source": [
        "local_zip3= '/content/test.zip'\n",
        "\n",
        "zip3= zipfile.ZipFile(local_zip3,'r')\n",
        "zip3.extractall()\n",
        "zip3.close()"
      ],
      "execution_count": null,
      "outputs": []
    },
    {
      "cell_type": "code",
      "metadata": {
        "colab": {
          "base_uri": "https://localhost:8080/",
          "height": 35
        },
        "id": "ysQ_AGNGoq7K",
        "outputId": "afa1bdc5-2af3-4ff8-803a-d5449b431143"
      },
      "source": [
        "\"\"\"\n",
        "!rm -rf '/content/test'\n",
        "!rm -rf '/content/valid'\n",
        "!rm -rf '/content/train'\n",
        "!rm -rf '/content/content/brain_tumor'\n",
        "\"\"\""
      ],
      "execution_count": null,
      "outputs": [
        {
          "output_type": "execute_result",
          "data": {
            "application/vnd.google.colaboratory.intrinsic+json": {
              "type": "string"
            },
            "text/plain": [
              "\"\\n!rm -rf '/content/test'\\n!rm -rf '/content/valid'\\n!rm -rf '/content/train'\\n!rm -rf '/content/content/brain_tumor'\\n\""
            ]
          },
          "metadata": {
            "tags": []
          },
          "execution_count": 207
        }
      ]
    },
    {
      "cell_type": "code",
      "metadata": {
        "id": "w4Hwk3VR1KY2"
      },
      "source": [
        "base_dir= './'\n",
        "train_dir=os.path.join(base_dir,'train')\n",
        "validation_dir=os.path.join(base_dir,'valid')\n",
        "test_dir= os.path.join(base_dir,'test')"
      ],
      "execution_count": null,
      "outputs": []
    },
    {
      "cell_type": "code",
      "metadata": {
        "id": "vx89HJS7iSOE"
      },
      "source": [
        "train_GT_dir=os.path.join(train_dir,'glioma_tumor')\n",
        "train_MT_dir=os.path.join(train_dir,'meningioma_tumor')\n",
        "train_NT_dir=os.path.join(train_dir,'no_tumor')\n",
        "train_PT_dir=os.path.join(train_dir,'pituitary_tumor')\n",
        "\n",
        "\n",
        "validation_GT_dir=os.path.join(validation_dir,'glioma_tumor')\n",
        "validation_MT_dir=os.path.join(validation_dir,'meningioma_tumor')\n",
        "validation_NT_dir=os.path.join(validation_dir,'no_tumor')\n",
        "validation_PT_dir=os.path.join(validation_dir,'pituitary_tumor')\n",
        "\n",
        "test_GT_dir=os.path.join(test_dir,'glioma_tumor')\n",
        "test_MT_dir=os.path.join(test_dir,'meningioma_tumor')\n",
        "test_NT_dir=os.path.join(test_dir,'no_tumor')\n",
        "test_PT_dir=os.path.join(test_dir,'pituitary_tumor')"
      ],
      "execution_count": null,
      "outputs": []
    },
    {
      "cell_type": "code",
      "metadata": {
        "id": "zQFmE-KLZBiN"
      },
      "source": [
        "from tensorflow.keras import layers\n",
        "from tensorflow.keras import Model"
      ],
      "execution_count": null,
      "outputs": []
    },
    {
      "cell_type": "code",
      "metadata": {
        "id": "yXKbrJzHZBwR"
      },
      "source": [
        "img_input= layers.Input(shape=(150,150,3))\n",
        "##first Conv layer\n",
        "L= layers.Conv2D(16,3,activation='relu')(img_input) ##img_inpu is previous layer ##16 is number of filetrs\n",
        "L= layers.MaxPooling2D(2)(L)\n",
        "\n",
        "##second Conv\n",
        "L= layers.Conv2D(32,3,activation='relu')(L)\n",
        "L= layers.MaxPooling2D(2)(L)\n",
        "\n",
        "\n",
        "##final one with 64 filetrs with individual 3*3 filters kernals\n",
        "\n",
        "L= layers.Conv2D(64,3,activation='relu')(L) ## Good feature with 'relu' they resist vanishing gradients\n",
        "L= layers.MaxPooling2D(2)(L)"
      ],
      "execution_count": null,
      "outputs": []
    },
    {
      "cell_type": "code",
      "metadata": {
        "id": "L09mHqUBZCZV"
      },
      "source": [
        "F= layers.Flatten()(L)\n",
        "F= layers.Dense(512,activation='relu')(F)\n",
        "output=layers.Dense(4,activation='softmax')(F)"
      ],
      "execution_count": null,
      "outputs": []
    },
    {
      "cell_type": "code",
      "metadata": {
        "id": "NkDf9IEgZN69"
      },
      "source": [
        "model= Model(img_input,output)\n",
        "model.summary()"
      ],
      "execution_count": null,
      "outputs": []
    },
    {
      "cell_type": "code",
      "metadata": {
        "id": "B2MGwI19ZQf3"
      },
      "source": [
        "from tensorflow.keras.optimizers import RMSprop"
      ],
      "execution_count": null,
      "outputs": []
    },
    {
      "cell_type": "code",
      "metadata": {
        "id": "PXBYW48EZVz5"
      },
      "source": [
        "model.compile(loss='categorical_crossentropy', \n",
        "              optimizer=RMSprop(lr=0.001),metrics=['acc'] )"
      ],
      "execution_count": null,
      "outputs": []
    },
    {
      "cell_type": "code",
      "metadata": {
        "id": "1KsLLBvkZYQJ"
      },
      "source": [
        "from tensorflow.keras.preprocessing.image import ImageDataGenerator"
      ],
      "execution_count": null,
      "outputs": []
    },
    {
      "cell_type": "code",
      "metadata": {
        "id": "XXqEThXkZbDS"
      },
      "source": [
        "train_datagen= ImageDataGenerator(rescale=1./255)\n",
        "val_datagen= ImageDataGenerator(rescale=1./255)\n",
        "\n",
        "\n",
        "train_generator= train_datagen.flow_from_directory(\n",
        "    train_dir,\n",
        "    target_size=(150,150),\n",
        "    batch_size=20,\n",
        "    class_mode='categorical'\n",
        ")\n",
        "\n",
        "validation_generator= val_datagen.flow_from_directory(\n",
        "    validation_dir,\n",
        "    target_size=(150,150),\n",
        "    batch_size=20,\n",
        "    class_mode='categorical'\n",
        ")"
      ],
      "execution_count": null,
      "outputs": []
    },
    {
      "cell_type": "code",
      "metadata": {
        "id": "lMI6paxtZiMm"
      },
      "source": [
        "history= model.fit_generator(\n",
        "    train_generator,\n",
        "    steps_per_epoch= train_generator.samples/train_generator.batch_size,\n",
        "    epochs=15,\n",
        "    validation_data= validation_generator,\n",
        "    validation_steps=validation_generator.samples/validation_generator.batch_size, verbose=2\n",
        ")"
      ],
      "execution_count": null,
      "outputs": []
    },
    {
      "cell_type": "code",
      "metadata": {
        "id": "HvkHLvnhZmFs"
      },
      "source": [
        "test_datagen= ImageDataGenerator(rescale=1./255)\n",
        "\n",
        "test_generator= test_datagen.flow_from_directory(\n",
        "    test_dir,\n",
        "    target_size=(150,150),\n",
        "    batch_size=20,\n",
        "    class_mode='categorical'\n",
        ")"
      ],
      "execution_count": null,
      "outputs": []
    },
    {
      "cell_type": "code",
      "metadata": {
        "id": "Q7SNLcf46EJh"
      },
      "source": [
        "loss, accuracy = model.evaluate(test_generator)\n",
        "print('Test accuracy :', accuracy)"
      ],
      "execution_count": null,
      "outputs": []
    },
    {
      "cell_type": "code",
      "metadata": {
        "id": "ziKgTlgqCQth"
      },
      "source": [
        "print(test_generator)"
      ],
      "execution_count": null,
      "outputs": []
    },
    {
      "cell_type": "code",
      "metadata": {
        "id": "eKMVxsDaCQ7_"
      },
      "source": [
        "pred = model.predict(test_generator)"
      ],
      "execution_count": null,
      "outputs": []
    },
    {
      "cell_type": "code",
      "metadata": {
        "id": "e6KKbbv_CRI9"
      },
      "source": [
        "import numpy as np\n",
        "y_class=[]\n",
        "for i in pred:\n",
        "  y_class.append(np.argmax(i))\n",
        "print(len(y_class))"
      ],
      "execution_count": null,
      "outputs": []
    },
    {
      "cell_type": "code",
      "metadata": {
        "id": "NYLB0LewGTob"
      },
      "source": [
        "import seaborn as sns\n",
        "import matplotlib.pyplot as plt\n",
        "import pandas as pd\n",
        "\n",
        "\n",
        "def confusion_matrix(test_y, y_class):\n",
        "  plt.figure(figsize=(10,7))\n",
        "  y_actu = pd.Series(test_y, name='Actual')\n",
        "  y_pred = pd.Series(y_class, name='Predicted')\n",
        "  cm = pd.crosstab(y_actu, y_pred)\n",
        "  ax = sns.heatmap(cm, annot=True, fmt=\"d\")\n",
        "  plt.ylabel('True label', fontsize=18, fontweight=\"bold\")\n",
        "  plt.xlabel('Predicted label',fontsize=18, fontweight=\"bold\")\n",
        "  #plt.savefig(\"/content/drive/MyDrive/cm\")\n",
        "\n",
        "\n",
        "y_true = test_generator.classes\n",
        "y_pred = y_class\n",
        "confusion_matrix(y_pred, y_true)"
      ],
      "execution_count": null,
      "outputs": []
    },
    {
      "cell_type": "code",
      "metadata": {
        "id": "H8jhpePFIzC4"
      },
      "source": [
        ""
      ],
      "execution_count": null,
      "outputs": []
    }
  ]
}