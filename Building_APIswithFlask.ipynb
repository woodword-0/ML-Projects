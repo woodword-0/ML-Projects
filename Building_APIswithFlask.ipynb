{
  "nbformat": 4,
  "nbformat_minor": 0,
  "metadata": {
    "kernelspec": {
      "display_name": "Python 3",
      "language": "python",
      "name": "python3"
    },
    "language_info": {
      "codemirror_mode": {
        "name": "ipython",
        "version": 3
      },
      "file_extension": ".py",
      "mimetype": "text/x-python",
      "name": "python",
      "nbconvert_exporter": "python",
      "pygments_lexer": "ipython3",
      "version": "3.6.10"
    },
    "colab": {
      "name": "Building APIswithFlask.ipynb",
      "provenance": [],
      "include_colab_link": true
    }
  },
  "cells": [
    {
      "cell_type": "markdown",
      "metadata": {
        "id": "view-in-github",
        "colab_type": "text"
      },
      "source": [
        "<a href=\"https://colab.research.google.com/github/woodword-0/ML-Projects/blob/main/Building_APIswithFlask.ipynb\" target=\"_parent\"><img src=\"https://colab.research.google.com/assets/colab-badge.svg\" alt=\"Open In Colab\"/></a>"
      ]
    },
    {
      "cell_type": "markdown",
      "metadata": {
        "id": "mGTabYj8-wWt"
      },
      "source": [
        "# Building Python APIs with Flask, Flask-RESTPlus and Swagger UI"
      ]
    },
    {
      "cell_type": "markdown",
      "metadata": {
        "id": "o6hh9nBx-wWu"
      },
      "source": [
        "## Medium Article Link: <https://medium.com/p/7461b3a9a2c8>"
      ]
    },
    {
      "cell_type": "markdown",
      "metadata": {
        "id": "_w8aKL3Y-wWv"
      },
      "source": [
        "## Minimal API"
      ]
    },
    {
      "cell_type": "markdown",
      "metadata": {
        "id": "86jtPHnc-wWw"
      },
      "source": [
        "```python\n",
        "from flask import Flask\n",
        "from flask_restplus import Api, Resource\n",
        "\n",
        "app = Flask(__name__)\n",
        "api = Api(app)\n",
        "\n",
        "@api.route('/hello/')\n",
        "class HelloWorld(Resource):\n",
        "    def get(self):\n",
        "        return \"Hello World\"\n",
        "    \n",
        "if __name__ == '__main__':\n",
        "    app.run()\n",
        "```"
      ]
    },
    {
      "cell_type": "markdown",
      "metadata": {
        "id": "FbCEBWzl-wWy"
      },
      "source": [
        "## Fetching Request Parameters"
      ]
    },
    {
      "cell_type": "markdown",
      "metadata": {
        "id": "14gIJVPu-wWy"
      },
      "source": [
        "```python\n",
        "from flask import Flask\n",
        "from flask_restplus import Api, Resource, reqparse\n",
        "\n",
        "app = Flask(__name__)\n",
        "api = Api(app)\n",
        "\n",
        "parser = reqparse.RequestParser()\n",
        "parser.add_argument('name', help='Specify your name')\n",
        "\n",
        "@api.route('/hello/')\n",
        "class HelloWorld(Resource):\n",
        "    \n",
        "    @api.doc(parser=parser)\n",
        "    def get(self):        \n",
        "        args = parser.parse_args()\n",
        "        name = args['name']\n",
        "        return \"Hello \" + name\n",
        "    \n",
        "if __name__ == '__main__':\n",
        "    app.run()\n",
        "```"
      ]
    },
    {
      "cell_type": "markdown",
      "metadata": {
        "id": "w9fU64Kd-wWz"
      },
      "source": [
        "## File Upload"
      ]
    },
    {
      "cell_type": "markdown",
      "metadata": {
        "id": "51bEjP43-wWz"
      },
      "source": [
        "```python\n",
        "from flask import Flask\n",
        "from flask_restplus import Api, Resource\n",
        "from werkzeug.datastructures import FileStorage\n",
        "\n",
        "app = Flask(__name__)\n",
        "api = Api(app)\n",
        "\n",
        "upload_parser = api.parser()\n",
        "upload_parser.add_argument('file', \n",
        "                           location='files',\n",
        "                           type=FileStorage)\n",
        "\n",
        "\n",
        "@api.route('/upload/')\n",
        "@api.expect(upload_parser)\n",
        "class UploadDemo(Resource):\n",
        "    def post(self):\n",
        "        args = upload_parser.parse_args()\n",
        "        file = args.get('file')\n",
        "        print(file.filename)\n",
        "        return \"Uploaded file is \" + file.filename\n",
        "\n",
        "if __name__ == '__main__':\n",
        "    app.run()    \n",
        "```"
      ]
    },
    {
      "cell_type": "markdown",
      "metadata": {
        "id": "qgeH5w1f-wW1"
      },
      "source": [
        "If you get the following error while deploying:  \n",
        "\n",
        "```python\n",
        "from werkzeug import cached_property\n",
        "ImportError: cannot import name 'cached_property'\n",
        "```\n",
        "\n",
        "Add this line before `from werkzeug.datastructures import FileStorage`:\n",
        "```python\n",
        "import werkzeug\n",
        "werkzeug.cached_property = werkzeug.utils.cached_property\n",
        "```"
      ]
    },
    {
      "cell_type": "markdown",
      "metadata": {
        "id": "ogHoLv5q-wW2"
      },
      "source": [
        "## API Parameters"
      ]
    },
    {
      "cell_type": "markdown",
      "metadata": {
        "id": "q68mRtMW-wW2"
      },
      "source": [
        "```python\n",
        "api = Api(app,\n",
        "          version='10.5',\n",
        "          title='Flask Restplus Demo',\n",
        "          description='Demo to show various API parameters',\n",
        "          license='MIT',\n",
        "          contact='Jimit Dholakia',\n",
        "          contact_url='https://in.linkedin.com/in/jimit105',\n",
        "          doc = '/docs/',\n",
        "          prefix='/test'\n",
        "          )\n",
        "```"
      ]
    }
  ]
}