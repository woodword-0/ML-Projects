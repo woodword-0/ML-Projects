{
  "nbformat": 4,
  "nbformat_minor": 0,
  "metadata": {
    "colab": {
      "name": "KNN.ipynb",
      "provenance": [],
      "collapsed_sections": [],
      "authorship_tag": "ABX9TyMSp2E8VilY8dalR7Bf1DxE",
      "include_colab_link": true
    },
    "kernelspec": {
      "name": "python3",
      "display_name": "Python 3"
    },
    "language_info": {
      "name": "python"
    }
  },
  "cells": [
    {
      "cell_type": "markdown",
      "metadata": {
        "id": "view-in-github",
        "colab_type": "text"
      },
      "source": [
        "<a href=\"https://colab.research.google.com/github/woodword-0/ML-Projects/blob/main/KNN.ipynb\" target=\"_parent\"><img src=\"https://colab.research.google.com/assets/colab-badge.svg\" alt=\"Open In Colab\"/></a>"
      ]
    },
    {
      "cell_type": "code",
      "metadata": {
        "id": "SntnQ7X2vID-"
      },
      "source": [
        "import pandas as pd\n",
        "import numpy as np\n",
        "import matplotlib.pyplot as plt\n",
        "import seaborn as sns\n",
        "import scipy as sp\n",
        "from scipy.stats import multivariate_normal as mvn\n",
        "from numpy import dot\n",
        "from numpy.linalg import norm\n",
        "import time\n"
      ],
      "execution_count": null,
      "outputs": []
    },
    {
      "cell_type": "code",
      "metadata": {
        "id": "ODmPZb-lvMMo"
      },
      "source": [
        "df1 = pd.read_csv('/MNIST_train.csv')\n",
        "df2 = pd.read_csv('/MNIST_test.csv')"
      ],
      "execution_count": null,
      "outputs": []
    },
    {
      "cell_type": "code",
      "metadata": {
        "id": "bM53hbDCvPTe"
      },
      "source": [
        "X_train = (1/255)*df1.iloc[:,3:].to_numpy()\n",
        "y_train = df1.iloc[:,2].to_numpy()\n",
        "X_test = (1/255)*df2.iloc[:,3:].to_numpy()\n",
        "y_test = df2.iloc[:, 2].to_numpy()"
      ],
      "execution_count": null,
      "outputs": []
    },
    {
      "cell_type": "code",
      "metadata": {
        "id": "OhVGi60dXeXm"
      },
      "source": [
        "y_train.shape\n",
        "X_train.shape"
      ],
      "execution_count": null,
      "outputs": []
    },
    {
      "cell_type": "code",
      "metadata": {
        "id": "S2Gu8XsGvXVU"
      },
      "source": [
        "#KNN classifier"
      ],
      "execution_count": null,
      "outputs": []
    },
    {
      "cell_type": "code",
      "metadata": {
        "id": "XFw3UO0HvZ35"
      },
      "source": [
        "class KNNClassifier():\n",
        "  def fit(self, X, y):\n",
        "    self.X = X\n",
        "    self.y = y\n",
        "  def predict(self, X, K, epsilon = 1e-3):\n",
        "    N = len(X)\n",
        "    y_hat = np.zeros(N)\n",
        "\n",
        "    for i in range(N):\n",
        "      dist2 = np.sum((self.X-X[i])**2, axis = 1) #np.dot(X, X[i])/(norm(X)*norm(X[i]))\n",
        "      idxt = np.argsort(dist2)[:K]\n",
        "      gamma_k = 1/(np.sqrt(dist2[idxt])+epsilon)\n",
        "      y_hat[i] = np.bincount(self.y[idxt], weights = gamma_k).argmax()\n",
        "\n",
        "    return y_hat"
      ],
      "execution_count": null,
      "outputs": []
    },
    {
      "cell_type": "code",
      "metadata": {
        "id": "1Y8YEl4ZDaNc"
      },
      "source": [
        "start_time = time.time()\n",
        "knn = KNNClassifier()\n",
        "knn.fit(X_train,y_train)\n",
        "print(\"--- %s seconds ---\" % (time.time() - start_time))"
      ],
      "execution_count": null,
      "outputs": []
    },
    {
      "cell_type": "code",
      "metadata": {
        "id": "lsxrWtc7Df9o"
      },
      "source": [
        "start_time = time.time()\n",
        "y_hat = knn.predict(X_train,1000)\n",
        "print(\"--- %s seconds ---\" % (time.time() - start_time))"
      ],
      "execution_count": null,
      "outputs": []
    },
    {
      "cell_type": "code",
      "metadata": {
        "id": "rrDeqnbvEX_m"
      },
      "source": [
        "def accuracyGB(y_train,y_hat_GB):\n",
        "    return np.mean(y_train == y_hat_GB)"
      ],
      "execution_count": null,
      "outputs": []
    },
    {
      "cell_type": "code",
      "metadata": {
        "id": "jqYbTdVOEsHs"
      },
      "source": [
        "print(accuracyGB(y_train ,y_hat_GB))"
      ],
      "execution_count": null,
      "outputs": []
    },
    {
      "cell_type": "code",
      "metadata": {
        "id": "Ij4h6CktveJ4"
      },
      "source": [
        "start_time = time.time()\n",
        "knn = KNNClassifier()\n",
        "knn.fit(X_train,y_train)\n",
        "print(\"--- %s seconds ---\" % (time.time() - start_time))"
      ],
      "execution_count": null,
      "outputs": []
    },
    {
      "cell_type": "code",
      "metadata": {
        "id": "Udp6sdnqviTm"
      },
      "source": [
        "start_time = time.time()\n",
        "y_hat = knn.predict(X_test,1000)\n",
        "print(\"--- %s seconds ---\" % (time.time() - start_time))"
      ],
      "execution_count": null,
      "outputs": []
    },
    {
      "cell_type": "code",
      "metadata": {
        "id": "r3ntCx-pvl0a"
      },
      "source": [
        "def accuracy(y_test,y_hat):\n",
        "    return np.mean(y_test == y_hat)"
      ],
      "execution_count": null,
      "outputs": []
    },
    {
      "cell_type": "code",
      "metadata": {
        "id": "u1zRxMWo5W49"
      },
      "source": [
        "accuracy(y_test,y_hat) #K = 1000"
      ],
      "execution_count": null,
      "outputs": []
    },
    {
      "cell_type": "code",
      "metadata": {
        "id": "BNbcUZdgvmr4"
      },
      "source": [
        "accuracy(y_test,y_hat) #K = 3"
      ],
      "execution_count": null,
      "outputs": []
    },
    {
      "cell_type": "code",
      "metadata": {
        "id": "304tIX7szrxC"
      },
      "source": [
        "def show_me(X):\n",
        "  plt.imshow(X.reshape(28,28))\n",
        "def show_me_allmean(X,y,k):\n",
        "  show_me(X[y==k,:]/len(X[y==k,:]))"
      ],
      "execution_count": null,
      "outputs": []
    },
    {
      "cell_type": "code",
      "metadata": {
        "id": "6zGmZy7rz0R2"
      },
      "source": [
        "show_me(X_test[8])"
      ],
      "execution_count": null,
      "outputs": []
    },
    {
      "cell_type": "code",
      "metadata": {
        "id": "pbhF_c_Y2QHL"
      },
      "source": [
        "knn.predict(X_test[8:9],3)"
      ],
      "execution_count": null,
      "outputs": []
    },
    {
      "cell_type": "code",
      "metadata": {
        "id": "mT1op9guMONc"
      },
      "source": [
        "X_test[0:1].shape"
      ],
      "execution_count": null,
      "outputs": []
    },
    {
      "cell_type": "code",
      "metadata": {
        "id": "Qwf0OU1B4MeE"
      },
      "source": [
        "show_me_allmean(X_test[0:1],y_test[0:1],7)"
      ],
      "execution_count": null,
      "outputs": []
    },
    {
      "cell_type": "code",
      "metadata": {
        "id": "U0-CfNwARLOj"
      },
      "source": [
        "plt.figure(figsize=(10,7))\n",
        "y_actu = pd.Series(y_test,name = 'Actual')\n",
        "y_pred = pd.Series(y_hat, name = 'Predicted')\n",
        "cm = pd.crosstab(y_actu, y_pred)\n",
        "ax = sns.heatmap(cm,annot = True, fmt = 'd')\n",
        "plt.ylabel('True Label')\n",
        "plt.xlabel('Predicted Label')"
      ],
      "execution_count": null,
      "outputs": []
    }
  ]
}