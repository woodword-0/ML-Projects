{
  "nbformat": 4,
  "nbformat_minor": 0,
  "metadata": {
    "colab": {
      "name": "SimpleLinearRegression.ipynb",
      "provenance": [],
      "collapsed_sections": [],
      "authorship_tag": "ABX9TyP4NqvQ/KWY3ZlwGkCbYnpF",
      "include_colab_link": true
    },
    "kernelspec": {
      "display_name": "Python 3",
      "name": "python3"
    },
    "language_info": {
      "name": "python"
    }
  },
  "cells": [
    {
      "cell_type": "markdown",
      "metadata": {
        "id": "view-in-github",
        "colab_type": "text"
      },
      "source": [
        "<a href=\"https://colab.research.google.com/github/woodword-0/ML-Projects/blob/main/SimpleLinearRegression.ipynb\" target=\"_parent\"><img src=\"https://colab.research.google.com/assets/colab-badge.svg\" alt=\"Open In Colab\"/></a>"
      ]
    },
    {
      "cell_type": "code",
      "metadata": {
        "id": "A-vpGry7n7Lx"
      },
      "source": [
        "import numpy as np\n",
        "import pandas as pd\n",
        "import matplotlib.pyplot as plt\n",
        "import statistics as stat\n",
        "from scipy import stats\n",
        "import seaborn as sns; sns.set_theme()\n",
        "missing_values = ['NA','n/a',\"\",'','N/A','None','none','NONE','n.a.','?','Nan','nan','NaN']\n",
        "df = pd.read_csv('/content/raw_house_data.csv', na_values = missing_values)\n",
        "\n",
        "#replace all instances of \"None\" with zero\n",
        "#df = df.replace(\"None\", 0)\n",
        "#Columns with missing values\n",
        "nan_col = []\n",
        "for col in df.head():\n",
        "    nan = df[col].isnull().values.any()\n",
        "    if nan == True:\n",
        "        nan_col.append(col)\n",
        "print(nan_col)\n",
        "#replace all instances of \"None\" with zero\n",
        "#df1 = df.replace(\"missing_values\", 0)"
      ],
      "execution_count": null,
      "outputs": []
    },
    {
      "cell_type": "code",
      "metadata": {
        "id": "IV-trqO1oIIB"
      },
      "source": [
        "df.to_numpy()"
      ],
      "execution_count": null,
      "outputs": []
    },
    {
      "cell_type": "markdown",
      "metadata": {
        "id": "lEyuWrNmoUma"
      },
      "source": [
        "\n",
        "\n",
        "```\n",
        "# This is formatted as code\n",
        "```\n",
        "\n",
        "Cleaning Data"
      ]
    },
    {
      "cell_type": "code",
      "metadata": {
        "id": "nPYg1UcNoLzw"
      },
      "source": [
        "#Drop Nan in Column\n",
        "df = df[df['floor_covering'].notna()]\n",
        "#Frequency encoding value counts to replace kitchen features\n",
        "df['floor_covering'] = df['floor_covering'].map(df['floor_covering'].value_counts())"
      ],
      "execution_count": null,
      "outputs": []
    },
    {
      "cell_type": "code",
      "metadata": {
        "id": "CXkseLV6oZKZ"
      },
      "source": [
        "\n",
        "#Drop Nan in Column\n",
        "df = df[df['kitchen_features'].notna()]\n",
        "#Frequency encoding value counts to replace kitchen features\n",
        "df['kitchen_features'] = df['kitchen_features'].map(df['kitchen_features'].value_counts())"
      ],
      "execution_count": null,
      "outputs": []
    },
    {
      "cell_type": "code",
      "metadata": {
        "id": "Uk-fA5dYoe9Q"
      },
      "source": [
        "#Fill in missing values with 0\n",
        "df['bathrooms'] = df['bathrooms'].fillna(0)\n",
        "df['garage'] = df['garage'].fillna(0)\n",
        "df['HOA'] = df['HOA'].fillna(0)"
      ],
      "execution_count": null,
      "outputs": []
    },
    {
      "cell_type": "code",
      "metadata": {
        "id": "sMAqdFp0omgy"
      },
      "source": [
        "#Fill in by the mean\n",
        "df['sqrt_ft'] = df['sqrt_ft'].fillna(df['sqrt_ft'].mean())\n",
        "df['lot_acres'] = df['lot_acres'].fillna(df['lot_acres'].mean())"
      ],
      "execution_count": null,
      "outputs": []
    },
    {
      "cell_type": "code",
      "metadata": {
        "id": "jT-VkYaxpraM"
      },
      "source": [
        "# df.drop(df[df['latitude'] > 33].index, inplace = True)\n",
        "# df.drop(df[df['longitude'] < -112].index, inplace = True)\n",
        "# df.drop(df[df['longitude'] > -110].index, inplace = True)"
      ],
      "execution_count": null,
      "outputs": []
    },
    {
      "cell_type": "code",
      "metadata": {
        "id": "pp7DCaUupE1j"
      },
      "source": [
        "#Columns with missing values\n",
        "nan_col = []\n",
        "for col in df.head():\n",
        "    nan = df[col].isnull().values.any()\n",
        "    if nan == True:\n",
        "        nan_col.append(col)\n",
        "print(nan_col)"
      ],
      "execution_count": null,
      "outputs": []
    },
    {
      "cell_type": "markdown",
      "metadata": {
        "id": "J5o9NuC5pH8s"
      },
      "source": [
        "\n",
        "\n",
        "```\n",
        "`# This is formatted as code`\n",
        "```\n",
        "\n",
        "Feature Engineering"
      ]
    },
    {
      "cell_type": "code",
      "metadata": {
        "id": "1TBfIO8Uroa3"
      },
      "source": [
        "#Calculating Distances\n",
        "A = []\n",
        "for i in df['latitude'].index:\n",
        "  A.append((np.sqrt((df['latitude'].mean() - df['latitude'][i])**2 + (df['longitude'].mean() - df['longitude'][i])**2)))"
      ],
      "execution_count": null,
      "outputs": []
    },
    {
      "cell_type": "code",
      "metadata": {
        "id": "NELSWeJsrurf"
      },
      "source": [
        "#Assigning a distances column to the dataframe\n",
        "df = df.assign(distances = A)\n",
        "df = df.assign(distances_raw = A)\n",
        "df = df.assign(distance_bins = A)"
      ],
      "execution_count": null,
      "outputs": []
    },
    {
      "cell_type": "code",
      "metadata": {
        "id": "6S7FAIfvsAEA"
      },
      "source": [
        "#bining the distances\n",
        "# bin_labels_5 = ['1','2','3','4','5','6','7','8']\n",
        "# pd.cut(df['distances'], bins=5)\n",
        "# df = df.assign(distance_bins = A)"
      ],
      "execution_count": null,
      "outputs": []
    },
    {
      "cell_type": "code",
      "metadata": {
        "id": "qJNxwX71sV6X"
      },
      "source": [
        "# #Using the bins to bin location\n",
        "# df1 = df.loc[df['distances'] > 0.143, 'latitude'] = 1\n",
        "# df2 = df.loc[df['distances'] > 0.143, 'longitude'] = 1\n",
        "# df3 = df.loc[df['distances'] > 0.284, 'latitude'] = 2\n",
        "# df4 = df.loc[df['distances'] > 0.284, 'longitude'] = 2\n",
        "# df5 = df.loc[df['distances'] > 0.426, 'latitude'] = 3\n",
        "# df6 = df.loc[df['distances'] > 0.426, 'longitude'] = 3\n",
        "# df7 = df.loc[df['distances'] > 0.567, 'latitude'] = 4\n",
        "# df8 = df.loc[df['distances'] > 0.567, 'longitude'] = 4\n",
        "# df9 = df.loc[df['distances'] > 0.709, 'latitude'] = 5\n",
        "# df10 = df.loc[df['distances'] > 0.709, 'longitude'] = 5\n",
        "# df11 = df.loc[df['distances'] > 0.85, 'latitude'] = 6\n",
        "# df12 = df.loc[df['distances'] > 0.85, 'longitude'] = 6\n",
        "# df13 = df.loc[df['distances'] > 0.991, 'latitude'] = 7\n",
        "# df14 = df.loc[df['distances'] > 0.991, 'longitude'] = 7\n",
        "# # df15 = df.loc[df['distances'] > 0.57, 'latitude']\n",
        "# # df16 = df.loc[df['distances'] > 0.57, 'longitude']\n",
        "# # df17 = df.loc[df['distances'] > 0.68, 'latitude']\n",
        "# # df18 = df.loc[df['distances'] > 0.68, 'longitude']"
      ],
      "execution_count": null,
      "outputs": []
    },
    {
      "cell_type": "code",
      "metadata": {
        "id": "YbDLW1-B39JM"
      },
      "source": [
        "#categorizing the tax bin by government income bracket\n",
        "bin_labels_7 = ['1','2','3','4','5','6','7']\n",
        "bins = [0,2000,5000,8000,20000,40125,85525,12215075]\n",
        "tax_bins = pd.cut(df['taxes'], bins, labels = bin_labels_7,include_lowest=True)\n",
        "df = df.assign(tax_bracket = tax_bins)\n",
        "bin_labels_5 = ['1','2','3','4','5']\n",
        "bin_labels_c = ['r','m','c','b','g']\n",
        "\n",
        "df['distances'] = pd.cut(df['distances'], bins = 5, labels = bin_labels_5)\n",
        "df['distance_bins'] = pd.cut(df['distance_bins'], bins = 5, labels = bin_labels_c)"
      ],
      "execution_count": null,
      "outputs": []
    },
    {
      "cell_type": "code",
      "metadata": {
        "id": "NOyAFv95Ib1A"
      },
      "source": [
        "bin1 = df.loc[df['tax_bracket'] == '1','tax_bracket'] \n",
        "bin2 = df.loc[df['tax_bracket'] == '2','tax_bracket']\n",
        "bin3 = df.loc[df['tax_bracket'] == '3','tax_bracket']\n",
        "bin4 = df.loc[df['tax_bracket'] == '4','tax_bracket']\n",
        "bin5 = df.loc[df['tax_bracket'] == '5','tax_bracket']\n",
        "bin6 = df.loc[df['tax_bracket'] == '6','tax_bracket']\n",
        "bin7 = df.loc[df['tax_bracket'] == '7','tax_bracket']"
      ],
      "execution_count": null,
      "outputs": []
    },
    {
      "cell_type": "code",
      "metadata": {
        "id": "Z23NzG3TZjtm"
      },
      "source": [
        "tax_bracket1 = []\n",
        "for i in df['taxes'].index:\n",
        "  if df['taxes'][i] <= 9875:\n",
        "    tax_bracket1.append(df['taxes'][i])"
      ],
      "execution_count": null,
      "outputs": []
    },
    {
      "cell_type": "code",
      "metadata": {
        "id": "YVaDmoekci7R"
      },
      "source": [
        "bin1 = df.loc[df['tax_bracket'] == '1','taxes']\n",
        "bin2 = df.loc[df['tax_bracket'] == '2','taxes']\n",
        "bin3 = df.loc[df['tax_bracket'] == '3','taxes']\n",
        "bin4 = df.loc[df['tax_bracket'] == '4','taxes']\n",
        "bin5 = df.loc[df['tax_bracket'] == '5','taxes']\n",
        "bin6 = df.loc[df['tax_bracket'] == '6','taxes']\n",
        "bin7 = df.loc[df['tax_bracket'] == '7','taxes']"
      ],
      "execution_count": null,
      "outputs": []
    },
    {
      "cell_type": "code",
      "metadata": {
        "id": "4MY5DODqLhdo"
      },
      "source": [
        "#Returns a list of tax brackets for each location\n",
        "locator1 = df.loc[df['distances'] == '1','tax_bracket'] #All tax brackets in location 1\n",
        "locator2 = df.loc[df['distances'] == '2','tax_bracket']\n",
        "locator3 = df.loc[df['distances'] == '3','tax_bracket']\n",
        "locator4 = df.loc[df['distances'] == '4','tax_bracket']\n",
        "locator5 = df.loc[df['distances'] == '5','tax_bracket']\n",
        "# locator6 = df.loc[df['distances'] == '6','tax_bracket']\n",
        "# locator7 = df.loc[df['distances'] == '7','tax_bracket']\n",
        "# locator8 = df.loc[df['distances'] == '8','tax_bracket']\n",
        "# locator9 = df.loc[df['distances'] == '9','tax_bracket']\n",
        "# locator10 = df.loc[df['distances'] == '10','tax_bracket']"
      ],
      "execution_count": null,
      "outputs": []
    },
    {
      "cell_type": "code",
      "metadata": {
        "id": "lj0bmJMm1OSP"
      },
      "source": [
        "#Adds columns\n",
        "df = df.assign(bracket_1 = locator1) #For i = 1,2,3,4,5 column contains all tax brackets for that location.\n",
        "df = df.assign(bracket_2 = locator2)\n",
        "df = df.assign(bracket_3 = locator3)\n",
        "df = df.assign(bracket_4 = locator4)\n",
        "df = df.assign(bracket_5 = locator5)\n",
        "# df = df.assign(bracket_6 = locator6) #For i = 1,2,3,4,5 column contains all tax brackets for that i.\n",
        "# df = df.assign(bracket_7 = locator7)\n",
        "# df = df.assign(bracket_8 = locator8)\n",
        "# df = df.assign(bracket_9 = locator9)\n",
        "# df = df.assign(bracket_10 = locator10)"
      ],
      "execution_count": null,
      "outputs": []
    },
    {
      "cell_type": "code",
      "metadata": {
        "id": "NWxyFm3gGozC"
      },
      "source": [
        "#Add empty category zero for imputing\n",
        "df['bracket_1'] = df['bracket_1'].cat.add_categories(0)\n",
        "df['bracket_2'] = df['bracket_2'].cat.add_categories(0)\n",
        "df['bracket_3'] = df['bracket_3'].cat.add_categories(0)\n",
        "df['bracket_4'] = df['bracket_4'].cat.add_categories(0)\n",
        "df['bracket_5'] = df['bracket_5'].cat.add_categories(0)\n",
        "# df['bracket_6'] = df['bracket_6'].cat.add_categories(0)\n",
        "# df['bracket_7'] = df['bracket_7'].cat.add_categories(0)\n",
        "# df['bracket_8'] = df['bracket_8'].cat.add_categories(0)\n",
        "# df['bracket_9'] = df['bracket_9'].cat.add_categories(0)\n",
        "# df['bracket_10'] = df['bracket_10'].cat.add_categories(0)"
      ],
      "execution_count": null,
      "outputs": []
    },
    {
      "cell_type": "code",
      "metadata": {
        "id": "1Ry-7xYHTiv5"
      },
      "source": [
        "#Change to float or int\n",
        "df['distances'] = df['distances'].astype('int')\n",
        "df['bracket_1'] = df['bracket_1'].fillna(0).astype('int')\n",
        "df['bracket_2'] = df['bracket_2'].fillna(0).astype('int')\n",
        "df['bracket_3'] = df['bracket_3'].fillna(0).astype('int')\n",
        "df['bracket_4'] = df['bracket_4'].fillna(0).astype('int')\n",
        "df['bracket_5'] = df['bracket_5'].fillna(0).astype('int')\n",
        "df['distances'] = df['distances'].astype('int')\n",
        "# df['bracket_6'] = df['bracket_6'].fillna(0).astype('int')\n",
        "# df['bracket_7'] = df['bracket_7'].fillna(0).astype('int')\n",
        "# df['bracket_8'] = df['bracket_8'].fillna(0).astype('int')\n",
        "# df['bracket_9'] = df['bracket_9'].fillna(0).astype('int')\n",
        "# df['bracket_10'] = df['bracket_10'].fillna(0).astype('int')\n",
        "df['tax_bracket'] = df['tax_bracket'].astype('int')"
      ],
      "execution_count": null,
      "outputs": []
    },
    {
      "cell_type": "code",
      "metadata": {
        "id": "GHQ-1gHHnJnX"
      },
      "source": [
        "#Replaces value with appropriate taxbracket by location\n",
        "df.loc[df['bracket_1'] == 1, 'distances'] = 11\n",
        "df.loc[df['bracket_1'] == 2, 'distances'] = 12\n",
        "df.loc[df['bracket_1'] == 3, 'distances'] = 13\n",
        "df.loc[df['bracket_1'] == 4, 'distances'] = 14\n",
        "df.loc[df['bracket_1'] == 5, 'distances'] = 15\n",
        "df.loc[df['bracket_1'] == 6, 'distances'] = 16\n",
        "df.loc[df['bracket_1'] == 7, 'distances'] = 17 #location 1 bracket 7\n",
        "# df.loc[df['bracket_1'] == 8, 'distances'] = 18\n",
        "# df.loc[df['bracket_1'] == 9, 'distances'] = 19\n",
        "# df.loc[df['bracket_1'] == 10, 'distances'] = 110"
      ],
      "execution_count": null,
      "outputs": []
    },
    {
      "cell_type": "code",
      "metadata": {
        "id": "EdDnb6QEnA47"
      },
      "source": [
        "df.loc[df['bracket_2'] == 1, 'distances'] = 21\n",
        "df.loc[df['bracket_2'] == 2, 'distances'] = 22\n",
        "df.loc[df['bracket_2'] == 3, 'distances'] = 23\n",
        "df.loc[df['bracket_2'] == 4, 'distances'] = 24\n",
        "df.loc[df['bracket_2'] == 5, 'distances'] = 25\n",
        "df.loc[df['bracket_2'] == 6, 'distances'] = 26\n",
        "df.loc[df['bracket_2'] == 7, 'distances'] = 27\n",
        "# df.loc[df['bracket_2'] == 8, 'distances'] = 28"
      ],
      "execution_count": null,
      "outputs": []
    },
    {
      "cell_type": "code",
      "metadata": {
        "id": "AS5pft9ElU6A"
      },
      "source": [
        "df.loc[df['bracket_3'] == 1, 'distances'] = 31\n",
        "df.loc[df['bracket_3'] == 2, 'distances'] = 32\n",
        "df.loc[df['bracket_3'] == 3, 'distances'] = 33\n",
        "df.loc[df['bracket_3'] == 4, 'distances'] = 34\n",
        "df.loc[df['bracket_3'] == 5, 'distances'] = 35\n",
        "df.loc[df['bracket_3'] == 6, 'distances'] = 36\n",
        "df.loc[df['bracket_3'] == 7, 'distances'] = 37\n",
        "# df.loc[df['bracket_3'] == 8, 'distances'] = 38"
      ],
      "execution_count": null,
      "outputs": []
    },
    {
      "cell_type": "code",
      "metadata": {
        "id": "pNRtOnlLmYD0"
      },
      "source": [
        "df.loc[df['bracket_4'] == 1, 'distances'] = 41\n",
        "df.loc[df['bracket_4'] == 2, 'distances'] = 42\n",
        "df.loc[df['bracket_4'] == 3, 'distances'] = 43\n",
        "df.loc[df['bracket_4'] == 4, 'distances'] = 44\n",
        "df.loc[df['bracket_4'] == 5, 'distances'] = 45\n",
        "df.loc[df['bracket_4'] == 6, 'distances'] = 46\n",
        "df.loc[df['bracket_4'] == 7, 'distances'] = 47\n",
        "# df.loc[df['bracket_4'] == 8, 'distances'] = 48"
      ],
      "execution_count": null,
      "outputs": []
    },
    {
      "cell_type": "code",
      "metadata": {
        "id": "vICrDnzjmfyD"
      },
      "source": [
        "df.loc[df['bracket_5'] == 1, 'distances'] = 51\n",
        "df.loc[df['bracket_5'] == 2, 'distances'] = 52\n",
        "df.loc[df['bracket_5'] == 3, 'distances'] = 53\n",
        "df.loc[df['bracket_5'] == 4, 'distances'] = 54\n",
        "df.loc[df['bracket_5'] == 5, 'distances'] = 55\n",
        "df.loc[df['bracket_5'] == 6, 'distances'] = 56\n",
        "df.loc[df['bracket_5'] == 7, 'distances'] = 57\n",
        "# df.loc[df['bracket_5'] == 8, 'distances'] = 58"
      ],
      "execution_count": null,
      "outputs": []
    },
    {
      "cell_type": "code",
      "metadata": {
        "id": "8gKJ62FKU5M9"
      },
      "source": [
        "# df.loc[df['bracket_6'] == 1, 'distances'] = 61\n",
        "# df.loc[df['bracket_6'] == 2, 'distances'] = 62\n",
        "# df.loc[df['bracket_6'] == 3, 'distances'] = 63\n",
        "# df.loc[df['bracket_6'] == 4, 'distances'] = 64\n",
        "# df.loc[df['bracket_6'] == 5, 'distances'] = 65\n",
        "# df.loc[df['bracket_6'] == 6, 'distances'] = 66\n",
        "# df.loc[df['bracket_6'] == 7, 'distances'] = 67\n",
        "# df.loc[df['bracket_6'] == 8, 'distances'] = 68"
      ],
      "execution_count": null,
      "outputs": []
    },
    {
      "cell_type": "code",
      "metadata": {
        "id": "j8cN8LaUVFzT"
      },
      "source": [
        "# df.loc[df['bracket_7'] == 1, 'distances'] = 71\n",
        "# df.loc[df['bracket_7'] == 2, 'distances'] = 72\n",
        "# df.loc[df['bracket_7'] == 3, 'distances'] = 73\n",
        "# df.loc[df['bracket_7'] == 4, 'distances'] = 74\n",
        "# df.loc[df['bracket_7'] == 5, 'distances'] = 75\n",
        "# df.loc[df['bracket_7'] == 6, 'distances'] = 76\n",
        "# df.loc[df['bracket_7'] == 7, 'distances'] = 77\n",
        "# df.loc[df['bracket_7'] == 8, 'distances'] = 78"
      ],
      "execution_count": null,
      "outputs": []
    },
    {
      "cell_type": "code",
      "metadata": {
        "id": "WDUHLZbAVL6I"
      },
      "source": [
        "# df.loc[df['bracket_8'] == 1, 'distances'] = 81\n",
        "# df.loc[df['bracket_8'] == 2, 'distances'] = 82\n",
        "# df.loc[df['bracket_8'] == 3, 'distances'] = 83\n",
        "# df.loc[df['bracket_8'] == 4, 'distances'] = 84\n",
        "# df.loc[df['bracket_8'] == 5, 'distances'] = 85\n",
        "# df.loc[df['bracket_8'] == 6, 'distances'] = 86\n",
        "# df.loc[df['bracket_8'] == 7, 'distances'] = 87\n",
        "# df.loc[df['bracket_8'] == 8, 'distances'] = 88"
      ],
      "execution_count": null,
      "outputs": []
    },
    {
      "cell_type": "code",
      "metadata": {
        "id": "fYQfzYp_VQ6L"
      },
      "source": [
        "# df.loc[df['bracket_9'] == 1, 'distances'] = 91\n",
        "# df.loc[df['bracket_9'] == 2, 'distances'] = 92\n",
        "# df.loc[df['bracket_9'] == 3, 'distances'] = 93\n",
        "# df.loc[df['bracket_9'] == 4, 'distances'] = 94\n",
        "# df.loc[df['bracket_9'] == 5, 'distances'] = 95"
      ],
      "execution_count": null,
      "outputs": []
    },
    {
      "cell_type": "code",
      "metadata": {
        "id": "4AmaTH4xVV_W"
      },
      "source": [
        "# df.loc[df['bracket_10'] == 1, 'distances'] = 101\n",
        "# df.loc[df['bracket_10'] == 2, 'distances'] = 102\n",
        "# df.loc[df['bracket_10'] == 3, 'distances'] = 103\n",
        "# df.loc[df['bracket_10'] == 4, 'distances'] = 104\n",
        "# df.loc[df['bracket_10'] == 5, 'distances'] = 105"
      ],
      "execution_count": null,
      "outputs": []
    },
    {
      "cell_type": "code",
      "metadata": {
        "colab": {
          "base_uri": "https://localhost:8080/"
        },
        "id": "VvicaNy9VDix",
        "outputId": "814116a8-8e13-47a0-fa36-9c1faa6efcaa"
      },
      "source": [
        "#Columns with missing values\n",
        "nan_col = []\n",
        "for col in df.head():\n",
        "    nan = df[col].isnull().values.any()\n",
        "    if nan == True:\n",
        "        nan_col.append(col)\n",
        "print(nan_col)"
      ],
      "execution_count": null,
      "outputs": [
        {
          "output_type": "stream",
          "text": [
            "[]\n"
          ],
          "name": "stdout"
        }
      ]
    },
    {
      "cell_type": "markdown",
      "metadata": {
        "id": "DmE6BI6DqXsS"
      },
      "source": [
        "Normalizing"
      ]
    },
    {
      "cell_type": "code",
      "metadata": {
        "id": "NtIhbr1BqZeA"
      },
      "source": [
        "df['sold_price'] = df.apply(lambda x: x['sold_price']/x['sqrt_ft'], axis=1)"
      ],
      "execution_count": null,
      "outputs": []
    },
    {
      "cell_type": "code",
      "metadata": {
        "id": "6USotVyisSLz"
      },
      "source": [
        "df['year_built'] = 2021 - df['year_built']\n",
        "df['MLS']=(df['MLS']-df['MLS'].min())/(df['MLS'].max()-df['MLS'].min())\n",
        "df['zipcode']=(df['zipcode']-df['zipcode'].min())/(df['zipcode'].max()-df['zipcode'].min())\n",
        "df['sold_price']=(df['sold_price']-df['sold_price'].min())/(df['sold_price'].max()-df['sold_price'].min())\n",
        "# df['latitude']=(df['latitude']-df['latitude'].min())/(df['latitude'].max()-df['latitude'].min())\n",
        "# df['longitude']=(df['longitude']-df['longitude'].min())/(df['longitude'].max()-df['longitude'].min())\n",
        "df['taxes']=(df['taxes']-df['taxes'].min())/(df['taxes'].max()-df['taxes'].min())\n",
        "df['year_built']=(df['year_built']-df['year_built'].min())/(df['year_built'].max()-df['year_built'].min())\n",
        "df['bedrooms']=(df['bedrooms']-df['bedrooms'].min())/(df['bedrooms'].max()-df['bedrooms'].min())\n",
        "df['bathrooms']=(df['bathrooms']-df['bathrooms'].min())/(df['bathrooms'].max()-df['bathrooms'].min())\n",
        "df['garage']=(df['garage']-df['garage'].min())/(df['garage'].max()-df['garage'].min())\n",
        "df['kitchen_features']=(df['kitchen_features']-df['kitchen_features'].min())/(df['kitchen_features'].max()-df['kitchen_features'].min())\n",
        "df['floor_covering']=(df['floor_covering']-df['floor_covering'].min())/(df['floor_covering'].max()-df['floor_covering'].min())\n",
        "df['tax_bracket']=(df['tax_bracket']-df['tax_bracket'].min())/(df['tax_bracket'].max()-df['tax_bracket'].min())\n",
        "df['bracket_1']=(df['bracket_1']-df['bracket_1'].min())/(df['bracket_1'].max()-df['bracket_1'].min())\n",
        "df['bracket_2']=(df['bracket_2']-df['bracket_2'].min())/(df['bracket_2'].max()-df['bracket_2'].min())\n",
        "df['bracket_3']=(df['bracket_3']-df['bracket_3'].min())/(df['bracket_3'].max()-df['bracket_3'].min())\n",
        "df['bracket_4']=(df['bracket_4']-df['bracket_4'].min())/(df['bracket_4'].max()-df['bracket_4'].min())\n",
        "df['bracket_5']=(df['bracket_5']-df['bracket_5'].min())/(df['bracket_5'].max()-df['bracket_5'].min())\n",
        "df['sqrt_ft']=(df['sqrt_ft']-df['sqrt_ft'].min())/(df['sqrt_ft'].max()-df['sqrt_ft'].min())"
      ],
      "execution_count": null,
      "outputs": []
    },
    {
      "cell_type": "code",
      "metadata": {
        "id": "KJWbvZx3A9Dk"
      },
      "source": [
        "q1 = df.zipcode.quantile(0.05)\n",
        "def app(x):\n",
        "  if x < q1:\n",
        "    return q1\n",
        "  else:\n",
        "    return x\n",
        "q2 = df.zipcode.quantile(0.95)\n",
        "def app1(x):\n",
        "  if x > q2:\n",
        "    return q2\n",
        "  else:\n",
        "    return x\n",
        "df[\"zipcode\"] = df.zipcode.apply(app)\n",
        "df[\"zipcode\"] = df.zipcode.apply(app1)\n",
        "v1 = df.year_built.quantile(0.05)\n",
        "def cut(x):\n",
        "  if x < v1:\n",
        "    return v1\n",
        "  else:\n",
        "    return x\n",
        "v2 = df.year_built.quantile(0.95)\n",
        "def cut1(x):\n",
        "  if x > v2:\n",
        "    return v2\n",
        "  else:\n",
        "    return x\n",
        "df[\"year_built\"] = df.year_built.apply(cut)\n",
        "df[\"year_built\"] = df.year_built.apply(cut1)"
      ],
      "execution_count": null,
      "outputs": []
    },
    {
      "cell_type": "code",
      "metadata": {
        "id": "zIy2hhilBPv6"
      },
      "source": [
        "q1 = df.sold_price.quantile(0.05)\n",
        "def app(x):\n",
        "  if x < q1:\n",
        "    return q1\n",
        "  else:\n",
        "    return x\n",
        "q2 = df.sold_price.quantile(0.95)\n",
        "def app1(x):\n",
        "  if x > q2:\n",
        "    return q2\n",
        "  else:\n",
        "    return x\n",
        "df[\"sold_price\"] = df.sold_price.apply(app)\n",
        "df[\"sold_price\"] = df.sold_price.apply(app1)"
      ],
      "execution_count": null,
      "outputs": []
    },
    {
      "cell_type": "code",
      "metadata": {
        "id": "_9hH_2MLBdfH"
      },
      "source": [
        "q1 = df.garage.quantile(0.05)\n",
        "def app(x):\n",
        "  if x < q1:\n",
        "    return q1\n",
        "  else:\n",
        "    return x\n",
        "q2 = df.garage.quantile(0.95)\n",
        "def app1(x):\n",
        "  if x > q2:\n",
        "    return q2\n",
        "  else:\n",
        "    return x\n",
        "df[\"garage\"] = df.garage.apply(app)\n",
        "df[\"garage\"] = df.garage.apply(app1)\n",
        "# v1 = df2.HOA.quantile(0.05)\n",
        "# def cut(x):\n",
        "#   if x < v1:\n",
        "#     return v1\n",
        "#   else:\n",
        "#     return x\n",
        "# v2 = df2.HOA.quantile(0.95)\n",
        "# def cut1(x):\n",
        "#   if x > v2:\n",
        "#     return v2\n",
        "#   else:\n",
        "#     return x\n",
        "# df2[\"HOA\"] = df2.HOA.apply(cut)\n",
        "# df2[\"HOA\"] = df2.HOA.apply(cut1)"
      ],
      "execution_count": null,
      "outputs": []
    },
    {
      "cell_type": "code",
      "metadata": {
        "id": "zwdXNStwBsgm"
      },
      "source": [
        "q1 = df.sqrt_ft.quantile(0.05)\n",
        "def app(x):\n",
        "  if x < q1:\n",
        "    return q1\n",
        "  else:\n",
        "    return x\n",
        "q2 = df.sqrt_ft.quantile(0.95)\n",
        "def app1(x):\n",
        "  if x > q2:\n",
        "    return q2\n",
        "  else:\n",
        "    return x\n",
        "df[\"sqrt_ft\"] = df.sqrt_ft.apply(app)\n",
        "df[\"sqrt_ft\"] = df.sqrt_ft.apply(app1)\n",
        "v1 = df.lot_acres.quantile(0.05)\n",
        "def cut(x):\n",
        "  if x < v1:\n",
        "    return v1\n",
        "  else:\n",
        "    return x\n",
        "v2 = df.lot_acres.quantile(0.95)\n",
        "def cut1(x):\n",
        "  if x > v2:\n",
        "    return v2\n",
        "  else:\n",
        "    return x\n",
        "df[\"lot_acres\"] = df.lot_acres.apply(cut)\n",
        "df[\"lot_acres\"] = df.lot_acres.apply(cut1)"
      ],
      "execution_count": null,
      "outputs": []
    },
    {
      "cell_type": "code",
      "metadata": {
        "id": "uMZDa2HGB9sT"
      },
      "source": [
        "b1 = df.bedrooms.quantile(0.05)\n",
        "def bed(x):\n",
        "  if x < b1:\n",
        "    return b1\n",
        "  else:\n",
        "    return x\n",
        "df[\"bedrooms\"] = df.bedrooms.apply(bed)\n",
        "b2 = df.bedrooms.quantile(0.95)\n",
        "def bed1(x):\n",
        "  if x > b2:\n",
        "    return b2\n",
        "  else:\n",
        "    return x\n",
        "df[\"bedrooms\"] = df.bedrooms.apply(bed)\n",
        "df[\"bedrooms\"] = df.bedrooms.apply(bed1)"
      ],
      "execution_count": null,
      "outputs": []
    },
    {
      "cell_type": "code",
      "metadata": {
        "id": "FXPBm1NYCARm"
      },
      "source": [
        "c1 = df.bathrooms.quantile(0.05)\n",
        "def bath(x):\n",
        "  if x < c1:\n",
        "    return c1\n",
        "  else:\n",
        "    return x\n",
        "c2 = df.bathrooms.quantile(0.95)\n",
        "def bath1(x):\n",
        "  if x > c2:\n",
        "    return c2\n",
        "  else:\n",
        "    return x\n",
        "df[\"bathrooms\"] = df.bathrooms.apply(bath)\n",
        "df[\"bathrooms\"] = df.bathrooms.apply(bath1)"
      ],
      "execution_count": null,
      "outputs": []
    },
    {
      "cell_type": "code",
      "metadata": {
        "id": "yHbMvnRbWsPg"
      },
      "source": [
        "# q1 = df.longitude.quantile(0.05)\n",
        "# def app(x):\n",
        "#   if x < q1:\n",
        "#     return q1\n",
        "#   else:\n",
        "#     return x\n",
        "# q2 = df.longitude.quantile(0.95)\n",
        "# def app1(x):\n",
        "#   if x > q2:\n",
        "#     return q2\n",
        "#   else:\n",
        "#     return x\n",
        "# df[\"longitude\"] = df.longitude.apply(app)\n",
        "# df[\"longitude\"] = df.longitude.apply(app1)\n",
        "# v1 = df.latitude.quantile(0.05)\n",
        "# def cut(x):\n",
        "#   if x < v1:\n",
        "#     return v1\n",
        "#   else:\n",
        "#     return x\n",
        "# v2 = df.latitude.quantile(0.95)\n",
        "# def cut1(x):\n",
        "#   if x > v2:\n",
        "#     return v2\n",
        "#   else:\n",
        "#     return x\n",
        "# df[\"latitude\"] = df.latitude.apply(cut)\n",
        "# df[\"latitude\"] = df.latitude.apply(cut1)"
      ],
      "execution_count": null,
      "outputs": []
    },
    {
      "cell_type": "code",
      "metadata": {
        "colab": {
          "base_uri": "https://localhost:8080/",
          "height": 217
        },
        "id": "dqHlzhi_oISv",
        "outputId": "d2c2b98d-7b77-4e14-f524-3f5a73153ae9"
      },
      "source": [
        "#shuffles the data\n",
        "df.sample(frac=1)\n",
        "df.head()"
      ],
      "execution_count": null,
      "outputs": [
        {
          "output_type": "execute_result",
          "data": {
            "text/html": [
              "<div>\n",
              "<style scoped>\n",
              "    .dataframe tbody tr th:only-of-type {\n",
              "        vertical-align: middle;\n",
              "    }\n",
              "\n",
              "    .dataframe tbody tr th {\n",
              "        vertical-align: top;\n",
              "    }\n",
              "\n",
              "    .dataframe thead th {\n",
              "        text-align: right;\n",
              "    }\n",
              "</style>\n",
              "<table border=\"1\" class=\"dataframe\">\n",
              "  <thead>\n",
              "    <tr style=\"text-align: right;\">\n",
              "      <th></th>\n",
              "      <th>MLS</th>\n",
              "      <th>sold_price</th>\n",
              "      <th>zipcode</th>\n",
              "      <th>longitude</th>\n",
              "      <th>latitude</th>\n",
              "      <th>lot_acres</th>\n",
              "      <th>taxes</th>\n",
              "      <th>year_built</th>\n",
              "      <th>bedrooms</th>\n",
              "      <th>bathrooms</th>\n",
              "      <th>sqrt_ft</th>\n",
              "      <th>garage</th>\n",
              "      <th>kitchen_features</th>\n",
              "      <th>fireplaces</th>\n",
              "      <th>floor_covering</th>\n",
              "      <th>HOA</th>\n",
              "      <th>distances</th>\n",
              "      <th>distances_raw</th>\n",
              "      <th>distance_bins</th>\n",
              "      <th>tax_bracket</th>\n",
              "      <th>bracket_1</th>\n",
              "      <th>bracket_2</th>\n",
              "      <th>bracket_3</th>\n",
              "      <th>bracket_4</th>\n",
              "      <th>bracket_5</th>\n",
              "    </tr>\n",
              "  </thead>\n",
              "  <tbody>\n",
              "    <tr>\n",
              "      <th>0</th>\n",
              "      <td>0.978922</td>\n",
              "      <td>0.240456</td>\n",
              "      <td>0.434025</td>\n",
              "      <td>-110.378200</td>\n",
              "      <td>31.356362</td>\n",
              "      <td>6.058</td>\n",
              "      <td>0.000432</td>\n",
              "      <td>0.029718</td>\n",
              "      <td>0.114286</td>\n",
              "      <td>0.166667</td>\n",
              "      <td>0.213169</td>\n",
              "      <td>0.066667</td>\n",
              "      <td>0.000582</td>\n",
              "      <td>6</td>\n",
              "      <td>0.022690</td>\n",
              "      <td>0</td>\n",
              "      <td>23</td>\n",
              "      <td>1.092053</td>\n",
              "      <td>m</td>\n",
              "      <td>0.333333</td>\n",
              "      <td>0.000000</td>\n",
              "      <td>0.6</td>\n",
              "      <td>0.0</td>\n",
              "      <td>0.0</td>\n",
              "      <td>0.0</td>\n",
              "    </tr>\n",
              "    <tr>\n",
              "      <th>1</th>\n",
              "      <td>0.978847</td>\n",
              "      <td>0.240456</td>\n",
              "      <td>0.438174</td>\n",
              "      <td>-111.045371</td>\n",
              "      <td>31.594213</td>\n",
              "      <td>6.058</td>\n",
              "      <td>0.000853</td>\n",
              "      <td>0.010896</td>\n",
              "      <td>0.057143</td>\n",
              "      <td>0.083333</td>\n",
              "      <td>0.213169</td>\n",
              "      <td>0.066667</td>\n",
              "      <td>0.011641</td>\n",
              "      <td>5</td>\n",
              "      <td>0.002431</td>\n",
              "      <td>0</td>\n",
              "      <td>24</td>\n",
              "      <td>0.727234</td>\n",
              "      <td>m</td>\n",
              "      <td>0.500000</td>\n",
              "      <td>0.000000</td>\n",
              "      <td>0.8</td>\n",
              "      <td>0.0</td>\n",
              "      <td>0.0</td>\n",
              "      <td>0.0</td>\n",
              "    </tr>\n",
              "    <tr>\n",
              "      <th>2</th>\n",
              "      <td>0.000626</td>\n",
              "      <td>0.240456</td>\n",
              "      <td>0.438174</td>\n",
              "      <td>-111.040707</td>\n",
              "      <td>31.594844</td>\n",
              "      <td>6.058</td>\n",
              "      <td>0.000858</td>\n",
              "      <td>0.010896</td>\n",
              "      <td>0.057143</td>\n",
              "      <td>0.083333</td>\n",
              "      <td>0.122455</td>\n",
              "      <td>0.066667</td>\n",
              "      <td>0.038999</td>\n",
              "      <td>5</td>\n",
              "      <td>0.000000</td>\n",
              "      <td>0</td>\n",
              "      <td>24</td>\n",
              "      <td>0.725772</td>\n",
              "      <td>m</td>\n",
              "      <td>0.500000</td>\n",
              "      <td>0.000000</td>\n",
              "      <td>0.8</td>\n",
              "      <td>0.0</td>\n",
              "      <td>0.0</td>\n",
              "      <td>0.0</td>\n",
              "    </tr>\n",
              "    <tr>\n",
              "      <th>3</th>\n",
              "      <td>0.999511</td>\n",
              "      <td>0.240456</td>\n",
              "      <td>0.438174</td>\n",
              "      <td>-111.035925</td>\n",
              "      <td>31.645878</td>\n",
              "      <td>6.058</td>\n",
              "      <td>0.000689</td>\n",
              "      <td>0.029718</td>\n",
              "      <td>0.114286</td>\n",
              "      <td>0.138889</td>\n",
              "      <td>0.213169</td>\n",
              "      <td>0.133333</td>\n",
              "      <td>0.000000</td>\n",
              "      <td>4</td>\n",
              "      <td>0.001621</td>\n",
              "      <td>0</td>\n",
              "      <td>24</td>\n",
              "      <td>0.674713</td>\n",
              "      <td>m</td>\n",
              "      <td>0.500000</td>\n",
              "      <td>0.000000</td>\n",
              "      <td>0.8</td>\n",
              "      <td>0.0</td>\n",
              "      <td>0.0</td>\n",
              "      <td>0.0</td>\n",
              "    </tr>\n",
              "    <tr>\n",
              "      <th>4</th>\n",
              "      <td>0.967054</td>\n",
              "      <td>0.240456</td>\n",
              "      <td>0.524481</td>\n",
              "      <td>-110.813768</td>\n",
              "      <td>32.285162</td>\n",
              "      <td>3.210</td>\n",
              "      <td>0.001260</td>\n",
              "      <td>0.011887</td>\n",
              "      <td>0.085714</td>\n",
              "      <td>0.166667</td>\n",
              "      <td>0.213169</td>\n",
              "      <td>0.100000</td>\n",
              "      <td>1.000000</td>\n",
              "      <td>5</td>\n",
              "      <td>0.069692</td>\n",
              "      <td>55</td>\n",
              "      <td>14</td>\n",
              "      <td>0.101041</td>\n",
              "      <td>r</td>\n",
              "      <td>0.500000</td>\n",
              "      <td>0.571429</td>\n",
              "      <td>0.0</td>\n",
              "      <td>0.0</td>\n",
              "      <td>0.0</td>\n",
              "      <td>0.0</td>\n",
              "    </tr>\n",
              "  </tbody>\n",
              "</table>\n",
              "</div>"
            ],
            "text/plain": [
              "        MLS  sold_price   zipcode  ...  bracket_3  bracket_4  bracket_5\n",
              "0  0.978922    0.240456  0.434025  ...        0.0        0.0        0.0\n",
              "1  0.978847    0.240456  0.438174  ...        0.0        0.0        0.0\n",
              "2  0.000626    0.240456  0.438174  ...        0.0        0.0        0.0\n",
              "3  0.999511    0.240456  0.438174  ...        0.0        0.0        0.0\n",
              "4  0.967054    0.240456  0.524481  ...        0.0        0.0        0.0\n",
              "\n",
              "[5 rows x 25 columns]"
            ]
          },
          "metadata": {
            "tags": []
          },
          "execution_count": 195
        }
      ]
    },
    {
      "cell_type": "markdown",
      "metadata": {
        "id": "BeTXUI4TaW73"
      },
      "source": [
        "c"
      ]
    },
    {
      "cell_type": "markdown",
      "metadata": {
        "id": "QZbciTgBglnO"
      },
      "source": [
        "Classifier"
      ]
    },
    {
      "cell_type": "code",
      "metadata": {
        "id": "kXhcLyc9qa1C"
      },
      "source": [
        "df1 = df[['distances','bedrooms','bathrooms','zipcode','year_built']]   #df1 = df[['distances','sold_price','lot_acres','sqrt_ft','year_built','zipcode']]"
      ],
      "execution_count": null,
      "outputs": []
    },
    {
      "cell_type": "code",
      "metadata": {
        "id": "EYf8knWnKS5H"
      },
      "source": [
        "distances_11 = df.loc[df['distances'] == 11,'distances']\n",
        "# bedrooms_11 = df.loc[df['distances'] == 11, 'bedrooms']\n",
        "# bathrooms_11 = df.loc[df['distances'] == 11, 'bathrooms']\n",
        "zipcode_11 = df.loc[df['distances'] == 11, 'zipcode']\n",
        "year_built_11 = df.loc[df['distances'] == 11, 'year_built']\n",
        "# #match new indices\n",
        "distances_11.reset_index(drop=True, inplace=True)\n",
        "# bedrooms_11.reset_index(drop=True, inplace=True)\n",
        "# bathrooms_11.reset_index(drop=True, inplace=True)\n",
        "zipcode_11.reset_index(drop=True, inplace=True)\n",
        "year_built_11.reset_index(drop=True, inplace=True)\n",
        "df11_class = pd.concat([distances_11,bedrooms_11,bathrooms_11], axis = 1)"
      ],
      "execution_count": null,
      "outputs": []
    },
    {
      "cell_type": "code",
      "metadata": {
        "id": "k-BtpGKPRwcN"
      },
      "source": [
        "nan_col = []\n",
        "for col in df11_class.head():\n",
        "    nan = df11_class[col].isnull().values.any()\n",
        "    if nan == True:\n",
        "        nan_col.append(col)\n",
        "print(nan_col)"
      ],
      "execution_count": null,
      "outputs": []
    },
    {
      "cell_type": "code",
      "metadata": {
        "id": "D97W6zY7OZdh"
      },
      "source": [
        "distances_11.shape"
      ],
      "execution_count": null,
      "outputs": []
    },
    {
      "cell_type": "code",
      "metadata": {
        "id": "xk38vdn0TD-L"
      },
      "source": [
        "df11_class.head()"
      ],
      "execution_count": null,
      "outputs": []
    },
    {
      "cell_type": "code",
      "metadata": {
        "id": "CTD_6L-kJ9uU"
      },
      "source": [
        "df1['distances'].value_counts()"
      ],
      "execution_count": null,
      "outputs": []
    },
    {
      "cell_type": "code",
      "metadata": {
        "id": "KndHgd7cqg1P"
      },
      "source": [
        "X1_train = df11_class.iloc[:,1:].to_numpy()\n",
        "y1_train = df11_class.iloc[:,0].to_numpy()\n",
        "# X1_test =  df1.iloc[3963:4458,1:].to_numpy()\n",
        "# y1_test = df1.iloc[3963:4458,0].to_numpy()\n",
        "# X1_validate =  df1.iloc[4458:4954,1:].to_numpy()\n",
        "# y1_validate = df1.iloc[4458:4954,0].to_numpy()"
      ],
      "execution_count": null,
      "outputs": []
    },
    {
      "cell_type": "code",
      "metadata": {
        "id": "qZuOoj76lS8J"
      },
      "source": [
        "bin_labels_c = ['r','m','c','b','g']"
      ],
      "execution_count": null,
      "outputs": []
    },
    {
      "cell_type": "code",
      "metadata": {
        "id": "fhBbUcgXTEwR"
      },
      "source": [
        "#ax =  df.scatter(x = 'latitude', y = 'longitude',style='o',c =A,figsize=(20, 20))\n",
        "# plt.figure(figsize=(20, 10), dpi=80)\n",
        "# plt.scatter(x = df['latitude'], y = df['longitude'],c = list(df['distance_bins']), alpha = 0.5, s = 200, marker = 's')\n",
        "# plt.title('IncomeTax based on distance')\n",
        "# plt.xlim([10.0, 60.0])\n",
        "# plt.ylim([-112,-110])"
      ],
      "execution_count": null,
      "outputs": []
    },
    {
      "cell_type": "code",
      "metadata": {
        "id": "JZXsCKws2QxQ"
      },
      "source": [
        "class KNNClassifier():\n",
        "  def fit(self, X, y):\n",
        "    self.X = X\n",
        "    self.y = y\n",
        "  def predict(self, X, K, epsilon = 1e-8):\n",
        "    N = len(X)\n",
        "    y_hat = np.zeros(N)\n",
        "\n",
        "    for i in range(N):\n",
        "      dist2 = np.sum((self.X-X[i])**2, axis = 1)\n",
        "      idxt = np.argsort(dist2)[:K]\n",
        "      gamma_k = 1/(np.sqrt(dist2[idxt])+epsilon)\n",
        "      y_hat[i] = np.bincount(self.y[idxt], weights = gamma_k).argmax()\n",
        "\n",
        "    return y_hat"
      ],
      "execution_count": null,
      "outputs": []
    },
    {
      "cell_type": "code",
      "metadata": {
        "colab": {
          "base_uri": "https://localhost:8080/"
        },
        "id": "fpO4bA6r2jpL",
        "outputId": "8d72ccac-94ae-48f8-8d76-648f448bac67"
      },
      "source": [
        "import time\n",
        "start_time = time.time()\n",
        "knn = KNNClassifier()\n",
        "knn.fit(X1_train,y1_train)\n",
        "print(\"--- %s seconds ---\" % (time.time() - start_time))"
      ],
      "execution_count": null,
      "outputs": [
        {
          "output_type": "stream",
          "text": [
            "--- 0.00011157989501953125 seconds ---\n"
          ],
          "name": "stdout"
        }
      ]
    },
    {
      "cell_type": "code",
      "metadata": {
        "colab": {
          "base_uri": "https://localhost:8080/"
        },
        "id": "FbBMQ5lv225B",
        "outputId": "e3aca270-6a5e-4c66-fd97-2e771fdbf596"
      },
      "source": [
        "start_time = time.time()\n",
        "y1_hat = knn.predict(X1_train,1000)\n",
        "print(\"--- %s seconds ---\" % (time.time() - start_time))"
      ],
      "execution_count": null,
      "outputs": [
        {
          "output_type": "stream",
          "text": [
            "--- 0.012314558029174805 seconds ---\n"
          ],
          "name": "stdout"
        }
      ]
    },
    {
      "cell_type": "code",
      "metadata": {
        "id": "BgMv-7TzGkuM"
      },
      "source": [
        "\n",
        "def accuracyKNN(y_train,y_hat):\n",
        "    return np.mean(y1_train == y1_hat)"
      ],
      "execution_count": null,
      "outputs": []
    },
    {
      "cell_type": "code",
      "metadata": {
        "id": "JHXafMzHGt2w"
      },
      "source": [
        "print(accuracyKNN(y1_train ,y1_hat))\n"
      ],
      "execution_count": null,
      "outputs": []
    },
    {
      "cell_type": "code",
      "metadata": {
        "id": "40imr6KCDz1n"
      },
      "source": [
        "y1_hat = pd.Series(y1_hat, name = 'y1_hat')\n",
        "y1_hat.reset_index(drop=True, inplace=True)"
      ],
      "execution_count": null,
      "outputs": []
    },
    {
      "cell_type": "code",
      "metadata": {
        "id": "6PWlRNKZXwiy"
      },
      "source": [
        "\n",
        "distances_raw_11 = df.loc[df['distances'] == 11, 'distances_raw']\n",
        "sold_price_11 = df.loc[df['distances'] == 11, 'bedrooms']\n",
        "sqrt_ft_11 = df.loc[df['distances'] == 11, 'bathrooms']\n",
        "\n",
        "#match new indices\n",
        "distances_raw_11.reset_index(drop=True, inplace=True)\n",
        "sold_price_11.reset_index(drop=True, inplace=True)\n",
        "sqrt_ft_11.reset_index(drop=True, inplace=True)\n",
        "df11_regress = pd.concat([distances_raw_11,sold_price_11,sqrt_ft_11, y1_hat], axis = 1)"
      ],
      "execution_count": null,
      "outputs": []
    },
    {
      "cell_type": "code",
      "metadata": {
        "id": "brqba2XxWQq5"
      },
      "source": [
        "df11_regress.head()"
      ],
      "execution_count": null,
      "outputs": []
    },
    {
      "cell_type": "code",
      "metadata": {
        "id": "KL8VnYHpCyN2"
      },
      "source": [
        "# A = df['distances_raw']\n",
        "# B = df['sold_price']\n",
        "# C = df['sqrt_ft']\n",
        "# # B = df['bedrooms']\n",
        "# # C = df['bathrooms']\n",
        "# D = pd.Series(y1_hat, name = 'y1_hat')\n",
        "# # E = df['sqrt_ft']\n",
        "# # F = df['fireplaces'].astype('int')\n",
        "# A.reset_index(drop=True, inplace=True)\n",
        "# B.reset_index(drop=True, inplace=True)\n",
        "# C.reset_index(drop=True, inplace=True)\n",
        "# D.reset_index(drop=True, inplace=True)\n",
        "# # E.reset_index(drop=True, inplace=True)\n",
        "# # F.reset_index(drop=True, inplace=True)\n",
        "# df2 = pd.concat([A,B,C,D], axis = 1)"
      ],
      "execution_count": null,
      "outputs": []
    },
    {
      "cell_type": "code",
      "metadata": {
        "colab": {
          "base_uri": "https://localhost:8080/"
        },
        "id": "QUw3iWIBPpD9",
        "outputId": "e83def13-526f-4a92-95c3-7ccd70fc7cef"
      },
      "source": [
        "df11_regress.shape"
      ],
      "execution_count": null,
      "outputs": [
        {
          "output_type": "execute_result",
          "data": {
            "text/plain": [
              "(227, 4)"
            ]
          },
          "metadata": {
            "tags": []
          },
          "execution_count": 304
        }
      ]
    },
    {
      "cell_type": "code",
      "metadata": {
        "id": "GZg7EEH576NH"
      },
      "source": [
        "X_train = df11_regress.iloc[:181,1:].to_numpy()\n",
        "\n",
        "y_train = df11_regress.iloc[:181,0].to_numpy()\n",
        "X_test =  df11_regress.iloc[181:204,1:].to_numpy()\n",
        "y_test = df11_regress.iloc[181:204,0].to_numpy()\n",
        "X_validate =  df11_regress.iloc[204:227,1:].to_numpy()\n",
        "y_validate = df11_regress.iloc[204:227,0].to_numpy()\n",
        "# X_train = df2.iloc[:3963,1:].to_numpy()\n",
        "\n",
        "# y_train = df2.iloc[:3963,0].to_numpy()\n",
        "# X_test =  df2.iloc[3963:4458,1:].to_numpy()\n",
        "# y_test = df2.iloc[3963:4458,0].to_numpy()\n",
        "# X_validate =  df2.iloc[4458:4954,1:].to_numpy()\n",
        "# y_validate = df2.iloc[4458:4954,0].to_numpy()"
      ],
      "execution_count": null,
      "outputs": []
    },
    {
      "cell_type": "code",
      "metadata": {
        "id": "KMA-LJ1znycR"
      },
      "source": [
        "class KNNRegressor():\n",
        "\n",
        "  def fit(self,X,y):\n",
        "    self.X = X\n",
        "    self.y = y\n",
        "  def predict(self,X,K, epsilon = 1e-10):\n",
        "    N = len(X)\n",
        "    y_hat = np.zeros(N) #empty y_hat same size as X\n",
        "\n",
        "    #count everything within a certain distance\n",
        "    for i in range(N):\n",
        "      dist2 = np.sum((self.X - X[i])**2, axis = 1)\n",
        "      idxt = np.argsort(dist2)[:K]\n",
        "      gamma_k = np.exp(-dist2[idxt])/np.exp(-dist2[idxt]).sum() #normalized set of distance\n",
        "      y_hat[i] = gamma_k.dot(self.y[idxt])\n",
        "      \n",
        "    return y_hat\n"
      ],
      "execution_count": null,
      "outputs": []
    },
    {
      "cell_type": "code",
      "metadata": {
        "id": "YPVUuWaASJjH"
      },
      "source": [
        "knn = KNNRegressor()"
      ],
      "execution_count": null,
      "outputs": []
    },
    {
      "cell_type": "code",
      "metadata": {
        "id": "waTMpH2mSa71"
      },
      "source": [
        "knn.fit(X_train,y_train)"
      ],
      "execution_count": null,
      "outputs": []
    },
    {
      "cell_type": "code",
      "metadata": {
        "id": "u1txXzqeSeAe"
      },
      "source": [
        "y_hat = knn.predict(X_validate,100,epsilon = 1e-3) #X1 = Test set (effectively)\n",
        "#y_hat2 = knn.predict(X1,30, epsilon = 1e-3) #Larger K smoother curve smaller K risk overfitting\n",
        "# plt.figure(figsize=(12, 6))\n",
        "# plt.plot(X_validate,y_hat, color = \"#FF0070\")\n",
        "# plt.title('Location versus Price')\n",
        "# plt.xlim([10.0, 60.0])\n",
        "# plt.ylim([-112,-110])\n",
        "#plt.plot(X_train,y_hat, color = \"#FF0070\")\n",
        "#plt.plot(X_train,y_hat2, color = \"#00FF00\")"
      ],
      "execution_count": null,
      "outputs": []
    },
    {
      "cell_type": "code",
      "metadata": {
        "id": "QGc3Sejr7n-m"
      },
      "source": [
        "def OLS(Y,Y_hat,N):\n",
        "  return (1/(2*N))*np.sum((Y-Y_hat)**2)\n",
        "def R2(Y,Y_hat):\n",
        "  return (1 - (np.sum((Y-Y_hat)**2)/np.sum((Y-np.mean(Y))**2)))"
      ],
      "execution_count": null,
      "outputs": []
    },
    {
      "cell_type": "code",
      "metadata": {
        "id": "hV3PGhOe7rVJ"
      },
      "source": [
        "R2(y_validate, y_hat)"
      ],
      "execution_count": null,
      "outputs": []
    },
    {
      "cell_type": "code",
      "metadata": {
        "id": "NM6AuRrZR2Rh"
      },
      "source": [
        "#Columns with missing values\n",
        "nan_col = []\n",
        "for col in df2.head():\n",
        "    nan = df2[col].isnull().values.any()\n",
        "    if nan == True:\n",
        "        nan_col.append(col)\n",
        "print(nan_col)"
      ],
      "execution_count": null,
      "outputs": []
    },
    {
      "cell_type": "code",
      "metadata": {
        "id": "Rq2TeqpEt80W"
      },
      "source": [
        "#SIMPLE LINEAR REGRESSION\n",
        "class SimpleLinearReg():\n",
        "    \n",
        "    def fit(self,X,y):\n",
        "        self.y=y\n",
        "        self.d=np.mean(X**2)-np.mean(X)**2\n",
        "        self.w0=(np.mean(y)*np.mean(X**2)-np.mean(X)*np.mean(X*y))/self.d\n",
        "        #self.w1=np.mean(X*y)-np.mean(X)*np.mean(y)\n",
        "\n",
        "        self.w1=(np.mean(X*y)-np.mean(X)*np.mean(y))/(np.mean(X**2)-np.mean(X)**2)\n",
        "\n",
        "    \n",
        "    def predict(self,X,show=0):\n",
        "        y_hat=self.w0+self.w1*X\n",
        "        if show:\n",
        "            plt.figure()\n",
        "            plt.scatter(X,self.y,s=8)\n",
        "            plt.plot(X,y_hat,color='#FF0070')\n",
        "            \n",
        "        return y_hat"
      ],
      "execution_count": null,
      "outputs": []
    },
    {
      "cell_type": "code",
      "metadata": {
        "id": "JBj-55caoeKA"
      },
      "source": [
        "class LinearRegression():\n",
        "    def fit(self,X,y):\n",
        "        self.w=np.linalg.solve(X.T@X, X.T@y)\n",
        "    \n",
        "    def predict(self,X):\n",
        "        return np.matmul(X,self.w)"
      ],
      "execution_count": null,
      "outputs": []
    },
    {
      "cell_type": "code",
      "metadata": {
        "id": "IDqN-kGb2UgP"
      },
      "source": [
        "lr = LinearRegression()"
      ],
      "execution_count": null,
      "outputs": []
    },
    {
      "cell_type": "code",
      "metadata": {
        "id": "S7RSFg2GoZ0r"
      },
      "source": [
        "lr.fit(X_train,y_train)"
      ],
      "execution_count": null,
      "outputs": []
    },
    {
      "cell_type": "code",
      "metadata": {
        "id": "mx6CN5jwoyEE"
      },
      "source": [
        "y_hat = lr.predict(X_validate)"
      ],
      "execution_count": null,
      "outputs": []
    },
    {
      "cell_type": "code",
      "metadata": {
        "id": "ehdfiSrno-RN"
      },
      "source": [
        "def OLS(Y,Y_hat,N):\n",
        "  return (1/(2*N))*np.sum((Y-Y_hat)**2)\n",
        "def R2(Y,Y_hat):\n",
        "  return (1 - (np.sum((Y-Y_hat)**2)/np.sum((Y-np.mean(Y))**2)))"
      ],
      "execution_count": null,
      "outputs": []
    },
    {
      "cell_type": "code",
      "metadata": {
        "id": "nRZF_aQdpArf"
      },
      "source": [
        "R2(y_validate, y_hat)"
      ],
      "execution_count": null,
      "outputs": []
    },
    {
      "cell_type": "code",
      "metadata": {
        "id": "14a8dw4KS208"
      },
      "source": [
        "class OURLinearRegression():\n",
        "    \n",
        "    def fit(self, X, y, eta = 1e-3, epochs = 1e3, show_curve = False, lambd = 0, p = 1):\n",
        "        epochs = int(epochs)\n",
        "        N, D = X.shape\n",
        "        Y = y\n",
        "        \n",
        "        self.W = np.random.randn(D)\n",
        "        \n",
        "        J = np.zeros(epochs)\n",
        "        \n",
        "        for epoch in range(epochs):\n",
        "            Y_hat = self.predict(X)\n",
        "            J[epoch] = OLS(Y, Y_hat, N)  #(lambd/p*N)*np.linalg.norm(self.W, ord=p, keepdims=True)\n",
        "            self.W -= eta*(1/N)*(X.T@(Y_hat - Y)) # (1/N)*(lambd*np.abs(self.W)**(p-1)*np.sign(self.W)))\n",
        "                    \n",
        "         \n",
        "        if show_curve:\n",
        "            plt.figure()\n",
        "            plt.plot(J)\n",
        "            plt.xlabel(\"epochs\")\n",
        "            plt.ylabel(\"$\\mathcal{J}$\")\n",
        "            plt.title(\"Training Curve\")\n",
        "            plt.show()        \n",
        "    def predict(self, X):\n",
        "        return X @ self.W"
      ],
      "execution_count": null,
      "outputs": []
    },
    {
      "cell_type": "code",
      "metadata": {
        "id": "PZiyy-rzWre_"
      },
      "source": [
        "OLR = OURLinearRegression()"
      ],
      "execution_count": null,
      "outputs": []
    },
    {
      "cell_type": "code",
      "metadata": {
        "id": "jqig2K-ovFWV"
      },
      "source": [
        "OLR.fit(X_test, y_test, epochs = 1e3, eta = 1e-8, show_curve = False)"
      ],
      "execution_count": null,
      "outputs": []
    },
    {
      "cell_type": "code",
      "metadata": {
        "id": "14qZireXMylI"
      },
      "source": [
        "y_hat = OLR.predict(X_validate) #X1 = Test set (effectively)\n"
      ],
      "execution_count": null,
      "outputs": []
    },
    {
      "cell_type": "code",
      "metadata": {
        "id": "AhuSLZ46M5ih"
      },
      "source": [
        "R2(y_validate, y_hat)"
      ],
      "execution_count": null,
      "outputs": []
    },
    {
      "cell_type": "code",
      "metadata": {
        "id": "9gOxzX0hzwjb"
      },
      "source": [
        ""
      ],
      "execution_count": null,
      "outputs": []
    }
  ]
}