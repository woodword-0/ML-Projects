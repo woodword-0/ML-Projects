{
  "nbformat": 4,
  "nbformat_minor": 0,
  "metadata": {
    "accelerator": "GPU",
    "colab": {
      "name": "SimpleLinearRegression.ipynb",
      "provenance": [],
      "collapsed_sections": [],
      "authorship_tag": "ABX9TyNdyN8jGrsIjnlykDRAB8AB",
      "include_colab_link": true
    },
    "kernelspec": {
      "display_name": "Python 3",
      "name": "python3"
    },
    "language_info": {
      "name": "python"
    }
  },
  "cells": [
    {
      "cell_type": "markdown",
      "metadata": {
        "id": "view-in-github",
        "colab_type": "text"
      },
      "source": [
        "<a href=\"https://colab.research.google.com/github/woodword-0/ML-Projects/blob/main/SimpleLinearRegression.ipynb\" target=\"_parent\"><img src=\"https://colab.research.google.com/assets/colab-badge.svg\" alt=\"Open In Colab\"/></a>"
      ]
    },
    {
      "cell_type": "code",
      "metadata": {
        "id": "A-vpGry7n7Lx"
      },
      "source": [
        "import numpy as np\n",
        "import pandas as pd\n",
        "import matplotlib.pyplot as plt\n",
        "import statistics as stat\n",
        "from scipy import stats\n",
        "import seaborn as sns; sns.set_theme()\n",
        "missing_values = ['NA','n/a',\"\",'','N/A','None','none','NONE','n.a.','?','Nan','nan','NaN']\n",
        "df = pd.read_csv('/content/raw_house_data.csv', na_values = missing_values)\n",
        "\n",
        "#replace all instances of \"None\" with zero\n",
        "#df = df.replace(\"None\", 0)\n",
        "#Columns with missing values\n",
        "nan_col = []\n",
        "for col in df.head():\n",
        "    nan = df[col].isnull().values.any()\n",
        "    if nan == True:\n",
        "        nan_col.append(col)\n",
        "print(nan_col)\n",
        "#replace all instances of \"None\" with zero\n",
        "#df1 = df.replace(\"missing_values\", 0)"
      ],
      "execution_count": null,
      "outputs": []
    },
    {
      "cell_type": "code",
      "metadata": {
        "id": "IV-trqO1oIIB"
      },
      "source": [
        "df.to_numpy()"
      ],
      "execution_count": null,
      "outputs": []
    },
    {
      "cell_type": "markdown",
      "metadata": {
        "id": "lEyuWrNmoUma"
      },
      "source": [
        "\n",
        "\n",
        "```\n",
        "# This is formatted as code\n",
        "```\n",
        "\n",
        "Cleaning Data"
      ]
    },
    {
      "cell_type": "code",
      "metadata": {
        "id": "nPYg1UcNoLzw"
      },
      "source": [
        "#Drop Nan in Column\n",
        "df = df[df['floor_covering'].notna()]\n",
        "#Frequency encoding value counts to replace kitchen features\n",
        "df['floor_covering'] = df['floor_covering'].map(df['floor_covering'].value_counts())"
      ],
      "execution_count": null,
      "outputs": []
    },
    {
      "cell_type": "code",
      "metadata": {
        "id": "CXkseLV6oZKZ"
      },
      "source": [
        "\n",
        "#Drop Nan in Column\n",
        "df = df[df['kitchen_features'].notna()]\n",
        "#Frequency encoding value counts to replace kitchen features\n",
        "df['kitchen_features'] = df['kitchen_features'].map(df['kitchen_features'].value_counts())"
      ],
      "execution_count": null,
      "outputs": []
    },
    {
      "cell_type": "code",
      "metadata": {
        "id": "Uk-fA5dYoe9Q"
      },
      "source": [
        "#Fill in missing values with 0\n",
        "df['bathrooms'] = df['bathrooms'].fillna(0)\n",
        "df['garage'] = df['garage'].fillna(0)\n",
        "df['HOA'] = df['HOA'].fillna(0)"
      ],
      "execution_count": null,
      "outputs": []
    },
    {
      "cell_type": "code",
      "metadata": {
        "id": "sMAqdFp0omgy"
      },
      "source": [
        "#Fill in by the mean\n",
        "df['sqrt_ft'] = df['sqrt_ft'].fillna(df['sqrt_ft'].mean())\n",
        "df['lot_acres'] = df['lot_acres'].fillna(df['lot_acres'].mean())"
      ],
      "execution_count": null,
      "outputs": []
    },
    {
      "cell_type": "code",
      "metadata": {
        "id": "jT-VkYaxpraM"
      },
      "source": [
        "df.drop(df[df['latitude'] > 33].index, inplace = True)\n",
        "df.drop(df[df['longitude'] < -112].index, inplace = True)\n",
        "df.drop(df[df['longitude'] > -110].index, inplace = True)"
      ],
      "execution_count": null,
      "outputs": []
    },
    {
      "cell_type": "code",
      "metadata": {
        "colab": {
          "base_uri": "https://localhost:8080/"
        },
        "id": "pp7DCaUupE1j",
        "outputId": "8c910674-e517-48c7-b5ba-0bacfd5cd325"
      },
      "source": [
        "#Columns with missing values\n",
        "nan_col = []\n",
        "for col in df.head():\n",
        "    nan = df[col].isnull().values.any()\n",
        "    if nan == True:\n",
        "        nan_col.append(col)\n",
        "print(nan_col)"
      ],
      "execution_count": null,
      "outputs": [
        {
          "output_type": "stream",
          "text": [
            "[]\n"
          ],
          "name": "stdout"
        }
      ]
    },
    {
      "cell_type": "markdown",
      "metadata": {
        "id": "J5o9NuC5pH8s"
      },
      "source": [
        "\n",
        "\n",
        "```\n",
        "`# This is formatted as code`\n",
        "```\n",
        "\n",
        "Feature Engineering"
      ]
    },
    {
      "cell_type": "code",
      "metadata": {
        "id": "1TBfIO8Uroa3"
      },
      "source": [
        "#Calculating Distances\n",
        "A = []\n",
        "for i in df['latitude'].index:\n",
        "  A.append((np.sqrt((df['latitude'].mean() - df['latitude'][i])**2 + (df['longitude'].mean() - df['longitude'][i])**2)))"
      ],
      "execution_count": null,
      "outputs": []
    },
    {
      "cell_type": "code",
      "metadata": {
        "id": "NELSWeJsrurf"
      },
      "source": [
        "#Assigning a distances column to the dataframe\n",
        "df = df.assign(distances = A)\n"
      ],
      "execution_count": null,
      "outputs": []
    },
    {
      "cell_type": "code",
      "metadata": {
        "id": "6S7FAIfvsAEA"
      },
      "source": [
        "#bining the distances\n",
        "bin_labels_5 = ['1','2','3','4','5']\n",
        "pd.cut(df['distances'], bins=5)"
      ],
      "execution_count": null,
      "outputs": []
    },
    {
      "cell_type": "code",
      "metadata": {
        "id": "qJNxwX71sV6X"
      },
      "source": [
        "#Using the bins to bin location\n",
        "df1 = df.loc[df['distances'] > 0.23, 'latitude']\n",
        "df2 = df.loc[df['distances'] > 0.23, 'longitude']\n",
        "df3 = df.loc[df['distances'] > 0.45, 'latitude']\n",
        "df4 = df.loc[df['distances'] > 0.45, 'longitude']\n",
        "df5 = df.loc[df['distances'] > 0.68, 'latitude']\n",
        "df6 = df.loc[df['distances'] > 0.68, 'longitude']\n",
        "df7 = df.loc[df['distances'] > 0.91, 'latitude']\n",
        "df8 = df.loc[df['distances'] > 0.91, 'longitude']\n",
        "# df9 = df.loc[df['distances'] > 0.79, 'latitude']\n",
        "# df10 = df.loc[df['distances'] > 0.79, 'longitude']\n",
        "# df11 = df.loc[df['distances'] > 0.91, 'latitude']\n",
        "# df12 = df.loc[df['distances'] > 0.91, 'longitude']\n",
        "# df13 = df.loc[df['distances'] > 1, 'latitude']\n",
        "# df14 = df.loc[df['distances'] > 1, 'longitude']\n",
        "# df15 = df.loc[df['distances'] > 0.57, 'latitude']\n",
        "# df16 = df.loc[df['distances'] > 0.57, 'longitude']\n",
        "# df17 = df.loc[df['distances'] > 0.68, 'latitude']\n",
        "# df18 = df.loc[df['distances'] > 0.68, 'longitude']"
      ],
      "execution_count": null,
      "outputs": []
    },
    {
      "cell_type": "code",
      "metadata": {
        "id": "YbDLW1-B39JM"
      },
      "source": [
        "#categorizing the tax bin by government income bracket\n",
        "bin_labels_7 = ['1','2','3','4','5','6','7']\n",
        "bins = [0,9875,40125,85525,163300,207350,518400, max(df['taxes'])]\n",
        "tax_bins = pd.cut(df['taxes'], bins=7, labels = bin_labels_7)\n",
        "df = df.assign(tax_bracket = tax_bins)\n",
        "bin_labels_5 = ['1','2','3','4','5']\n",
        "df['distances'] = pd.cut(df['distances'], bins = 5, labels = bin_labels_5)"
      ],
      "execution_count": null,
      "outputs": []
    },
    {
      "cell_type": "code",
      "metadata": {
        "id": "8ASgKnjUw3pn"
      },
      "source": [
        "df.head()"
      ],
      "execution_count": null,
      "outputs": []
    },
    {
      "cell_type": "code",
      "metadata": {
        "id": "k6aod2YBxjEq"
      },
      "source": [
        "(min(df['taxes']), max(df['taxes']))"
      ],
      "execution_count": null,
      "outputs": []
    },
    {
      "cell_type": "code",
      "metadata": {
        "id": "4MY5DODqLhdo"
      },
      "source": [
        "#Returns a list of tax brackets for each location\n",
        "locator1 = df.loc[df['distances'] == '1','tax_bracket']\n",
        "locator2 = df.loc[df['distances'] == '2','tax_bracket']\n",
        "locator3 = df.loc[df['distances'] == '3','tax_bracket']\n",
        "locator4 = df.loc[df['distances'] == '4','tax_bracket']\n",
        "locator5 = df.loc[df['distances'] == '5','tax_bracket']\n",
        "# locator6 = df.loc[df['distances'] == '6','tax_bracket']\n",
        "# locator7 = df.loc[df['distances'] == '7','tax_bracket']\n",
        "# locator8 = df.loc[df['distances'] == '8','tax_bracket']\n",
        "# locator9 = df.loc[df['distances'] == '9','tax_bracket']\n",
        "# locator10 = df.loc[df['distances'] == '10','tax_bracket']"
      ],
      "execution_count": null,
      "outputs": []
    },
    {
      "cell_type": "code",
      "metadata": {
        "id": "lj0bmJMm1OSP"
      },
      "source": [
        "#Adds columns\n",
        "df = df.assign(bracket_1 = locator1) #For i = 1,2,3,4,5 column contains all tax brackets for that i.\n",
        "df = df.assign(bracket_2 = locator2)\n",
        "df = df.assign(bracket_3 = locator3)\n",
        "df = df.assign(bracket_4 = locator4)\n",
        "df = df.assign(bracket_5 = locator5)\n",
        "# df = df.assign(bracket_6 = locator6) #For i = 1,2,3,4,5 column contains all tax brackets for that i.\n",
        "# df = df.assign(bracket_7 = locator7)\n",
        "# df = df.assign(bracket_8 = locator8)\n",
        "# df = df.assign(bracket_9 = locator9)\n",
        "# df = df.assign(bracket_10 = locator10)"
      ],
      "execution_count": null,
      "outputs": []
    },
    {
      "cell_type": "code",
      "metadata": {
        "id": "NWxyFm3gGozC"
      },
      "source": [
        "#Add empty category zero for imputing\n",
        "df['bracket_1'] = df['bracket_1'].cat.add_categories(0)\n",
        "df['bracket_2'] = df['bracket_2'].cat.add_categories(0)\n",
        "df['bracket_3'] = df['bracket_3'].cat.add_categories(0)\n",
        "df['bracket_4'] = df['bracket_4'].cat.add_categories(0)\n",
        "df['bracket_5'] = df['bracket_5'].cat.add_categories(0)\n",
        "# df['bracket_6'] = df['bracket_6'].cat.add_categories(0)\n",
        "# df['bracket_7'] = df['bracket_7'].cat.add_categories(0)\n",
        "# df['bracket_8'] = df['bracket_8'].cat.add_categories(0)\n",
        "# df['bracket_9'] = df['bracket_9'].cat.add_categories(0)\n",
        "# df['bracket_10'] = df['bracket_10'].cat.add_categories(0)"
      ],
      "execution_count": null,
      "outputs": []
    },
    {
      "cell_type": "code",
      "metadata": {
        "id": "1Ry-7xYHTiv5"
      },
      "source": [
        "#Change to float or int\n",
        "df['distances'] = df['distances'].astype('int')\n",
        "df['bracket_1'] = df['bracket_1'].fillna(0).astype('int')\n",
        "df['bracket_2'] = df['bracket_2'].fillna(0).astype('int')\n",
        "df['bracket_3'] = df['bracket_3'].fillna(0).astype('int')\n",
        "df['bracket_4'] = df['bracket_4'].fillna(0).astype('int')\n",
        "df['bracket_5'] = df['bracket_5'].fillna(0).astype('int')\n",
        "df['distances'] = df['distances'].astype('int')\n",
        "# df['bracket_6'] = df['bracket_6'].fillna(0).astype('int')\n",
        "# df['bracket_7'] = df['bracket_7'].fillna(0).astype('int')\n",
        "# df['bracket_8'] = df['bracket_8'].fillna(0).astype('int')\n",
        "# df['bracket_9'] = df['bracket_9'].fillna(0).astype('int')\n",
        "# df['bracket_10'] = df['bracket_10'].fillna(0).astype('int')\n",
        "df['tax_bracket'] = df['tax_bracket'].astype('int')"
      ],
      "execution_count": null,
      "outputs": []
    },
    {
      "cell_type": "code",
      "metadata": {
        "id": "GHQ-1gHHnJnX"
      },
      "source": [
        "#Replaces value with appropriate taxbracket by location\n",
        "df.loc[df['bracket_1'] == 1, 'distances'] = 11\n",
        "df.loc[df['bracket_1'] == 2, 'distances'] = 12\n",
        "df.loc[df['bracket_1'] == 3, 'distances'] = 13\n",
        "df.loc[df['bracket_1'] == 4, 'distances'] = 14\n",
        "df.loc[df['bracket_1'] == 5, 'distances'] = 15\n",
        "# df.loc[df['bracket_1'] == 6, 'distances'] = 16\n",
        "# df.loc[df['bracket_1'] == 7, 'distances'] = 17\n",
        "# df.loc[df['bracket_1'] == 8, 'distances'] = 18\n",
        "# df.loc[df['bracket_1'] == 9, 'distances'] = 19\n",
        "# df.loc[df['bracket_1'] == 10, 'distances'] = 110"
      ],
      "execution_count": null,
      "outputs": []
    },
    {
      "cell_type": "code",
      "metadata": {
        "id": "EdDnb6QEnA47"
      },
      "source": [
        "df.loc[df['bracket_2'] == 1, 'distances'] = 21\n",
        "df.loc[df['bracket_2'] == 2, 'distances'] = 22\n",
        "df.loc[df['bracket_2'] == 3, 'distances'] = 23\n",
        "df.loc[df['bracket_2'] == 4, 'distances'] = 24\n",
        "df.loc[df['bracket_2'] == 5, 'distances'] = 25\n",
        "# df.loc[df['bracket_2'] == 6, 'distances'] = 26\n",
        "# df.loc[df['bracket_2'] == 7, 'distances'] = 27"
      ],
      "execution_count": null,
      "outputs": []
    },
    {
      "cell_type": "code",
      "metadata": {
        "id": "AS5pft9ElU6A"
      },
      "source": [
        "df.loc[df['bracket_3'] == 1, 'distances'] = 31\n",
        "df.loc[df['bracket_3'] == 2, 'distances'] = 32\n",
        "df.loc[df['bracket_3'] == 3, 'distances'] = 33\n",
        "df.loc[df['bracket_3'] == 4, 'distances'] = 34\n",
        "df.loc[df['bracket_3'] == 5, 'distances'] = 35\n",
        "# df.loc[df['bracket_3'] == 6, 'distances'] = 36\n",
        "# df.loc[df['bracket_3'] == 7, 'distances'] = 37"
      ],
      "execution_count": null,
      "outputs": []
    },
    {
      "cell_type": "code",
      "metadata": {
        "id": "pNRtOnlLmYD0"
      },
      "source": [
        "df.loc[df['bracket_4'] == 1, 'distances'] = 41\n",
        "df.loc[df['bracket_4'] == 2, 'distances'] = 42\n",
        "df.loc[df['bracket_4'] == 3, 'distances'] = 43\n",
        "df.loc[df['bracket_4'] == 4, 'distances'] = 44\n",
        "df.loc[df['bracket_4'] == 5, 'distances'] = 45\n",
        "# # df.loc[df['bracket_4'] == 6, 'distances'] = 46\n",
        "# # df.loc[df['bracket_4'] == 7, 'distances'] = 47"
      ],
      "execution_count": null,
      "outputs": []
    },
    {
      "cell_type": "code",
      "metadata": {
        "id": "vICrDnzjmfyD"
      },
      "source": [
        "df.loc[df['bracket_5'] == 1, 'distances'] = 51\n",
        "df.loc[df['bracket_5'] == 2, 'distances'] = 52\n",
        "df.loc[df['bracket_5'] == 3, 'distances'] = 53\n",
        "df.loc[df['bracket_5'] == 4, 'distances'] = 54\n",
        "df.loc[df['bracket_5'] == 5, 'distances'] = 55\n",
        "# df.loc[df['bracket_5'] == 6, 'distances'] = 56\n",
        "# df.loc[df['bracket_5'] == 7, 'distances'] = 57"
      ],
      "execution_count": null,
      "outputs": []
    },
    {
      "cell_type": "code",
      "metadata": {
        "id": "8gKJ62FKU5M9"
      },
      "source": [
        "# df.loc[df['bracket_6'] == 1, 'distances'] = 61\n",
        "# df.loc[df['bracket_6'] == 2, 'distances'] = 62\n",
        "# df.loc[df['bracket_6'] == 3, 'distances'] = 63\n",
        "# df.loc[df['bracket_6'] == 4, 'distances'] = 64\n",
        "# df.loc[df['bracket_6'] == 5, 'distances'] = 65"
      ],
      "execution_count": null,
      "outputs": []
    },
    {
      "cell_type": "code",
      "metadata": {
        "id": "j8cN8LaUVFzT"
      },
      "source": [
        "# df.loc[df['bracket_7'] == 1, 'distances'] = 71\n",
        "# df.loc[df['bracket_7'] == 2, 'distances'] = 72\n",
        "# df.loc[df['bracket_7'] == 3, 'distances'] = 73\n",
        "# df.loc[df['bracket_7'] == 4, 'distances'] = 74\n",
        "# df.loc[df['bracket_7'] == 5, 'distances'] = 75"
      ],
      "execution_count": null,
      "outputs": []
    },
    {
      "cell_type": "code",
      "metadata": {
        "id": "WDUHLZbAVL6I"
      },
      "source": [
        "# df.loc[df['bracket_8'] == 1, 'distances'] = 81\n",
        "# df.loc[df['bracket_8'] == 2, 'distances'] = 82\n",
        "# df.loc[df['bracket_8'] == 3, 'distances'] = 83\n",
        "# df.loc[df['bracket_8'] == 4, 'distances'] = 84\n",
        "# df.loc[df['bracket_8'] == 5, 'distances'] = 85"
      ],
      "execution_count": null,
      "outputs": []
    },
    {
      "cell_type": "code",
      "metadata": {
        "id": "fYQfzYp_VQ6L"
      },
      "source": [
        "# df.loc[df['bracket_9'] == 1, 'distances'] = 91\n",
        "# df.loc[df['bracket_9'] == 2, 'distances'] = 92\n",
        "# df.loc[df['bracket_9'] == 3, 'distances'] = 93\n",
        "# df.loc[df['bracket_9'] == 4, 'distances'] = 94\n",
        "# df.loc[df['bracket_9'] == 5, 'distances'] = 95"
      ],
      "execution_count": null,
      "outputs": []
    },
    {
      "cell_type": "code",
      "metadata": {
        "id": "4AmaTH4xVV_W"
      },
      "source": [
        "# df.loc[df['bracket_10'] == 1, 'distances'] = 101\n",
        "# df.loc[df['bracket_10'] == 2, 'distances'] = 102\n",
        "# df.loc[df['bracket_10'] == 3, 'distances'] = 103\n",
        "# df.loc[df['bracket_10'] == 4, 'distances'] = 104\n",
        "# df.loc[df['bracket_10'] == 5, 'distances'] = 105"
      ],
      "execution_count": null,
      "outputs": []
    },
    {
      "cell_type": "code",
      "metadata": {
        "colab": {
          "base_uri": "https://localhost:8080/"
        },
        "id": "VvicaNy9VDix",
        "outputId": "9e16f639-5844-47fc-b862-430cef68341d"
      },
      "source": [
        "#Columns with missing values\n",
        "nan_col = []\n",
        "for col in df.head():\n",
        "    nan = df[col].isnull().values.any()\n",
        "    if nan == True:\n",
        "        nan_col.append(col)\n",
        "print(nan_col)"
      ],
      "execution_count": null,
      "outputs": [
        {
          "output_type": "stream",
          "text": [
            "[]\n"
          ],
          "name": "stdout"
        }
      ]
    },
    {
      "cell_type": "markdown",
      "metadata": {
        "id": "DmE6BI6DqXsS"
      },
      "source": [
        "Normalizing"
      ]
    },
    {
      "cell_type": "code",
      "metadata": {
        "id": "NtIhbr1BqZeA"
      },
      "source": [
        "df['sold_price'] = df.apply(lambda x: x['sold_price']/x['sqrt_ft'], axis=1)"
      ],
      "execution_count": null,
      "outputs": []
    },
    {
      "cell_type": "code",
      "metadata": {
        "id": "6USotVyisSLz"
      },
      "source": [
        "df['year_built'] = 2021 - df['year_built']\n",
        "df['MLS']=(df['MLS']-df['MLS'].min())/(df['MLS'].max()-df['MLS'].min())\n",
        "df['zipcode']=(df['zipcode']-df['zipcode'].min())/(df['zipcode'].max()-df['zipcode'].min())\n",
        "df['sold_price']=(df['sold_price']-df['sold_price'].min())/(df['sold_price'].max()-df['sold_price'].min())\n",
        "df['latitude']=(df['latitude']-df['latitude'].min())/(df['latitude'].max()-df['latitude'].min())\n",
        "df['longitude']=(df['longitude']-df['longitude'].min())/(df['longitude'].max()-df['longitude'].min())\n",
        "df['taxes']=(df['taxes']-df['taxes'].min())/(df['taxes'].max()-df['taxes'].min())\n",
        "df['year_built']=(df['year_built']-df['year_built'].min())/(df['year_built'].max()-df['year_built'].min())\n",
        "df['bedrooms']=(df['bedrooms']-df['bedrooms'].min())/(df['bedrooms'].max()-df['bedrooms'].min())\n",
        "df['bathrooms']=(df['bathrooms']-df['bathrooms'].min())/(df['bathrooms'].max()-df['bathrooms'].min())\n",
        "df['garage']=(df['garage']-df['garage'].min())/(df['garage'].max()-df['garage'].min())\n",
        "df['kitchen_features']=(df['kitchen_features']-df['kitchen_features'].min())/(df['kitchen_features'].max()-df['kitchen_features'].min())\n",
        "df['floor_covering']=(df['floor_covering']-df['floor_covering'].min())/(df['floor_covering'].max()-df['floor_covering'].min())\n",
        "df['tax_bracket']=(df['tax_bracket']-df['tax_bracket'].min())/(df['tax_bracket'].max()-df['tax_bracket'].min())\n",
        "df['bracket_1']=(df['bracket_1']-df['bracket_1'].min())/(df['bracket_1'].max()-df['bracket_1'].min())\n",
        "df['bracket_2']=(df['bracket_2']-df['bracket_2'].min())/(df['bracket_2'].max()-df['bracket_2'].min())\n",
        "df['bracket_3']=(df['bracket_3']-df['bracket_3'].min())/(df['bracket_3'].max()-df['bracket_3'].min())\n",
        "df['bracket_4']=(df['bracket_4']-df['bracket_4'].min())/(df['bracket_4'].max()-df['bracket_4'].min())\n",
        "df['bracket_5']=(df['bracket_5']-df['bracket_5'].min())/(df['bracket_5'].max()-df['bracket_5'].min())"
      ],
      "execution_count": null,
      "outputs": []
    },
    {
      "cell_type": "code",
      "metadata": {
        "id": "dqHlzhi_oISv"
      },
      "source": [
        "X = df\n",
        "df.sample(frac=1)\n",
        "X.head()"
      ],
      "execution_count": null,
      "outputs": []
    },
    {
      "cell_type": "code",
      "metadata": {
        "id": "kXhcLyc9qa1C"
      },
      "source": [
        "df1 = df[['distances','longitude', 'latitude']].copy()"
      ],
      "execution_count": null,
      "outputs": []
    },
    {
      "cell_type": "code",
      "metadata": {
        "id": "KndHgd7cqg1P"
      },
      "source": [
        "X1_train = df1.iloc[:3963,1:].to_numpy()\n",
        "y1_train = df1.iloc[:3963,0].to_numpy()\n",
        "X1_test =  df1.iloc[3963:4458,1:].to_numpy()\n",
        "y1_test = df1.iloc[3963:4458,0].to_numpy()\n",
        "X1_validate =  df1.iloc[4458:4954,1:].to_numpy()\n",
        "y1_validate = df1.iloc[4458:4954,0].to_numpy()"
      ],
      "execution_count": null,
      "outputs": []
    },
    {
      "cell_type": "code",
      "metadata": {
        "id": "hsF3XF1hpkAC"
      },
      "source": [
        "df2 = df[['sold_price','distances','bedrooms','bathrooms','sqrt_ft','lot_acres','year_built','zipcode','garage']].copy()"
      ],
      "execution_count": null,
      "outputs": []
    },
    {
      "cell_type": "code",
      "metadata": {
        "id": "04-f6pFlsaMF"
      },
      "source": [
        "df2"
      ],
      "execution_count": null,
      "outputs": []
    },
    {
      "cell_type": "code",
      "metadata": {
        "id": "TReN3Kxr03c5"
      },
      "source": [
        "q1 = df2.zipcode.quantile(0.05)\n",
        "def app(x):\n",
        "  if x < q1:\n",
        "    return q1\n",
        "  else:\n",
        "    return x\n",
        "q2 = df2.zipcode.quantile(0.95)\n",
        "def app1(x):\n",
        "  if x > q2:\n",
        "    return q2\n",
        "  else:\n",
        "    return x\n",
        "df2[\"zipcode\"] = df2.zipcode.apply(app)\n",
        "df2[\"zipcode\"] = df2.zipcode.apply(app1)\n",
        "v1 = df2.year_built.quantile(0.05)\n",
        "def cut(x):\n",
        "  if x < v1:\n",
        "    return v1\n",
        "  else:\n",
        "    return x\n",
        "v2 = df2.year_built.quantile(0.95)\n",
        "def cut1(x):\n",
        "  if x > v2:\n",
        "    return v2\n",
        "  else:\n",
        "    return x\n",
        "df2[\"year_built\"] = df2.year_built.apply(cut)\n",
        "df2[\"year_built\"] = df2.year_built.apply(cut1)"
      ],
      "execution_count": null,
      "outputs": []
    },
    {
      "cell_type": "code",
      "metadata": {
        "id": "JBFlpKlFLMfZ"
      },
      "source": [
        "q1 = df2.sold_price.quantile(0.05)\n",
        "def app(x):\n",
        "  if x < q1:\n",
        "    return q1\n",
        "  else:\n",
        "    return x\n",
        "q2 = df2.sold_price.quantile(0.95)\n",
        "def app1(x):\n",
        "  if x > q2:\n",
        "    return q2\n",
        "  else:\n",
        "    return x\n",
        "df2[\"sold_price\"] = df2.sold_price.apply(app)\n",
        "df2[\"sold_price\"] = df2.sold_price.apply(app1)"
      ],
      "execution_count": null,
      "outputs": []
    },
    {
      "cell_type": "code",
      "metadata": {
        "id": "eCkw9UA5n_Zp"
      },
      "source": [
        "q1 = df2.garage.quantile(0.05)\n",
        "def app(x):\n",
        "  if x < q1:\n",
        "    return q1\n",
        "  else:\n",
        "    return x\n",
        "q2 = df2.garage.quantile(0.95)\n",
        "def app1(x):\n",
        "  if x > q2:\n",
        "    return q2\n",
        "  else:\n",
        "    return x\n",
        "df2[\"garage\"] = df2.garage.apply(app)\n",
        "df2[\"garage\"] = df2.garage.apply(app1)\n",
        "# v1 = df2.HOA.quantile(0.05)\n",
        "# def cut(x):\n",
        "#   if x < v1:\n",
        "#     return v1\n",
        "#   else:\n",
        "#     return x\n",
        "# v2 = df2.HOA.quantile(0.95)\n",
        "# def cut1(x):\n",
        "#   if x > v2:\n",
        "#     return v2\n",
        "#   else:\n",
        "#     return x\n",
        "# df2[\"HOA\"] = df2.HOA.apply(cut)\n",
        "# df2[\"HOA\"] = df2.HOA.apply(cut1)"
      ],
      "execution_count": null,
      "outputs": []
    },
    {
      "cell_type": "code",
      "metadata": {
        "id": "nBQso0lt4ccF"
      },
      "source": [
        "q1 = df2.sqrt_ft.quantile(0.05)\n",
        "def app(x):\n",
        "  if x < q1:\n",
        "    return q1\n",
        "  else:\n",
        "    return x\n",
        "q2 = df2.sqrt_ft.quantile(0.95)\n",
        "def app1(x):\n",
        "  if x > q2:\n",
        "    return q2\n",
        "  else:\n",
        "    return x\n",
        "df2[\"sqrt_ft\"] = df2.sqrt_ft.apply(app)\n",
        "df2[\"sqrt_ft\"] = df2.sqrt_ft.apply(app1)\n",
        "v1 = df2.lot_acres.quantile(0.05)\n",
        "def cut(x):\n",
        "  if x < v1:\n",
        "    return v1\n",
        "  else:\n",
        "    return x\n",
        "v2 = df2.lot_acres.quantile(0.95)\n",
        "def cut1(x):\n",
        "  if x > v2:\n",
        "    return v2\n",
        "  else:\n",
        "    return x\n",
        "df2[\"lot_acres\"] = df2.lot_acres.apply(cut)\n",
        "df2[\"lot_acres\"] = df2.lot_acres.apply(cut1)"
      ],
      "execution_count": null,
      "outputs": []
    },
    {
      "cell_type": "code",
      "metadata": {
        "id": "FzpWlZ0fZv0k"
      },
      "source": [
        "b1 = df.bedrooms.quantile(0.05)\n",
        "def bed(x):\n",
        "  if x < b1:\n",
        "    return b1\n",
        "  else:\n",
        "    return x\n",
        "df[\"bedrooms\"] = df.bedrooms.apply(bed)\n",
        "b2 = df.bedrooms.quantile(0.95)\n",
        "def bed1(x):\n",
        "  if x > b2:\n",
        "    return b2\n",
        "  else:\n",
        "    return x\n",
        "df[\"bedrooms\"] = df.bedrooms.apply(bed)\n",
        "df[\"bedrooms\"] = df.bedrooms.apply(bed1)"
      ],
      "execution_count": null,
      "outputs": []
    },
    {
      "cell_type": "code",
      "metadata": {
        "id": "Gt84F2gAaEZ7"
      },
      "source": [
        "c1 = df.bathrooms.quantile(0.05)\n",
        "def bath(x):\n",
        "  if x < c1:\n",
        "    return c1\n",
        "  else:\n",
        "    return x\n",
        "c2 = df.bathrooms.quantile(0.95)\n",
        "def bath1(x):\n",
        "  if x > c2:\n",
        "    return c2\n",
        "  else:\n",
        "    return x\n",
        "df[\"bathrooms\"] = df.bathrooms.apply(bath)\n",
        "df[\"bathrooms\"] = df.bathrooms.apply(bath1)"
      ],
      "execution_count": null,
      "outputs": []
    },
    {
      "cell_type": "code",
      "metadata": {
        "id": "r_WWLvBVtk2D"
      },
      "source": [
        "df2"
      ],
      "execution_count": null,
      "outputs": []
    },
    {
      "cell_type": "code",
      "metadata": {
        "id": "mlbJgbNN8Wmn"
      },
      "source": [
        "df2.dtypes"
      ],
      "execution_count": null,
      "outputs": []
    },
    {
      "cell_type": "code",
      "metadata": {
        "id": "B5Ktmh5_qBi6"
      },
      "source": [
        "df2['sqrt_ft'] = (df2['sqrt_ft']-df2['sqrt_ft'].min())/(df2['sqrt_ft'].max()-df2['sqrt_ft'].min())\n",
        "df2['lot_acres'] = (df2['lot_acres']-df2['lot_acres'].min())/(df2['lot_acres'].max()-df2['lot_acres'].min())\n",
        "#df2['distances'] = (df2['distances']-df2['distances'].min())/(df2['distances'].max()-df2['distances'].min())\n",
        "df2['lot_acres'] = np.log1p(df2['lot_acres'])\n",
        "df2['sqrt_ft'] = np.log1p(df2['sqrt_ft'])\n",
        "df2['bedrooms'] = np.log1p(df2['bedrooms'])\n",
        "# df2['distances'] = np.log1p(df2['distances'])\n",
        "df2['distances'] = df['distances']\n",
        "df2['year_built'] = np.log1p(df2['year_built'])\n",
        "df2['garage'] = np.log1p(df2['garage'])"
      ],
      "execution_count": null,
      "outputs": []
    },
    {
      "cell_type": "code",
      "metadata": {
        "id": "899bb4xq858_"
      },
      "source": [
        "df2.distances.value_counts()"
      ],
      "execution_count": null,
      "outputs": []
    },
    {
      "cell_type": "code",
      "metadata": {
        "id": "XvXXUrKP9eHJ"
      },
      "source": [
        "df['11'] = df.loc[df['distances'] == 11, 'distances']"
      ],
      "execution_count": null,
      "outputs": []
    },
    {
      "cell_type": "code",
      "metadata": {
        "id": "8phF2Lo499J4"
      },
      "source": [
        "df.loc[df['bedrooms'] == 11, 'distances']\n",
        "df.loc[df['bathrooms'] == 11, 'distances']\n",
        "df.loc[df['sold_price'] == 11, 'distances']"
      ],
      "execution_count": null,
      "outputs": []
    },
    {
      "cell_type": "code",
      "metadata": {
        "id": "LGWrl1mV9nbX"
      },
      "source": [
        "df['11'].dropna()"
      ],
      "execution_count": null,
      "outputs": []
    },
    {
      "cell_type": "code",
      "metadata": {
        "id": "Ipm5sQp7tIHG"
      },
      "source": [
        "df2"
      ],
      "execution_count": null,
      "outputs": []
    },
    {
      "cell_type": "code",
      "metadata": {
        "id": "fG0n5M7V94kD"
      },
      "source": [
        ""
      ],
      "execution_count": null,
      "outputs": []
    },
    {
      "cell_type": "code",
      "metadata": {
        "id": "qCQPI_6FqthO"
      },
      "source": [
        "X_train = df2.iloc[:3963,1:].to_numpy()\n",
        "\n",
        "y_train = df2.iloc[:3963,0].to_numpy()\n",
        "X_test =  df2.iloc[3963:4458,1:].to_numpy()\n",
        "y_test = df2.iloc[3963:4458,0].to_numpy()\n",
        "X_validate =  df2.iloc[4458:4954,1:].to_numpy()\n",
        "y_validate = df2.iloc[4458:4954,0].to_numpy()"
      ],
      "execution_count": null,
      "outputs": []
    },
    {
      "cell_type": "code",
      "metadata": {
        "colab": {
          "base_uri": "https://localhost:8080/"
        },
        "id": "jCh-73-0s1Yk",
        "outputId": "c643c75b-efd8-42c7-e9ff-2bddecc79b37"
      },
      "source": [
        "X_train"
      ],
      "execution_count": null,
      "outputs": [
        {
          "output_type": "execute_result",
          "data": {
            "text/plain": [
              "array([[5.10000000e+01, 2.94799540e-01, 2.77777778e-01, ...,\n",
              "        2.92846695e-02, 7.97513321e-01, 6.45385211e-02],\n",
              "       [4.10000000e+01, 2.81708770e-02, 5.55555556e-02, ...,\n",
              "        1.08375445e-02, 8.06394316e-01, 6.45385211e-02],\n",
              "       [4.10000000e+01, 2.81708770e-02, 8.33333333e-02, ...,\n",
              "        1.08375445e-02, 8.06394316e-01, 6.45385211e-02],\n",
              "       ...,\n",
              "       [1.10000000e+01, 2.81708770e-02, 8.33333333e-02, ...,\n",
              "        1.48478127e-03, 1.00000000e+00, 9.53101798e-02],\n",
              "       [1.10000000e+01, 8.22380982e-02, 1.11111111e-01, ...,\n",
              "        7.89347956e-03, 9.09413854e-01, 9.53101798e-02],\n",
              "       [1.10000000e+01, 8.22380982e-02, 8.33333333e-02, ...,\n",
              "        2.92846695e-02, 9.34280639e-01, 6.45385211e-02]])"
            ]
          },
          "metadata": {
            "tags": []
          },
          "execution_count": 54
        }
      ]
    },
    {
      "cell_type": "code",
      "metadata": {
        "id": "fhBbUcgXTEwR"
      },
      "source": [
        "#ax =  df.scatter(x = 'latitude', y = 'longitude',style='o',c =A,figsize=(20, 20))\n",
        "plt.figure(figsize=(20, 10), dpi=80)\n",
        "plt.scatter(x = df['latitude'], y = df['longitude'],c = list(df['distances']), alpha = 0.5, s = 10)"
      ],
      "execution_count": null,
      "outputs": []
    },
    {
      "cell_type": "code",
      "metadata": {
        "id": "JZXsCKws2QxQ"
      },
      "source": [
        "class KNNClassifier():\n",
        "  def fit(self, X, y):\n",
        "    self.X = X\n",
        "    self.y = y\n",
        "  def predict(self, X, K, epsilon = 1e-3):\n",
        "    N = len(X)\n",
        "    y_hat = np.zeros(N)\n",
        "\n",
        "    for i in range(N):\n",
        "      dist2 = np.sum((self.X-X[i])**2, axis = 1)\n",
        "      idxt = np.argsort(dist2)[:K]\n",
        "      gamma_k = 1/(np.sqrt(dist2[idxt])+epsilon)\n",
        "      y_hat[i] = np.bincount(self.y[idxt], weights = gamma_k).argmax()\n",
        "\n",
        "    return y_hat"
      ],
      "execution_count": null,
      "outputs": []
    },
    {
      "cell_type": "code",
      "metadata": {
        "colab": {
          "base_uri": "https://localhost:8080/"
        },
        "id": "fpO4bA6r2jpL",
        "outputId": "235dcb16-d056-47ba-d94f-a62e2fc3d1e6"
      },
      "source": [
        "import time\n",
        "start_time = time.time()\n",
        "knn = KNNClassifier()\n",
        "knn.fit(X1_train,y1_train)\n",
        "print(\"--- %s seconds ---\" % (time.time() - start_time))"
      ],
      "execution_count": null,
      "outputs": [
        {
          "output_type": "stream",
          "text": [
            "--- 0.00010752677917480469 seconds ---\n"
          ],
          "name": "stdout"
        }
      ]
    },
    {
      "cell_type": "code",
      "metadata": {
        "colab": {
          "base_uri": "https://localhost:8080/"
        },
        "id": "FbBMQ5lv225B",
        "outputId": "bfe3f57d-233c-4d4b-e1d7-463ba87b269f"
      },
      "source": [
        "start_time = time.time()\n",
        "y1_hat = knn.predict(X1_validate,3)\n",
        "print(\"--- %s seconds ---\" % (time.time() - start_time))"
      ],
      "execution_count": null,
      "outputs": [
        {
          "output_type": "stream",
          "text": [
            "--- 0.18754196166992188 seconds ---\n"
          ],
          "name": "stdout"
        }
      ]
    },
    {
      "cell_type": "code",
      "metadata": {
        "id": "BgMv-7TzGkuM"
      },
      "source": [
        "\n",
        "def accuracyKNN(y_validate,y_hat):\n",
        "    return np.mean(y1_validate == y1_hat)"
      ],
      "execution_count": null,
      "outputs": []
    },
    {
      "cell_type": "code",
      "metadata": {
        "id": "JHXafMzHGt2w"
      },
      "source": [
        "print(accuracyKNN(y1_validate ,y1_hat))\n"
      ],
      "execution_count": null,
      "outputs": []
    },
    {
      "cell_type": "code",
      "metadata": {
        "id": "KMA-LJ1znycR"
      },
      "source": [
        "class KNNRegressor():\n",
        "\n",
        "  def fit(self,X,y):\n",
        "    self.X = X\n",
        "    self.y = y\n",
        "  def predict(self,X,K, epsilon = 1e-3):\n",
        "    N = len(X)\n",
        "    y_hat = np.zeros(N) #empty y_hat same size as X\n",
        "\n",
        "    #count everything within a certain distance\n",
        "    for i in range(N):\n",
        "      dist2 = np.sum((self.X - X[i])**2, axis = 1)\n",
        "      idxt = np.argsort(dist2)[:K]\n",
        "      gamma_k = np.exp(-dist2[idxt])/np.exp(-dist2[idxt]).sum() #normalized set of distance\n",
        "      y_hat[i] = gamma_k.dot(self.y[idxt])\n",
        "      \n",
        "    return y_hat\n"
      ],
      "execution_count": null,
      "outputs": []
    },
    {
      "cell_type": "code",
      "metadata": {
        "id": "YPVUuWaASJjH"
      },
      "source": [
        "knn = KNNRegressor()"
      ],
      "execution_count": null,
      "outputs": []
    },
    {
      "cell_type": "code",
      "metadata": {
        "id": "waTMpH2mSa71"
      },
      "source": [
        "knn.fit(X_train,y_train)"
      ],
      "execution_count": null,
      "outputs": []
    },
    {
      "cell_type": "code",
      "metadata": {
        "id": "u1txXzqeSeAe"
      },
      "source": [
        "y_hat = knn.predict(X_test,1000, epsilon = 1e-5) #X1 = Test set (effectively)\n",
        "#y_hat2 = knn.predict(X1,30, epsilon = 1e-3) #Larger K smoother curve smaller K risk overfitting\n",
        "plt.figure(figsize=(12, 6))\n",
        "# sns.swarmplot(X_test[:,0],y_hat)\n",
        "# plt.title('Location versus Price')\n",
        "# plt.xlim([10.0, 60.0])\n",
        "#plt.ylim([-112,-110])\n",
        "# plt.plot(X_train,y_hat, color = \"#FF0070\")\n",
        "# plt.plot(X_train,y_hat2, color = \"#00FF00\")"
      ],
      "execution_count": null,
      "outputs": []
    },
    {
      "cell_type": "code",
      "metadata": {
        "id": "QGc3Sejr7n-m"
      },
      "source": [
        "def OLS(Y,Y_hat,N):\n",
        "  return (1/(2*N))*np.sum((Y-Y_hat)**2)\n",
        "def R2(Y,Y_hat):\n",
        "  return (1 - (np.sum((Y-Y_hat)**2)/np.sum((Y-np.mean(Y))**2)))"
      ],
      "execution_count": null,
      "outputs": []
    },
    {
      "cell_type": "code",
      "metadata": {
        "id": "hV3PGhOe7rVJ"
      },
      "source": [
        "R2(y_test, y_hat)"
      ],
      "execution_count": null,
      "outputs": []
    },
    {
      "cell_type": "code",
      "metadata": {
        "id": "Rq2TeqpEt80W"
      },
      "source": [
        "class SimpleLinearReg():\n",
        "    \n",
        "    def fit(self,X,y):\n",
        "        self.y=y\n",
        "        self.d=np.mean(X**2)-np.mean(X)**2\n",
        "        self.w0=(np.mean(y)*np.mean(X**2)-np.mean(X)*np.mean(X*y))/self.d\n",
        "        self.w1=(np.mean(X*y)-np.mean(X)*np.mean(y))/(np.mean(X**2)-np.mean(X)**2)    \n",
        "    def predict(self,X,show=0):\n",
        "        y_hat=self.w0+self.w1*X\n",
        "        if show:\n",
        "            plt.figure()\n",
        "            plt.scatter(X,self.y,s=8)\n",
        "            plt.plot(X,y_hat,color='#FF0070')\n",
        "            \n",
        "        return y_hat"
      ],
      "execution_count": null,
      "outputs": []
    },
    {
      "cell_type": "code",
      "metadata": {
        "id": "IDqN-kGb2UgP"
      },
      "source": [
        "slr = SimpleLinearReg()"
      ],
      "execution_count": null,
      "outputs": []
    },
    {
      "cell_type": "code",
      "metadata": {
        "id": "GwwoToW52b4z"
      },
      "source": [
        "slr.fit(X_train,y_train)"
      ],
      "execution_count": null,
      "outputs": []
    },
    {
      "cell_type": "code",
      "metadata": {
        "id": "14a8dw4KS208"
      },
      "source": [
        "class OURLinearRegression():\n",
        "    \n",
        "    def fit(self, X, y, eta = 1e-3, epochs = 1e3, show_curve = False, lambd = 0, p = 1):\n",
        "        epochs = int(epochs)\n",
        "        N, D = X.shape\n",
        "        Y = y\n",
        "        \n",
        "        self.W = np.random.randn(D)\n",
        "        \n",
        "        J = np.zeros(epochs)\n",
        "        \n",
        "        for epoch in range(epochs):\n",
        "            Y_hat = self.predict(X)\n",
        "            J[epoch] = OLS(Y, Y_hat, N)  #(lambd/p*N)*np.linalg.norm(self.W, ord=p, keepdims=True)\n",
        "            self.W -= eta*(1/N)*(X.T@(Y_hat - Y)) # (1/N)*(lambd*np.abs(self.W)**(p-1)*np.sign(self.W)))\n",
        "                    \n",
        "         \n",
        "        if show_curve:\n",
        "            plt.figure()\n",
        "            plt.plot(J)\n",
        "            plt.xlabel(\"epochs\")\n",
        "            plt.ylabel(\"$\\mathcal{J}$\")\n",
        "            plt.title(\"Training Curve\")\n",
        "            plt.show()        \n",
        "    def predict(self, X):\n",
        "        return X @ self.W"
      ],
      "execution_count": null,
      "outputs": []
    },
    {
      "cell_type": "code",
      "metadata": {
        "id": "PZiyy-rzWre_"
      },
      "source": [
        "OLR = OURLinearRegression()"
      ],
      "execution_count": null,
      "outputs": []
    },
    {
      "cell_type": "code",
      "metadata": {
        "id": "14qZireXMylI"
      },
      "source": [
        "y_hat = OLR.predict(X_test) #X1 = Test set (effectively)\n"
      ],
      "execution_count": null,
      "outputs": []
    },
    {
      "cell_type": "code",
      "metadata": {
        "id": "AhuSLZ46M5ih"
      },
      "source": [
        "R2(y_test, y_hat)"
      ],
      "execution_count": null,
      "outputs": []
    },
    {
      "cell_type": "code",
      "metadata": {
        "id": "-mV7G0TvXxm2"
      },
      "source": [
        "OLR.fit(X_validate, y_validate, epochs = 1e2, eta = 1e-8, show_curve = True)"
      ],
      "execution_count": null,
      "outputs": []
    },
    {
      "cell_type": "code",
      "metadata": {
        "id": "9gOxzX0hzwjb"
      },
      "source": [
        ""
      ],
      "execution_count": null,
      "outputs": []
    }
  ]
}