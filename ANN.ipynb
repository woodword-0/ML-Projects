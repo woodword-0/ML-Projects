{
  "nbformat": 4,
  "nbformat_minor": 0,
  "metadata": {
    "colab": {
      "name": "ANN.ipynb",
      "provenance": [],
      "collapsed_sections": [],
      "authorship_tag": "ABX9TyNGlHVg51gVnasPM3KmFXBp",
      "include_colab_link": true
    },
    "kernelspec": {
      "name": "python3",
      "display_name": "Python 3"
    },
    "language_info": {
      "name": "python"
    }
  },
  "cells": [
    {
      "cell_type": "markdown",
      "metadata": {
        "id": "view-in-github",
        "colab_type": "text"
      },
      "source": [
        "<a href=\"https://colab.research.google.com/github/woodword-0/ML-Projects/blob/main/ANN.ipynb\" target=\"_parent\"><img src=\"https://colab.research.google.com/assets/colab-badge.svg\" alt=\"Open In Colab\"/></a>"
      ]
    },
    {
      "cell_type": "code",
      "metadata": {
        "id": "Wd66DDrVAIVf"
      },
      "source": [
        "import numpy as np\n",
        "import pandas as pd\n",
        "import matplotlib.pyplot as plt\n",
        "from matplotlib.colors import ListedColormap\n",
        "import seaborn as sns\n",
        "import random\n",
        "from scipy.stats import boxcox\n",
        "random.seed(9000)"
      ],
      "execution_count": null,
      "outputs": []
    },
    {
      "cell_type": "code",
      "metadata": {
        "id": "OHRXSakHASWm"
      },
      "source": [
        "df = pd.read_csv('/content/Churn_Modelling - Churn_Modelling.csv')"
      ],
      "execution_count": null,
      "outputs": []
    },
    {
      "cell_type": "markdown",
      "metadata": {
        "id": "AadC1duCAc4w"
      },
      "source": [
        "Outlier and Dropped Columns\n"
      ]
    },
    {
      "cell_type": "code",
      "metadata": {
        "id": "nsee0VGyAU82"
      },
      "source": [
        "df = df[df['CreditScore'] > 400]  \n",
        "df = df[df['Age'] <= 60]  \n",
        "df = df[df['NumOfProducts'] < 4]  \n",
        "df.drop(['RowNumber','CustomerId'],axis = 1)"
      ],
      "execution_count": null,
      "outputs": []
    },
    {
      "cell_type": "markdown",
      "metadata": {
        "id": "6h2h-dqHAstG"
      },
      "source": [
        "Imputing and Value Types"
      ]
    },
    {
      "cell_type": "code",
      "metadata": {
        "id": "Tes5UigBAp5t"
      },
      "source": [
        "df['CustomerId'].astype('int')\n",
        "vc_item1 = df['Surname'].value_counts()\n",
        "\n",
        "df['Surname'] = df['Surname'].apply(lambda x: vc_item1[x])\n",
        "df.loc[df['Geography'] == 'France', 'Geography'] = 2\n",
        "df.loc[df['Geography'] == 'Germany', 'Geography'] = 1\n",
        "df.loc[df['Geography'] == 'Spain', 'Geography'] = 0\n",
        "df['Geography'] = df['Geography'].astype('int')\n",
        "df.loc[df['Gender'] == 'Female', 'Gender'] = 0\n",
        "df.loc[df['Gender'] == 'Male', 'Gender'] = 1\n",
        "df['Gender'] = df['Gender'].astype('int')\n",
        "\n",
        "df.drop(['RowNumber','CustomerId'],axis = 1, inplace= True)"
      ],
      "execution_count": null,
      "outputs": []
    },
    {
      "cell_type": "code",
      "metadata": {
        "id": "8ucaDmEcA5LJ"
      },
      "source": [
        "def minimax(s):\n",
        "  df[s]=(df[s]-df[s].min())/(df[s].max()-df[s].min())\n"
      ],
      "execution_count": null,
      "outputs": []
    },
    {
      "cell_type": "code",
      "metadata": {
        "id": "2pO6HGTmA51u"
      },
      "source": [
        "minimax('Surname')\n",
        "minimax('CreditScore')\n",
        "minimax('Age')\n",
        "minimax('Balance')\n",
        "minimax('EstimatedSalary')"
      ],
      "execution_count": null,
      "outputs": []
    },
    {
      "cell_type": "code",
      "metadata": {
        "id": "1Y9S00YOA8-4"
      },
      "source": [
        "ax = plt.figure(figsize=(8,8))\n",
        "plt.scatter(x = df['CreditScore']\t,y = df['Age'], c = df['Gender'] , alpha = 1,s = 2 ) #predict\n",
        "# draw_circle3 = plt.Circle((0.83,0.59), 0.03, color = 'r', fill = False )\n",
        "# ax.add_artist(draw_circle3)\n",
        "plt.xlabel(\"CreditScore\")\n",
        "plt.ylabel('Age')\n",
        "plt.title('CreditScore vs Age (Colored by Male Female)')\n",
        "# plt.scatter(X,y, c = 'b', alpha = 0.5,s = 1000, edgecolors = '0' ) #predict\n",
        "plt.show()"
      ],
      "execution_count": null,
      "outputs": []
    },
    {
      "cell_type": "code",
      "metadata": {
        "id": "Lro7QN4OBBwB"
      },
      "source": [
        "# X_train = df_new.iloc[:11397,0:11].to_numpy() #goes to 11396\n",
        "# y_train = df_new.iloc[:11397,11].to_numpy()\n",
        "# X_validate = df_new.iloc[11397:12822,0:11].to_numpy()\n",
        "# y_validate = df_new.iloc[11397:12822,11:12].to_numpy()\n",
        "# X_test = df_new.iloc[12822:14246,0:11].to_numpy()\n",
        "# y_test = df_new.iloc[12822:14246,11:12].to_numpy()\n",
        "# X_train = df_new.iloc[:11397,0:11].to_numpy() #goes to 11396\n",
        "# y_train = df_new.iloc[:11397,11].to_numpy()\n",
        "# X_validate = df_new.iloc[11397:12822,0:11].to_numpy()\n",
        "# y_validate = df_new.iloc[11397:12822,11:12].to_numpy()\n",
        "# X_test = df_new.iloc[12822:14246,0:11].to_numpy()\n",
        "# y_test = df_new.iloc[12822:14246,11:12].to_numpy()\n",
        "data1 = df.drop(\"HasCrCard\",axis=1) \n",
        "data2 = df['HasCrCard']\n",
        "#match new indices\n",
        "data1.reset_index(drop=True, inplace=True)\n",
        "data2.reset_index(drop=True, inplace=True)\n",
        "df_new = pd.concat([data1,data2], axis = 1)\n",
        "df_new.drop(['Exited','NumOfProducts','CreditScore','Surname','Tenure','Balance','IsActiveMember'],axis = 1, inplace= True)"
      ],
      "execution_count": null,
      "outputs": []
    },
    {
      "cell_type": "code",
      "metadata": {
        "id": "dyN-McF8BElT"
      },
      "source": [
        "X_train = df_new.iloc[:7568,0:4].to_numpy() #goes to 11396\n",
        "y_train = df_new.iloc[:7568,4].to_numpy()\n",
        "X_validate = df_new.iloc[7568:8514,0:4].to_numpy()\n",
        "y_validate = df_new.iloc[7568:8514,4:5].to_numpy()\n",
        "X_test = df_new.iloc[8514:9460,0:4].to_numpy()\n",
        "y_test = df_new.iloc[8514:9460,4:5].to_numpy()"
      ],
      "execution_count": null,
      "outputs": []
    },
    {
      "cell_type": "code",
      "metadata": {
        "id": "ODkwrYxjBI1J"
      },
      "source": [
        "plt.figure(figsize= (15,15))\n",
        "corr=df_new.corr()\n",
        "sns.heatmap(corr, annot=True)\n",
        "plt.show()"
      ],
      "execution_count": null,
      "outputs": []
    },
    {
      "cell_type": "code",
      "metadata": {
        "id": "C0rlB160BMp_"
      },
      "source": [
        "def linear(H):\n",
        "  return H\n",
        "  \n",
        "def ReLU(H):\n",
        "  return H*(H>0)\n",
        "\n",
        "def sigmoid(H):\n",
        "  return 1/(1+ np.exp(np.float128(-H)))\n",
        "\n",
        "def softmax(H):\n",
        "  eH=np.exp(H)\n",
        "  return eH/eH.sum(axis=1, keepdims =True)\n",
        "\n",
        "def cross_entropy(Y,P_hat):\n",
        "  return -(1/len(Y))*np.sum(Y*np.log(P_hat))\n",
        "\n",
        "def OLS(Y,Y_hat):\n",
        "  return (1/(2*len(Y)))*np.sum((Y - Y_hat)**2)\n",
        "\n",
        "def one_hot_encode(y):\n",
        "  N=len(y)\n",
        "  K = len(set(y))\n",
        "  Y=np.zeros((N,K))\n",
        "\n",
        "  for i in range(N):\n",
        "    Y[i, y[i]]=1\n",
        "\n",
        "  return Y\n",
        "\n",
        "def accuracy(y, y_hat):\n",
        "  return np.mean(y==y_hat)\n",
        "\n",
        "def R2(y,y_hat):\n",
        "  return 1- np.sum((y - y_hat)**2)/np.sum((y - y.mean())**2)\n",
        "def derivative(Z,a):\n",
        "  if a==linear:\n",
        "    return 1\n",
        "  elif a==sigmoid:\n",
        "    return Z*(1-Z)\n",
        "  elif a==np.tanh:\n",
        "    return 1 - Z*Z\n",
        "  elif a==ReLU:\n",
        "    return (Z>0).astype(int)\n",
        "  else:\n",
        "    ValueError(\"Unknown Activation Function\")"
      ],
      "execution_count": null,
      "outputs": []
    },
    {
      "cell_type": "code",
      "metadata": {
        "id": "SLcSDsmGBQLh"
      },
      "source": [
        "class  ANN():\n",
        "\n",
        "  def __init__(self,architecture, activations = None, mode = 1):\n",
        "    self.mode = mode\n",
        "    self.architecture = architecture\n",
        "    self.activations = activations\n",
        "    self.L = len(architecture) + 1\n",
        "\n",
        "  def fit(self, X, y, eta = 1e-3, epochs = 1e3, show_curve = False):\n",
        "    epochs = int(epochs)\n",
        "    if self.mode:\n",
        "      Y=one_hot_encode(y)\n",
        "    else:\n",
        "      Y = one_hot_encode(y)\n",
        "    N,D = X.shape\n",
        "    K = Y.shape[1]\n",
        "\n",
        "    #Initialize weights and biases: Stochastic Initialization\n",
        "    self.W = {l:np.random.randn(M[0],M[1]) for l,M in enumerate(zip(([D] + self.architecture), (self.architecture + [K])),1)}\n",
        "\n",
        "    self.b = {l: np.random.randn(M) for l,M in enumerate(self.architecture + [K], 1)}\n",
        "\n",
        "    #Activate Function Loading\n",
        "    if self.activations is None:\n",
        "      self.a = {l: ReLU for l in range(1, self.L)}\n",
        "    else:\n",
        "      self.a = {l: act for l,act in enumerate(self.activations, 1)}\n",
        "\n",
        "    #Mode Set\n",
        "    if self.mode:\n",
        "      self.a[self.L] = linear\n",
        "    else:\n",
        "      self.a[self.L] = softmax #use sigmoid for binary\n",
        "    J = np.zeros(epochs)\n",
        "\n",
        "    #Gradient Descent/Back Propogation\n",
        "    for epoch in range(epochs):\n",
        "      self.forward(X)\n",
        "\n",
        "      if self.mode:\n",
        "        J[epoch] = OLS(Y,self.Z[self.L])\n",
        "      else:\n",
        "        J[epoch] = cross_entropy(Y,self.Z[self.L])\n",
        "\n",
        "      dH = (1/N)*(self.Z[self.L]-Y)\n",
        "      for l in sorted(self.W.keys(), reverse = True):\n",
        "        dW = self.Z[l-1].T@dH\n",
        "        db = dH.sum(axis = 0)\n",
        "\n",
        "        #Update rules\n",
        "        self.W[l] -= eta*dW\n",
        "        self.b[l] -= eta*db\n",
        "\n",
        "        if l > 1:\n",
        "          dZ = dH@self.W[l].T\n",
        "          dH = dZ*derivative(self.Z[l-1],self.a[l-1])\n",
        "\n",
        "    if show_curve:\n",
        "      plt.figure()\n",
        "      plt.plot(J)\n",
        "      plt.xlabel(\"epochs\")\n",
        "      plt.ylabel('$\\mathcal{J}$')\n",
        "      plt.title('Training Curve')\n",
        "      plt.show()\n",
        "\n",
        "  def forward(self,X):\n",
        "    self.Z = {0:X}\n",
        "\n",
        "    for l in sorted(self.W.keys()):\n",
        "      self.Z[l] = self.a[l](self.Z[l-1]@self.W[l] + self.b[l])\n",
        "\n",
        "  def predict(self, X):\n",
        "    self.forward(X)\n",
        "\n",
        "    if self.mode:\n",
        "      return self.Z[self.L]\n",
        "    else:\n",
        "      return self.Z[self.L].argmax(axis = 1)\n",
        "\n",
        "\n",
        "\n",
        "len(y_train)\n"
      ],
      "execution_count": null,
      "outputs": []
    },
    {
      "cell_type": "code",
      "metadata": {
        "id": "93VDAAfgBTXZ"
      },
      "source": [
        "ann = ANN([16,12,16,2], [ReLU,ReLU, ReLU,sigmoid])\n",
        "ann.fit(X_train, y_train, eta = 1e-2, epochs = 1000, show_curve = True)  #ann = ANN([16,12,16,2], [ReLU,ReLU, ReLU,sigmoid])\n",
        "# ann.fit(X_train, y_train, eta = 1e-2, epochs = 500, show_curve = True)"
      ],
      "execution_count": null,
      "outputs": []
    },
    {
      "cell_type": "code",
      "metadata": {
        "id": "HV8wYWiNBW-a"
      },
      "source": [
        "y_hat = ann.predict(X_train)"
      ],
      "execution_count": null,
      "outputs": []
    },
    {
      "cell_type": "code",
      "metadata": {
        "id": "WqfqpPHEBaHv"
      },
      "source": [
        "y_hat = y_hat[:,0]"
      ],
      "execution_count": null,
      "outputs": []
    },
    {
      "cell_type": "code",
      "metadata": {
        "id": "sk_l-6LyBcUr"
      },
      "source": [
        "def filters(x):\n",
        "  if x > 0.2:\n",
        "    return 1\n",
        "  else:\n",
        "    return 0"
      ],
      "execution_count": null,
      "outputs": []
    },
    {
      "cell_type": "code",
      "metadata": {
        "id": "CyIUmb8SBed1"
      },
      "source": [
        "preds = pd.DataFrame(y_hat)\n",
        "preds = preds[0].apply(filters)\n",
        "preds"
      ],
      "execution_count": null,
      "outputs": []
    },
    {
      "cell_type": "code",
      "metadata": {
        "id": "4yTRBvUqBgim"
      },
      "source": [
        "print(f\"Training Accuracy: {accuracy(y_train, preds.to_numpy()):0.4f}\")"
      ],
      "execution_count": null,
      "outputs": []
    },
    {
      "cell_type": "code",
      "metadata": {
        "id": "UIUtxGUEBjWH"
      },
      "source": [
        "def confusion_matrix(y, y_hat):\n",
        "  plt.figure(figsize=(10,7))\n",
        "  y_actu = pd.Series(y, name='Actual')\n",
        "  y_pred = pd.Series(y_hat, name='Predicted')\n",
        "  cm = pd.crosstab(y_actu, y_pred)\n",
        "  ax = sns.heatmap(cm, annot=True, fmt=\"d\")\n",
        "  plt.ylabel('True label')\n",
        "  plt.xlabel('Predicted label')\n",
        "  #plt.savefig(\"/content/drive/MyDrive/cm\")"
      ],
      "execution_count": null,
      "outputs": []
    },
    {
      "cell_type": "code",
      "metadata": {
        "id": "QEVDvDDSBmb4"
      },
      "source": [
        "confusion_matrix(y_train, preds.to_numpy())"
      ],
      "execution_count": null,
      "outputs": []
    }
  ]
}