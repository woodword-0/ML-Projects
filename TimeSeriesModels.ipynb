{
  "nbformat": 4,
  "nbformat_minor": 0,
  "metadata": {
    "colab": {
      "name": "TimeSeriesModels.ipynb",
      "provenance": [],
      "collapsed_sections": [],
      "authorship_tag": "ABX9TyPsR4p3K4LGjFRXbV+uYrqG",
      "include_colab_link": true
    },
    "kernelspec": {
      "name": "python3",
      "display_name": "Python 3"
    },
    "language_info": {
      "name": "python"
    }
  },
  "cells": [
    {
      "cell_type": "markdown",
      "metadata": {
        "id": "view-in-github",
        "colab_type": "text"
      },
      "source": [
        "<a href=\"https://colab.research.google.com/github/woodword-0/ML-Projects/blob/main/TimeSeriesModels.ipynb\" target=\"_parent\"><img src=\"https://colab.research.google.com/assets/colab-badge.svg\" alt=\"Open In Colab\"/></a>"
      ]
    },
    {
      "cell_type": "code",
      "metadata": {
        "id": "MXfTXSpKRg5l"
      },
      "source": [
        "import os\n",
        "import datetime\n",
        "\n",
        "import IPython\n",
        "import IPython.display\n",
        "import matplotlib as mpl\n",
        "import matplotlib.pyplot as plt\n",
        "import numpy as np\n",
        "import pandas as pd\n",
        "import seaborn as sns\n",
        "import tensorflow as tf\n",
        "\n",
        "mpl.rcParams['figure.figsize'] = (8,6)\n",
        "mpl.rcParams['axes.grid'] = False"
      ],
      "execution_count": null,
      "outputs": []
    },
    {
      "cell_type": "code",
      "metadata": {
        "colab": {
          "base_uri": "https://localhost:8080/"
        },
        "id": "1IfHOjUgSOCY",
        "outputId": "31997ec3-fb7c-464a-eb1f-6654210f20e1"
      },
      "source": [
        "from google.colab import drive\n",
        "drive.mount('/content/drive')"
      ],
      "execution_count": null,
      "outputs": [
        {
          "output_type": "stream",
          "text": [
            "Drive already mounted at /content/drive; to attempt to forcibly remount, call drive.mount(\"/content/drive\", force_remount=True).\n"
          ],
          "name": "stdout"
        }
      ]
    },
    {
      "cell_type": "code",
      "metadata": {
        "id": "woaHy8TjSVFn"
      },
      "source": [
        "df = pd.read_csv('/content/drive/MyDrive/W_Corporate.csv')\n",
        "#df = df[5::6] #index starting from 5 taking every 6th record\n",
        "date_time = pd.to_datetime(df.pop('Date'), format = '%Y-%m-%d')"
      ],
      "execution_count": null,
      "outputs": []
    },
    {
      "cell_type": "code",
      "metadata": {
        "colab": {
          "base_uri": "https://localhost:8080/"
        },
        "id": "5vwAruk9TYzj",
        "outputId": "7fdc2044-61f4-40bc-93cf-65de3b3791c4"
      },
      "source": [
        "df.shape"
      ],
      "execution_count": null,
      "outputs": [
        {
          "output_type": "execute_result",
          "data": {
            "text/plain": [
              "(143, 6)"
            ]
          },
          "metadata": {
            "tags": []
          },
          "execution_count": 62
        }
      ]
    },
    {
      "cell_type": "code",
      "metadata": {
        "colab": {
          "base_uri": "https://localhost:8080/",
          "height": 202
        },
        "id": "BJtDfAeoVOYD",
        "outputId": "55d25896-0045-434a-b8d0-d3f5c372ce06"
      },
      "source": [
        "df.head()"
      ],
      "execution_count": null,
      "outputs": [
        {
          "output_type": "execute_result",
          "data": {
            "text/html": [
              "<div>\n",
              "<style scoped>\n",
              "    .dataframe tbody tr th:only-of-type {\n",
              "        vertical-align: middle;\n",
              "    }\n",
              "\n",
              "    .dataframe tbody tr th {\n",
              "        vertical-align: top;\n",
              "    }\n",
              "\n",
              "    .dataframe thead th {\n",
              "        text-align: right;\n",
              "    }\n",
              "</style>\n",
              "<table border=\"1\" class=\"dataframe\">\n",
              "  <thead>\n",
              "    <tr style=\"text-align: right;\">\n",
              "      <th></th>\n",
              "      <th>Unnamed: 0</th>\n",
              "      <th>Weekly_Sales</th>\n",
              "      <th>Weekly_Sales_log</th>\n",
              "      <th>minMax_WeeklySales</th>\n",
              "      <th>minMax_log</th>\n",
              "      <th>log_minMax</th>\n",
              "    </tr>\n",
              "  </thead>\n",
              "  <tbody>\n",
              "    <tr>\n",
              "      <th>0</th>\n",
              "      <td>0</td>\n",
              "      <td>4.395632e+07</td>\n",
              "      <td>17.598707</td>\n",
              "      <td>0.268822</td>\n",
              "      <td>0.238089</td>\n",
              "      <td>0.326115</td>\n",
              "    </tr>\n",
              "    <tr>\n",
              "      <th>1</th>\n",
              "      <td>1</td>\n",
              "      <td>4.390070e+07</td>\n",
              "      <td>17.597441</td>\n",
              "      <td>0.266719</td>\n",
              "      <td>0.236430</td>\n",
              "      <td>0.323775</td>\n",
              "    </tr>\n",
              "    <tr>\n",
              "      <th>2</th>\n",
              "      <td>2</td>\n",
              "      <td>4.396829e+07</td>\n",
              "      <td>17.598979</td>\n",
              "      <td>0.269274</td>\n",
              "      <td>0.238445</td>\n",
              "      <td>0.326618</td>\n",
              "    </tr>\n",
              "    <tr>\n",
              "      <th>3</th>\n",
              "      <td>3</td>\n",
              "      <td>4.040934e+07</td>\n",
              "      <td>17.514572</td>\n",
              "      <td>0.134733</td>\n",
              "      <td>0.126397</td>\n",
              "      <td>0.170631</td>\n",
              "    </tr>\n",
              "    <tr>\n",
              "      <th>4</th>\n",
              "      <td>4</td>\n",
              "      <td>4.252274e+07</td>\n",
              "      <td>17.565550</td>\n",
              "      <td>0.214627</td>\n",
              "      <td>0.194437</td>\n",
              "      <td>0.264839</td>\n",
              "    </tr>\n",
              "  </tbody>\n",
              "</table>\n",
              "</div>"
            ],
            "text/plain": [
              "   Unnamed: 0  Weekly_Sales  ...  minMax_log  log_minMax\n",
              "0           0  4.395632e+07  ...    0.238089    0.326115\n",
              "1           1  4.390070e+07  ...    0.236430    0.323775\n",
              "2           2  4.396829e+07  ...    0.238445    0.326618\n",
              "3           3  4.040934e+07  ...    0.126397    0.170631\n",
              "4           4  4.252274e+07  ...    0.194437    0.264839\n",
              "\n",
              "[5 rows x 6 columns]"
            ]
          },
          "metadata": {
            "tags": []
          },
          "execution_count": 63
        }
      ]
    },
    {
      "cell_type": "markdown",
      "metadata": {
        "id": "IT3uN5SRVPKP"
      },
      "source": [
        "Looking at some features"
      ]
    },
    {
      "cell_type": "code",
      "metadata": {
        "colab": {
          "base_uri": "https://localhost:8080/",
          "height": 759
        },
        "id": "Yt69RrRcUkvC",
        "outputId": "3ca1bbf3-719e-413e-ea5b-1aba2365ba7d"
      },
      "source": [
        "plot_cols = ['Weekly_Sales']\n",
        "plot_features = df[plot_cols]\n",
        "plot_features.index = date_time\n",
        "_=plot_features.plot(subplots = True)\n",
        "\n",
        "plot_features = df[plot_cols]#[:480]\n",
        "plot_features.index = date_time#[:480]\n",
        "_= plot_features.plot(subplots = True)\n"
      ],
      "execution_count": null,
      "outputs": [
        {
          "output_type": "display_data",
          "data": {
            "image/png": "[encoded data removed]",
            "text/plain": [
              "<Figure size 576x432 with 1 Axes>"
            ]
          },
          "metadata": {
            "tags": [],
            "needs_background": "light"
          }
        },
        {
          "output_type": "display_data",
          "data": {
            "image/png": "[encoded data removed]",
            "text/plain": [
              "<Figure size 576x432 with 1 Axes>"
            ]
          },
          "metadata": {
            "tags": [],
            "needs_background": "light"
          }
        }
      ]
    },
    {
      "cell_type": "code",
      "metadata": {
        "colab": {
          "base_uri": "https://localhost:8080/",
          "height": 233
        },
        "id": "e1HCuVPjV4DP",
        "outputId": "1669ef31-ac28-4fe4-cb28-73f6e8af4a65"
      },
      "source": [
        "df.describe().transpose()"
      ],
      "execution_count": null,
      "outputs": [
        {
          "output_type": "execute_result",
          "data": {
            "text/html": [
              "<div>\n",
              "<style scoped>\n",
              "    .dataframe tbody tr th:only-of-type {\n",
              "        vertical-align: middle;\n",
              "    }\n",
              "\n",
              "    .dataframe tbody tr th {\n",
              "        vertical-align: top;\n",
              "    }\n",
              "\n",
              "    .dataframe thead th {\n",
              "        text-align: right;\n",
              "    }\n",
              "</style>\n",
              "<table border=\"1\" class=\"dataframe\">\n",
              "  <thead>\n",
              "    <tr style=\"text-align: right;\">\n",
              "      <th></th>\n",
              "      <th>count</th>\n",
              "      <th>mean</th>\n",
              "      <th>std</th>\n",
              "      <th>min</th>\n",
              "      <th>25%</th>\n",
              "      <th>50%</th>\n",
              "      <th>75%</th>\n",
              "      <th>max</th>\n",
              "    </tr>\n",
              "  </thead>\n",
              "  <tbody>\n",
              "    <tr>\n",
              "      <th>Unnamed: 0</th>\n",
              "      <td>143.0</td>\n",
              "      <td>7.100000e+01</td>\n",
              "      <td>4.142463e+01</td>\n",
              "      <td>0.000000e+00</td>\n",
              "      <td>3.550000e+01</td>\n",
              "      <td>7.100000e+01</td>\n",
              "      <td>1.065000e+02</td>\n",
              "      <td>1.420000e+02</td>\n",
              "    </tr>\n",
              "    <tr>\n",
              "      <th>Weekly_Sales</th>\n",
              "      <td>143.0</td>\n",
              "      <td>4.306387e+07</td>\n",
              "      <td>3.532692e+06</td>\n",
              "      <td>3.684533e+07</td>\n",
              "      <td>4.155836e+07</td>\n",
              "      <td>4.255290e+07</td>\n",
              "      <td>4.395299e+07</td>\n",
              "      <td>6.329779e+07</td>\n",
              "    </tr>\n",
              "    <tr>\n",
              "      <th>Weekly_Sales_log</th>\n",
              "      <td>143.0</td>\n",
              "      <td>1.757523e+01</td>\n",
              "      <td>7.512603e-02</td>\n",
              "      <td>1.742224e+01</td>\n",
              "      <td>1.754261e+01</td>\n",
              "      <td>1.756626e+01</td>\n",
              "      <td>1.759863e+01</td>\n",
              "      <td>1.796336e+01</td>\n",
              "    </tr>\n",
              "    <tr>\n",
              "      <th>minMax_WeeklySales</th>\n",
              "      <td>143.0</td>\n",
              "      <td>2.350838e-01</td>\n",
              "      <td>1.335487e-01</td>\n",
              "      <td>0.000000e+00</td>\n",
              "      <td>1.781699e-01</td>\n",
              "      <td>2.157672e-01</td>\n",
              "      <td>2.686956e-01</td>\n",
              "      <td>1.000000e+00</td>\n",
              "    </tr>\n",
              "    <tr>\n",
              "      <th>minMax_log</th>\n",
              "      <td>143.0</td>\n",
              "      <td>2.061361e-01</td>\n",
              "      <td>9.712574e-02</td>\n",
              "      <td>0.000000e+00</td>\n",
              "      <td>1.639622e-01</td>\n",
              "      <td>1.953754e-01</td>\n",
              "      <td>2.379893e-01</td>\n",
              "      <td>6.931472e-01</td>\n",
              "    </tr>\n",
              "    <tr>\n",
              "      <th>log_minMax</th>\n",
              "      <td>143.0</td>\n",
              "      <td>2.827358e-01</td>\n",
              "      <td>1.388339e-01</td>\n",
              "      <td>0.000000e+00</td>\n",
              "      <td>2.224451e-01</td>\n",
              "      <td>2.661495e-01</td>\n",
              "      <td>3.259744e-01</td>\n",
              "      <td>1.000000e+00</td>\n",
              "    </tr>\n",
              "  </tbody>\n",
              "</table>\n",
              "</div>"
            ],
            "text/plain": [
              "                    count          mean  ...           75%           max\n",
              "Unnamed: 0          143.0  7.100000e+01  ...  1.065000e+02  1.420000e+02\n",
              "Weekly_Sales        143.0  4.306387e+07  ...  4.395299e+07  6.329779e+07\n",
              "Weekly_Sales_log    143.0  1.757523e+01  ...  1.759863e+01  1.796336e+01\n",
              "minMax_WeeklySales  143.0  2.350838e-01  ...  2.686956e-01  1.000000e+00\n",
              "minMax_log          143.0  2.061361e-01  ...  2.379893e-01  6.931472e-01\n",
              "log_minMax          143.0  2.827358e-01  ...  3.259744e-01  1.000000e+00\n",
              "\n",
              "[6 rows x 8 columns]"
            ]
          },
          "metadata": {
            "tags": []
          },
          "execution_count": 65
        }
      ]
    },
    {
      "cell_type": "code",
      "metadata": {
        "colab": {
          "base_uri": "https://localhost:8080/"
        },
        "id": "NByMMEn3aIKO",
        "outputId": "0621a67f-30e0-46ae-b6b3-e9cf2ed2df2c"
      },
      "source": [
        "max(df.Weekly_Sales)"
      ],
      "execution_count": null,
      "outputs": [
        {
          "output_type": "execute_result",
          "data": {
            "text/plain": [
              "63297789.73790484"
            ]
          },
          "metadata": {
            "tags": []
          },
          "execution_count": 66
        }
      ]
    },
    {
      "cell_type": "markdown",
      "metadata": {
        "id": "gvMhfEQYX1hd"
      },
      "source": [
        "I will use the Fourier Transform to pick out the most important time frequencies for our data."
      ]
    },
    {
      "cell_type": "code",
      "metadata": {
        "id": "aFaxnATFX0wM"
      },
      "source": [
        "\n",
        "fft = tf.signal.rfft(df['Weekly_Sales'])\n",
        "f_per_dataset = np.arange(0,len(fft)) #72\n",
        "\n",
        "n_samples_h = len(df['Weekly_Sales']) #143\n",
        "weeks_per_year = 52\n",
        "weeks_per_dataset = n_samples_h/weeks_per_year\n",
        "\n",
        "f_per_year = f_per_dataset/weeks_per_year\n",
        "plt.step(f_per_year, np.abs(fft))\n",
        "plt.xscale('log')\n",
        "plt.ylim(0,37868291)\n",
        "plt.xlim([1, max(plt.xlim())])\n",
        "plt.xticks([0.1,10], labels = ['1/Year', '1/week'])\n",
        "_= plt.xlabel('Frequency(log scale)')"
      ],
      "execution_count": null,
      "outputs": []
    },
    {
      "cell_type": "code",
      "metadata": {
        "id": "Cevc349vdnav"
      },
      "source": [
        "fft = tf.signal.rfft(df['Weekly_Sales'])\n"
      ],
      "execution_count": null,
      "outputs": []
    },
    {
      "cell_type": "code",
      "metadata": {
        "colab": {
          "base_uri": "https://localhost:8080/"
        },
        "id": "ryXgutnY_klx",
        "outputId": "898a7443-1a4a-41a8-928d-80bf8e0b4c6a"
      },
      "source": [
        "len(date_time)"
      ],
      "execution_count": null,
      "outputs": [
        {
          "output_type": "execute_result",
          "data": {
            "text/plain": [
              "143"
            ]
          },
          "metadata": {
            "tags": []
          },
          "execution_count": 69
        }
      ]
    },
    {
      "cell_type": "code",
      "metadata": {
        "colab": {
          "base_uri": "https://localhost:8080/"
        },
        "id": "qmqqzORRWMyl",
        "outputId": "5f3c5fc0-e3bb-4776-bbd9-d6321bb59c09"
      },
      "source": [
        "143/2"
      ],
      "execution_count": null,
      "outputs": [
        {
          "output_type": "execute_result",
          "data": {
            "text/plain": [
              "71.5"
            ]
          },
          "metadata": {
            "tags": []
          },
          "execution_count": 70
        }
      ]
    },
    {
      "cell_type": "code",
      "metadata": {
        "id": "41tbrRasd4Eb"
      },
      "source": [
        "column_indices = {name:i for i, name in enumerate(df.columns)}\n",
        "n = len(df)\n",
        "train_df = df[0:int(n*0.7)]\n",
        "val_df = df[int(n*0.7):int(n*0.9)]\n",
        "test_df = df[int(n*0.9):]\n",
        "\n",
        "num_features = df.shape[1]"
      ],
      "execution_count": null,
      "outputs": []
    },
    {
      "cell_type": "code",
      "metadata": {
        "id": "KKwCkquJp52u"
      },
      "source": [
        "train_mean = train_df.mean()\n",
        "train_std = train_df.std()"
      ],
      "execution_count": null,
      "outputs": []
    },
    {
      "cell_type": "code",
      "metadata": {
        "colab": {
          "base_uri": "https://localhost:8080/",
          "height": 486
        },
        "id": "UlhMdITjrAuR",
        "outputId": "1a398fca-50d2-4a6a-ca5e-1f7a4fd7d03b"
      },
      "source": [
        "df_std = (df - train_mean)/train_std\n",
        "df_std = df_std.melt(var_name = 'Column', value_name = 'Normalized')\n",
        "plt.figure(figsize = (12,6))\n",
        "ax = sns.violinplot(x ='Column', y = 'Normalized', data = df_std)\n",
        "_= ax.set_xticklabels(df.keys(), rotation  = 90)"
      ],
      "execution_count": null,
      "outputs": [
        {
          "output_type": "display_data",
          "data": {
            "image/png": "[encoded data removed]",
            "text/plain": [
              "<Figure size 864x432 with 1 Axes>"
            ]
          },
          "metadata": {
            "tags": [],
            "needs_background": "light"
          }
        }
      ]
    },
    {
      "cell_type": "code",
      "metadata": {
        "id": "in4eEpC-rqI3"
      },
      "source": [
        "class WindowGenerator():\n",
        "  def __init__(self, input_width, label_width, shift,\n",
        "               train_df=train_df, val_df=val_df, test_df=test_df,\n",
        "               label_columns=None):\n",
        "    # Store the raw data.\n",
        "    self.train_df = train_df\n",
        "    self.val_df = val_df\n",
        "    self.test_df = test_df\n",
        "\n",
        "    # Work out the label column indices.\n",
        "    self.label_columns = label_columns\n",
        "    if label_columns is not None:\n",
        "      self.label_columns_indices = {name: i for i, name in\n",
        "                                    enumerate(label_columns)}\n",
        "    self.column_indices = {name: i for i, name in\n",
        "                           enumerate(train_df.columns)}\n",
        "\n",
        "    # Work out the window parameters.\n",
        "    self.input_width = input_width\n",
        "    self.label_width = label_width\n",
        "    self.shift = shift\n",
        "\n",
        "    self.total_window_size = input_width + shift\n",
        "\n",
        "    self.input_slice = slice(0, input_width)\n",
        "    self.input_indices = np.arange(self.total_window_size)[self.input_slice]\n",
        "\n",
        "    self.label_start = self.total_window_size - self.label_width\n",
        "    self.labels_slice = slice(self.label_start, None)\n",
        "    self.label_indices = np.arange(self.total_window_size)[self.labels_slice]\n",
        "\n",
        "  def __repr__(self):\n",
        "    return '\\n'.join([\n",
        "        f'Total window size: {self.total_window_size}',\n",
        "        f'Input indices: {self.input_indices}',\n",
        "        f'Label indices: {self.label_indices}',\n",
        "        f'Label column name(s): {self.label_columns}'])"
      ],
      "execution_count": null,
      "outputs": []
    },
    {
      "cell_type": "code",
      "metadata": {
        "colab": {
          "base_uri": "https://localhost:8080/"
        },
        "id": "PIkf8n6KzlQc",
        "outputId": "aa129127-e339-49a3-f59f-0d10c19cd502"
      },
      "source": [
        "# #Makes a prediction 13 weeks into the future using 13 weeks of history\n",
        "w1 = WindowGenerator(input_width = 13 ,label_width = 1, shift=13, label_columns= ['Weekly_Sales'] )\n",
        "w1\n",
        "#Makes a prediction 13 weeks into the future using 13 weeks of history\n",
        "# w1 = WindowGenerator(input_width = 20 ,label_width = 1, shift=10, label_columns= ['Weekly_Sales'] )\n",
        "# w1"
      ],
      "execution_count": null,
      "outputs": [
        {
          "output_type": "execute_result",
          "data": {
            "text/plain": [
              "Total window size: 26\n",
              "Input indices: [ 0  1  2  3  4  5  6  7  8  9 10 11 12]\n",
              "Label indices: [25]\n",
              "Label column name(s): ['Weekly_Sales']"
            ]
          },
          "metadata": {
            "tags": []
          },
          "execution_count": 75
        }
      ]
    },
    {
      "cell_type": "code",
      "metadata": {
        "id": "qMoigi5l1kyH"
      },
      "source": [
        "def split_window(self, features):\n",
        "  inputs = features[:, self.input_slice, :] #slice features 0 to input width 13 here\n",
        "  labels = features[:, self.labels_slice, :]#slice total window size - label width 25 here (26 - 1)\n",
        "  if self.label_columns is not None:\n",
        "    labels = tf.stack(\n",
        "        [labels[:, :, self.column_indices[name]] for name in self.label_columns],\n",
        "        axis=-1)\n",
        "\n",
        "  # Slicing doesn't preserve static shape information, so set the shapes\n",
        "  # manually. This way the `tf.data.Datasets` are easier to inspect.\n",
        "  inputs.set_shape([None, self.input_width, None])\n",
        "  labels.set_shape([None, self.label_width, None])\n",
        "\n",
        "  return inputs, labels\n",
        "\n",
        "WindowGenerator.split_window = split_window"
      ],
      "execution_count": null,
      "outputs": []
    },
    {
      "cell_type": "code",
      "metadata": {
        "colab": {
          "base_uri": "https://localhost:8080/"
        },
        "id": "42n3QVZX85Xz",
        "outputId": "a3866c63-bc43-42cd-f874-2f5d12cbae48"
      },
      "source": [
        "w1.total_window_size"
      ],
      "execution_count": null,
      "outputs": [
        {
          "output_type": "execute_result",
          "data": {
            "text/plain": [
              "26"
            ]
          },
          "metadata": {
            "tags": []
          },
          "execution_count": 77
        }
      ]
    },
    {
      "cell_type": "code",
      "metadata": {
        "colab": {
          "base_uri": "https://localhost:8080/"
        },
        "id": "VNUYlvpJeQCI",
        "outputId": "2bc05969-d2b6-449b-8e2f-e5905fa794c8"
      },
      "source": [
        "train_df.shape"
      ],
      "execution_count": null,
      "outputs": [
        {
          "output_type": "execute_result",
          "data": {
            "text/plain": [
              "(100, 6)"
            ]
          },
          "metadata": {
            "tags": []
          },
          "execution_count": 78
        }
      ]
    },
    {
      "cell_type": "code",
      "metadata": {
        "colab": {
          "base_uri": "https://localhost:8080/"
        },
        "id": "HChBxfLD3pvN",
        "outputId": "0cddc3ca-bbad-466a-ee63-7200074c1572"
      },
      "source": [
        "# Stack three slices, the length of the total window:\n",
        "example_window = tf.stack([np.array(train_df[:w1.total_window_size]),\n",
        "                           np.array(train_df[w1.total_window_size:2*w1.total_window_size]),\n",
        "                           np.array(train_df[2*w1.total_window_size:3*w1.total_window_size])])\n",
        "\n",
        "\n",
        "example_inputs, example_labels = w1.split_window(example_window)\n",
        "\n",
        "print('All shapes are: (batch, time, features)')\n",
        "print(f'Window shape: {example_window.shape}')\n",
        "print(f'Inputs shape: {example_inputs.shape}')\n",
        "print(f'labels shape: {example_labels.shape}')\n",
        "#takes a batch of 3, 26-timestep windows with 6 features at\n",
        "#each time step splits them into a batch of 13-timestep, 6 feature inputs\n",
        "#and a 1-timestep 1-feature label "
      ],
      "execution_count": null,
      "outputs": [
        {
          "output_type": "stream",
          "text": [
            "All shapes are: (batch, time, features)\n",
            "Window shape: (3, 26, 6)\n",
            "Inputs shape: (3, 13, 6)\n",
            "labels shape: (3, 1, 1)\n"
          ],
          "name": "stdout"
        }
      ]
    },
    {
      "cell_type": "code",
      "metadata": {
        "id": "3cUdfYjt9ERC"
      },
      "source": [
        "w1.example = example_inputs, example_labels"
      ],
      "execution_count": null,
      "outputs": []
    },
    {
      "cell_type": "code",
      "metadata": {
        "id": "bGuZtqI49vb0"
      },
      "source": [
        "def plot(self, model=None, plot_col='Weekly_Sales', max_subplots=3):\n",
        "  inputs, labels = self.example\n",
        "  plt.figure(figsize=(12, 8))\n",
        "  plot_col_index = self.column_indices[plot_col]\n",
        "  max_n = min(max_subplots, len(inputs))\n",
        "  for n in range(max_n):\n",
        "    plt.subplot(max_n, 1, n+1)\n",
        "    plt.ylabel(f'{plot_col} [normed]')\n",
        "    plt.plot(self.input_indices, inputs[n, :, plot_col_index],\n",
        "             label='Inputs', marker='.', zorder=-10)\n",
        "\n",
        "    if self.label_columns:\n",
        "      label_col_index = self.label_columns_indices.get(plot_col, None)\n",
        "    else:\n",
        "      label_col_index = plot_col_index\n",
        "\n",
        "    if label_col_index is None:\n",
        "      continue\n",
        "\n",
        "    plt.scatter(self.label_indices, labels[n, :, label_col_index],\n",
        "                edgecolors='k', label='Labels', c='#2ca02c', s=64)\n",
        "    if model is not None:\n",
        "      predictions = model(inputs)\n",
        "      plt.scatter(self.label_indices, predictions[n, :, label_col_index],\n",
        "                  marker='X', edgecolors='k', label='Predictions',\n",
        "                  c='#ff7f0e', s=64)\n",
        "\n",
        "    if n == 0:\n",
        "      plt.legend()\n",
        "\n",
        "  plt.xlabel('Time [w]')\n",
        "\n",
        "WindowGenerator.plot = plot"
      ],
      "execution_count": null,
      "outputs": []
    },
    {
      "cell_type": "code",
      "metadata": {
        "id": "Nuti4sM--Enl"
      },
      "source": [
        "w1.plot()\n"
      ],
      "execution_count": null,
      "outputs": []
    },
    {
      "cell_type": "code",
      "metadata": {
        "id": "Mtv4vpL3GYFB"
      },
      "source": [
        "def make_dataset(self, data):\n",
        "  data = np.array(data, dtype=np.float32)\n",
        "  ds = tf.keras.preprocessing.timeseries_dataset_from_array(\n",
        "      data=data,\n",
        "      targets=None,\n",
        "      sequence_length=self.total_window_size,\n",
        "      sequence_stride=1,\n",
        "      shuffle=True,\n",
        "      batch_size=32,) #batch size 32\n",
        "\n",
        "  ds = ds.map(self.split_window)\n",
        "\n",
        "  return ds\n",
        "\n",
        "WindowGenerator.make_dataset = make_dataset\n",
        "# takes a time series data set and turns it into a data set\n",
        "# of (input_window, label_window) pairs "
      ],
      "execution_count": null,
      "outputs": []
    },
    {
      "cell_type": "code",
      "metadata": {
        "id": "5FSPvxApHtBq"
      },
      "source": [
        "@property\n",
        "def train(self):\n",
        "  return self.make_dataset(self.train_df)\n",
        "\n",
        "@property\n",
        "def val(self):\n",
        "  return self.make_dataset(self.val_df)\n",
        "\n",
        "@property\n",
        "def test(self):\n",
        "  return self.make_dataset(self.test_df)\n",
        "\n",
        "@property\n",
        "def example(self):\n",
        "  \"\"\"Get and cache an example batch of `inputs, labels` for plotting.\"\"\"\n",
        "  result = getattr(self, '_example', None)\n",
        "  if result is None:\n",
        "    # No example batch was found, so get one from the `.train` dataset\n",
        "    result = next(iter(self.train))\n",
        "    # And cache it for next time\n",
        "    self._example = result\n",
        "  return result\n",
        "\n",
        "WindowGenerator.train = train\n",
        "WindowGenerator.val = val\n",
        "WindowGenerator.test = test\n",
        "WindowGenerator.example = example"
      ],
      "execution_count": null,
      "outputs": []
    },
    {
      "cell_type": "code",
      "metadata": {
        "id": "hSsuOTKqIFSe"
      },
      "source": [
        "# Each element is an (inputs, label) pair\n",
        "w1.train.element_spec"
      ],
      "execution_count": null,
      "outputs": []
    },
    {
      "cell_type": "code",
      "metadata": {
        "id": "Chz_SsinINP3"
      },
      "source": [
        "#iterating over the dataset yields concrete batches\n",
        "for example_inputs, example_labels in w1.train.take(1):\n",
        "  print(f'Inputs shape (batch, time, features): {example_inputs.shape}')\n",
        "  print(f'Labels shape (batch, time, features): {example_labels.shape}')"
      ],
      "execution_count": null,
      "outputs": []
    },
    {
      "cell_type": "markdown",
      "metadata": {
        "id": "ZStFPDeSI-Ao"
      },
      "source": [
        "Model which predicts a single feature's values\n"
      ]
    },
    {
      "cell_type": "code",
      "metadata": {
        "colab": {
          "base_uri": "https://localhost:8080/"
        },
        "id": "Jkdzm0OHIa7y",
        "outputId": "92866aca-c4f1-4e36-989d-5e7ef84e046e"
      },
      "source": [
        "single_step_window = WindowGenerator(\n",
        "    input_width=1, label_width=1, shift=1,\n",
        "    label_columns=['Weekly_Sales'])\n",
        "single_step_window\n",
        "#window object creates datasets from train, val and test\n",
        "#allowing us to easily iterate over batches of data"
      ],
      "execution_count": null,
      "outputs": [
        {
          "output_type": "execute_result",
          "data": {
            "text/plain": [
              "Total window size: 2\n",
              "Input indices: [0]\n",
              "Label indices: [1]\n",
              "Label column name(s): ['Weekly_Sales']"
            ]
          },
          "metadata": {
            "tags": []
          },
          "execution_count": 87
        }
      ]
    },
    {
      "cell_type": "code",
      "metadata": {
        "id": "g4diuHLeJiIt"
      },
      "source": [
        "#build a performance baseline as a point of comparison with\n",
        "#later more complicated models\n",
        "class Baseline(tf.keras.Model):\n",
        "  def __init__(self, label_index = None):\n",
        "    super().__init__()\n",
        "    self.label_index  = label_index\n",
        "  def call(self, inputs):\n",
        "    if self.label_index is None:\n",
        "      return inputs\n",
        "    result = inputs[:,:,self.label_index]\n",
        "    return result[:,:, tf.newaxis]\n"
      ],
      "execution_count": null,
      "outputs": []
    },
    {
      "cell_type": "code",
      "metadata": {
        "colab": {
          "base_uri": "https://localhost:8080/"
        },
        "id": "HxLVTbkiLcS5",
        "outputId": "1e8d8dbe-0f1e-4a09-901d-5c25cbd5a1c3"
      },
      "source": [
        "#Instantiate and evaluate this model\n",
        "baseline = Baseline(label_index = column_indices['Weekly_Sales'])\n",
        "\n",
        "baseline.compile(loss = tf.losses.MeanSquaredError(), \n",
        "                 metrics = [tf.metrics.MeanAbsoluteError(), tf.keras.metrics.RootMeanSquaredError()])\n",
        "\n",
        "val_performance = {}\n",
        "performance = {}\n",
        "val_performance['Baseline'] = baseline.evaluate(single_step_window.val)\n",
        "performance['Baseline'] = baseline.evaluate(single_step_window.test, verbose = 0)\n",
        "                "
      ],
      "execution_count": null,
      "outputs": [
        {
          "output_type": "stream",
          "text": [
            "1/1 [==============================] - 0s 184ms/step - loss: 5540121935872.0000 - mean_absolute_error: 1693351.0000 - root_mean_squared_error: 2353746.2500\n"
          ],
          "name": "stdout"
        }
      ]
    },
    {
      "cell_type": "code",
      "metadata": {
        "colab": {
          "base_uri": "https://localhost:8080/"
        },
        "id": "CyeR0Il-M_I3",
        "outputId": "57371ecb-a5c3-4eab-f752-cdc7181fa6b8"
      },
      "source": [
        "wide_window = WindowGenerator(\n",
        "    input_width=13, label_width=13, shift=1,\n",
        "    label_columns=['Weekly_Sales'])\n",
        "\n",
        "wide_window"
      ],
      "execution_count": null,
      "outputs": [
        {
          "output_type": "execute_result",
          "data": {
            "text/plain": [
              "Total window size: 14\n",
              "Input indices: [ 0  1  2  3  4  5  6  7  8  9 10 11 12]\n",
              "Label indices: [ 1  2  3  4  5  6  7  8  9 10 11 12 13]\n",
              "Label column name(s): ['Weekly_Sales']"
            ]
          },
          "metadata": {
            "tags": []
          },
          "execution_count": 90
        }
      ]
    },
    {
      "cell_type": "code",
      "metadata": {
        "colab": {
          "base_uri": "https://localhost:8080/"
        },
        "id": "1LaM-76EOQjL",
        "outputId": "6f9b9069-b921-4991-fa9d-01f396191a95"
      },
      "source": [
        "print('Input shape:', wide_window.example[0].shape)\n",
        "print('Output shape:', baseline(wide_window.example[0]).shape)"
      ],
      "execution_count": null,
      "outputs": [
        {
          "output_type": "stream",
          "text": [
            "Input shape: (32, 13, 6)\n",
            "Output shape: (32, 13, 1)\n"
          ],
          "name": "stdout"
        }
      ]
    },
    {
      "cell_type": "code",
      "metadata": {
        "id": "74H9HCp3OXiz"
      },
      "source": [
        "wide_window.plot(baseline)\n"
      ],
      "execution_count": null,
      "outputs": []
    },
    {
      "cell_type": "markdown",
      "metadata": {
        "id": "_xz_-p7IPOHw"
      },
      "source": [
        "Blue inputs show sales at each time step\n",
        "Green labels show the target predicted values\n",
        "Orange values are the models predictions for each output step perfect predictions should align with th green labels"
      ]
    },
    {
      "cell_type": "markdown",
      "metadata": {
        "id": "FhlBDWTAVduH"
      },
      "source": [
        "Linear Model"
      ]
    },
    {
      "cell_type": "code",
      "metadata": {
        "id": "i9ba1FM3Odrc"
      },
      "source": [
        "#dense layer with no activation is a linear transformation. Layer only transforms the last \n",
        "#axis of the data from (batch, time, inputs) to (batch, time, inputs) it is applied\n",
        "#independently to every item across the batch and time axes\n",
        "linear = tf.keras.Sequential([\n",
        "    tf.keras.layers.Dense(units=1)\n",
        "])"
      ],
      "execution_count": null,
      "outputs": []
    },
    {
      "cell_type": "code",
      "metadata": {
        "colab": {
          "base_uri": "https://localhost:8080/"
        },
        "id": "m5ZR7pMEYjal",
        "outputId": "2759f08e-adf5-4cc3-c808-b006e4a98c8d"
      },
      "source": [
        "print('Input shape:', single_step_window.example[0].shape)\n",
        "print('Output shape:', linear(single_step_window.example[0]).shape)"
      ],
      "execution_count": null,
      "outputs": [
        {
          "output_type": "stream",
          "text": [
            "Input shape: (32, 1, 6)\n",
            "Output shape: (32, 1, 1)\n"
          ],
          "name": "stdout"
        }
      ]
    },
    {
      "cell_type": "code",
      "metadata": {
        "id": "KWLlt_SbYkAQ"
      },
      "source": [
        "#Since we are training many models, we can package the training\n",
        "#procedure into a function\n",
        "MAX_EPOCHS = 20\n",
        "def compile_and_fit(model, window, patience = 2):\n",
        "  early_stopping = tf.keras.callbacks.EarlyStopping(monitor = 'val_loss',\n",
        "                     patience = patience, mode = 'min')\n",
        "  model.compile(loss = tf.losses.MeanSquaredError(), \n",
        "                 metrics = [tf.metrics.MeanAbsoluteError(), tf.keras.metrics.RootMeanSquaredError()]) \n",
        "  history = model.fit(window.train, epochs = MAX_EPOCHS, \n",
        "                      validation_data = window.val, \n",
        "                      callbacks = [early_stopping]) \n",
        "  return history"
      ],
      "execution_count": null,
      "outputs": []
    },
    {
      "cell_type": "code",
      "metadata": {
        "id": "Ll6afAcLbFa0"
      },
      "source": [
        "#train the model and evaluate its performance\n",
        "history = compile_and_fit(linear, single_step_window)\n",
        "\n",
        "val_performance['Linear'] = linear.evaluate(single_step_window.val)\n",
        "performance['Linear'] = linear.evaluate(single_step_window.test, verbose = 1)"
      ],
      "execution_count": null,
      "outputs": []
    },
    {
      "cell_type": "code",
      "metadata": {
        "id": "XbB0jZKkb6XL"
      },
      "source": [
        "print('Input shape:', wide_window.example[0].shape)\n",
        "print('Output shape:', baseline(wide_window.example[0]).shape)"
      ],
      "execution_count": null,
      "outputs": []
    },
    {
      "cell_type": "code",
      "metadata": {
        "id": "nmoHiqNgg0hk"
      },
      "source": [
        "wide_window.plot(linear)"
      ],
      "execution_count": null,
      "outputs": []
    },
    {
      "cell_type": "markdown",
      "metadata": {
        "id": "RNmXGfCyTE4w"
      },
      "source": [
        "Dense Model"
      ]
    },
    {
      "cell_type": "code",
      "metadata": {
        "id": "W9Jz8t08g24-"
      },
      "source": [
        "#layers weights weight assigned to each input\n",
        "plt.bar(x = range(len(train_df.columns)),\n",
        "        height=linear.layers[0].kernel[:,0].numpy())\n",
        "axis = plt.gca()\n",
        "axis.set_xticks(range(len(train_df.columns)))\n",
        "_ = axis.set_xticklabels(train_df.columns, rotation=90)"
      ],
      "execution_count": null,
      "outputs": []
    },
    {
      "cell_type": "code",
      "metadata": {
        "id": "rHPzSe5gTMPa"
      },
      "source": [
        "dense = tf.keras.Sequential([\n",
        "    tf.keras.layers.Dense(units=64, activation='relu'),\n",
        "    tf.keras.layers.Dense(units=64, activation='relu'),\n",
        "    tf.keras.layers.Dense(units=1)\n",
        "])\n",
        "\n",
        "history = compile_and_fit(dense, single_step_window)\n",
        "\n",
        "val_performance['Dense'] = dense.evaluate(single_step_window.val)\n",
        "performance['Dense'] = dense.evaluate(single_step_window.test, verbose=0)"
      ],
      "execution_count": null,
      "outputs": []
    },
    {
      "cell_type": "code",
      "metadata": {
        "id": "XiHXr1iVTaez"
      },
      "source": [
        "CONV_WIDTH = 13\n",
        "conv_window = WindowGenerator(\n",
        "    input_width=CONV_WIDTH,\n",
        "    label_width=1,\n",
        "    shift=1,\n",
        "    label_columns=['Weekly_Sales'])\n",
        "\n",
        "conv_window"
      ],
      "execution_count": null,
      "outputs": []
    },
    {
      "cell_type": "code",
      "metadata": {
        "id": "YkNNgmG1uX4N"
      },
      "source": [
        "conv_window.plot()\n",
        "plt.title(\"Given 13w as input, predict 1w into the future.\")"
      ],
      "execution_count": null,
      "outputs": []
    },
    {
      "cell_type": "markdown",
      "metadata": {
        "id": "pzx-lUjTUg0m"
      },
      "source": [
        "Multi-Step Dense"
      ]
    },
    {
      "cell_type": "code",
      "metadata": {
        "id": "IHW98LA78hAj"
      },
      "source": [
        "multi_step_dense = tf.keras.Sequential([\n",
        "    # Shape: (time, features) => (time*features)\n",
        "    tf.keras.layers.Flatten(),\n",
        "    tf.keras.layers.Dense(units=32, activation='relu'),\n",
        "    tf.keras.layers.Dense(units=32, activation='relu'),\n",
        "    tf.keras.layers.Dense(units=1),\n",
        "    # Add back the time dimension.\n",
        "    # Shape: (outputs) => (1, outputs)\n",
        "    tf.keras.layers.Reshape([1, -1]),\n",
        "])"
      ],
      "execution_count": null,
      "outputs": []
    },
    {
      "cell_type": "code",
      "metadata": {
        "id": "v0QYDER4-Kvi"
      },
      "source": [
        "print('Input shape:', conv_window.example[0].shape)\n",
        "print('Output shape:', multi_step_dense(conv_window.example[0]).shape)"
      ],
      "execution_count": null,
      "outputs": []
    },
    {
      "cell_type": "code",
      "metadata": {
        "id": "VMuOexnb-MjZ"
      },
      "source": [
        "history = compile_and_fit(multi_step_dense, conv_window)\n",
        "\n",
        "IPython.display.clear_output()\n",
        "val_performance['Multi step dense'] = multi_step_dense.evaluate(conv_window.val)\n",
        "performance['Multi step dense'] = multi_step_dense.evaluate(conv_window.test, verbose=1)"
      ],
      "execution_count": null,
      "outputs": []
    },
    {
      "cell_type": "code",
      "metadata": {
        "id": "1AuluFYXQdtC"
      },
      "source": [
        "conv_window.plot(multi_step_dense)"
      ],
      "execution_count": null,
      "outputs": []
    },
    {
      "cell_type": "code",
      "metadata": {
        "id": "tQr-8mOlQnkI"
      },
      "source": [
        "print('Input shape:', wide_window.example[0].shape)\n",
        "try:\n",
        "  print('Output shape:', multi_step_dense(wide_window.example[0]).shape)\n",
        "except Exception as e:\n",
        "  print(f'\\n{type(e).__name__}:{e}')"
      ],
      "execution_count": null,
      "outputs": []
    },
    {
      "cell_type": "markdown",
      "metadata": {
        "id": "DxYcuNroUoT_"
      },
      "source": [
        "Multi-Step CNN"
      ]
    },
    {
      "cell_type": "markdown",
      "metadata": {
        "id": "MiHoWDq_RUhQ"
      },
      "source": [
        "A convolutional layer also takes multiple time steps as input to each prediction. The flattening layer and the dense layer are replaced by the Conv1D layer. No need for a reshape layer  because teh convolution layer keeps the time axis in its output."
      ]
    },
    {
      "cell_type": "code",
      "metadata": {
        "id": "3Ju2fGuBQ8E3"
      },
      "source": [
        "conv_model = tf.keras.Sequential([\n",
        "    tf.keras.layers.Conv1D(filters=32,\n",
        "                           kernel_size=(CONV_WIDTH,),\n",
        "                           activation='relu'),\n",
        "    tf.keras.layers.Dense(units=32, activation='relu'),\n",
        "    tf.keras.layers.Dense(units=1),\n",
        "])"
      ],
      "execution_count": null,
      "outputs": []
    },
    {
      "cell_type": "code",
      "metadata": {
        "id": "ZfGD6HwhR53Z"
      },
      "source": [
        "#Run on the example batch\n",
        "print(\"Conv model on `conv_window`\")\n",
        "print('Input shape:', conv_window.example[0].shape)\n",
        "print('Output shape:', conv_model(conv_window.example[0]).shape)"
      ],
      "execution_count": null,
      "outputs": []
    },
    {
      "cell_type": "code",
      "metadata": {
        "id": "dKmxLNYlSAxC"
      },
      "source": [
        "history = compile_and_fit(conv_model, conv_window)\n",
        "\n",
        "IPython.display.clear_output()\n",
        "val_performance['Conv'] = conv_model.evaluate(conv_window.val)\n",
        "performance['Conv'] = conv_model.evaluate(conv_window.test, verbose=0)"
      ],
      "execution_count": null,
      "outputs": []
    },
    {
      "cell_type": "code",
      "metadata": {
        "id": "5bX4JVQuSFXS"
      },
      "source": [
        "print(\"Wide window\")\n",
        "print('Input shape:', wide_window.example[0].shape)\n",
        "print('Labels shape:', wide_window.example[1].shape)\n",
        "print('Output shape:', conv_model(wide_window.example[0]).shape)"
      ],
      "execution_count": null,
      "outputs": []
    },
    {
      "cell_type": "markdown",
      "metadata": {
        "id": "y-43bpl0SZ68"
      },
      "source": [
        "Output is shorter than the input. To make the training or plotting work, labels and prediction must have the same length. We will build a window generator for this. It produces a few extra time input steps so the label and prediction lengths match."
      ]
    },
    {
      "cell_type": "code",
      "metadata": {
        "id": "jrfbUiRMS5NA"
      },
      "source": [
        "LABEL_WIDTH = 24\n",
        "INPUT_WIDTH = LABEL_WIDTH + (CONV_WIDTH - 1)\n",
        "wide_conv_window = WindowGenerator(\n",
        "    input_width=INPUT_WIDTH,\n",
        "    label_width=LABEL_WIDTH,\n",
        "    shift=1,\n",
        "    label_columns=['Weekly_Sales'])\n",
        "\n",
        "wide_conv_window"
      ],
      "execution_count": null,
      "outputs": []
    },
    {
      "cell_type": "code",
      "metadata": {
        "id": "fwdWF7o6SU_q"
      },
      "source": [
        "print('Wide conv window')\n",
        "print('Input shape:', wide_conv_window.example[0].shape)\n",
        "print('Labels shape:', wide_conv_window.example[1].shape)\n",
        "print('Output shape:', conv_model(wide_conv_window.example[0]).shape)"
      ],
      "execution_count": null,
      "outputs": []
    },
    {
      "cell_type": "code",
      "metadata": {
        "id": "zHdHWKhf9wc-"
      },
      "source": [
        "wide_conv_window.plot(conv_model)"
      ],
      "execution_count": null,
      "outputs": []
    },
    {
      "cell_type": "markdown",
      "metadata": {
        "id": "jvR0zcuKBaUj"
      },
      "source": [
        "Recurrent Neural Network (RNN) Long Short Term Memory (LSTM)"
      ]
    },
    {
      "cell_type": "code",
      "metadata": {
        "id": "9YhferxxBmFd"
      },
      "source": [
        "lstm_model = tf.keras.models.Sequential([\n",
        "   #Shape [batch, time, features] => [batch, time, LSTM units] \n",
        "    tf.keras.layers.LSTM(32, return_sequences = True), \n",
        "    # Shape => [batch, time, features]\n",
        "    tf.keras.layers.Dense(units=1)                                  \n",
        "])"
      ],
      "execution_count": null,
      "outputs": []
    },
    {
      "cell_type": "code",
      "metadata": {
        "id": "hN-_A80T-DCo"
      },
      "source": [
        "print('Input Shape:',  wide_window.example[0].shape)\n",
        "print('Output Shape:', lstm_model(wide_window.example[0]).shape)"
      ],
      "execution_count": null,
      "outputs": []
    },
    {
      "cell_type": "code",
      "metadata": {
        "id": "JO3jZMd4FPsc"
      },
      "source": [
        "history = compile_and_fit(lstm_model, wide_window)\n",
        "IPython.display.clear_output()\n",
        "val_performance['LSTM'] = lstm_model.evaluate(wide_window.val)\n",
        "performance['LSTM'] = lstm_model.evaluate(wide_window.test, verbose = 1)"
      ],
      "execution_count": null,
      "outputs": []
    },
    {
      "cell_type": "code",
      "metadata": {
        "id": "1AKUht5sGX0R"
      },
      "source": [
        "wide_window.plot(lstm_model)"
      ],
      "execution_count": null,
      "outputs": []
    },
    {
      "cell_type": "code",
      "metadata": {
        "id": "acDHHuqdGlql"
      },
      "source": [
        "x = np.arange(len(performance))\n",
        "width = 0.3\n",
        "metric_name = 'mean_absolute_error'\n",
        "metric_index = lstm_model.metrics_names.index('mean_absolute_error')\n",
        "val_mae = [v[metric_index] for v in val_performance.values()]\n",
        "test_mae = [v[metric_index] for v in performance.values()]\n",
        "\n",
        "plt.ylabel('mean_absolute_error [Weekly_Sales, normalized]')\n",
        "plt.bar(x - 0.17, val_mae, width, label = 'Validation')\n",
        "plt.bar(x + 0.17, test_mae, width, label = 'Test')\n",
        "plt.xticks(ticks = x, labels = performance.keys(), rotation = 45)\n",
        "_= plt.legend()"
      ],
      "execution_count": null,
      "outputs": []
    },
    {
      "cell_type": "code",
      "metadata": {
        "id": "D55TGrdcPTiZ"
      },
      "source": [
        "for name, value in performance.items():\n",
        "  print(f'{name:12s}:{value[1]:0.4f}')"
      ],
      "execution_count": null,
      "outputs": []
    },
    {
      "cell_type": "code",
      "metadata": {
        "id": "Fga9CKnuPxuo"
      },
      "source": [
        ""
      ],
      "execution_count": null,
      "outputs": []
    }
  ]
}