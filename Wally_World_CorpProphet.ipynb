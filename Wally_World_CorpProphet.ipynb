{
  "nbformat": 4,
  "nbformat_minor": 0,
  "metadata": {
    "colab": {
      "name": "Wally_World_CorpProphet.ipynb",
      "provenance": [],
      "collapsed_sections": [],
      "include_colab_link": true
    },
    "kernelspec": {
      "name": "python3",
      "display_name": "Python 3"
    },
    "language_info": {
      "name": "python"
    }
  },
  "cells": [
    {
      "cell_type": "markdown",
      "metadata": {
        "id": "view-in-github",
        "colab_type": "text"
      },
      "source": [
        "<a href=\"https://colab.research.google.com/github/woodword-0/ML-Projects/blob/main/Wally_World_CorpProphet.ipynb\" target=\"_parent\"><img src=\"https://colab.research.google.com/assets/colab-badge.svg\" alt=\"Open In Colab\"/></a>"
      ]
    },
    {
      "cell_type": "code",
      "metadata": {
        "colab": {
          "base_uri": "https://localhost:8080/"
        },
        "id": "7PfqpRVVhrsE",
        "outputId": "2a5f0cb7-c08f-4562-9966-464b744574f1"
      },
      "source": [
        "import numpy as np\n",
        "import pandas as pd\n",
        "import matplotlib.pyplot as plt\n",
        "import pickle\n",
        "\n",
        "from math import floor\n",
        "from fbprophet import Prophet\n",
        "\n",
        "import os \n",
        "\n",
        "from google.colab import drive\n",
        "drive.mount('/content/gdrive')\n",
        "\n",
        "np.random.seed(9001)\n",
        "#WHAT!? 9000!?!?"
      ],
      "execution_count": null,
      "outputs": [
        {
          "output_type": "stream",
          "text": [
            "Mounted at /content/gdrive\n"
          ],
          "name": "stdout"
        }
      ]
    },
    {
      "cell_type": "markdown",
      "metadata": {
        "id": "qwGWfeKwIdwE"
      },
      "source": [
        "#Load Data"
      ]
    },
    {
      "cell_type": "code",
      "metadata": {
        "colab": {
          "base_uri": "https://localhost:8080/",
          "height": 297
        },
        "id": "YTrTlg5JjtEK",
        "outputId": "db6f8a7d-d224-41fe-8b6f-bfac99c8ad93"
      },
      "source": [
        "df=pd.read_csv('gdrive/My Drive/Colab Notebooks/TimeSeries/Walmart_Data/W_Corporate.csv')\n",
        "df=df.drop(columns=['Unnamed: 0','Weekly_Sales','Weekly_Sales_log','minMax_WeeklySales','minMax_log'])\n",
        "df.describe()"
      ],
      "execution_count": null,
      "outputs": [
        {
          "output_type": "execute_result",
          "data": {
            "text/html": [
              "<div>\n",
              "<style scoped>\n",
              "    .dataframe tbody tr th:only-of-type {\n",
              "        vertical-align: middle;\n",
              "    }\n",
              "\n",
              "    .dataframe tbody tr th {\n",
              "        vertical-align: top;\n",
              "    }\n",
              "\n",
              "    .dataframe thead th {\n",
              "        text-align: right;\n",
              "    }\n",
              "</style>\n",
              "<table border=\"1\" class=\"dataframe\">\n",
              "  <thead>\n",
              "    <tr style=\"text-align: right;\">\n",
              "      <th></th>\n",
              "      <th>log_minMax</th>\n",
              "    </tr>\n",
              "  </thead>\n",
              "  <tbody>\n",
              "    <tr>\n",
              "      <th>count</th>\n",
              "      <td>143.000000</td>\n",
              "    </tr>\n",
              "    <tr>\n",
              "      <th>mean</th>\n",
              "      <td>0.282736</td>\n",
              "    </tr>\n",
              "    <tr>\n",
              "      <th>std</th>\n",
              "      <td>0.138834</td>\n",
              "    </tr>\n",
              "    <tr>\n",
              "      <th>min</th>\n",
              "      <td>0.000000</td>\n",
              "    </tr>\n",
              "    <tr>\n",
              "      <th>25%</th>\n",
              "      <td>0.222445</td>\n",
              "    </tr>\n",
              "    <tr>\n",
              "      <th>50%</th>\n",
              "      <td>0.266150</td>\n",
              "    </tr>\n",
              "    <tr>\n",
              "      <th>75%</th>\n",
              "      <td>0.325974</td>\n",
              "    </tr>\n",
              "    <tr>\n",
              "      <th>max</th>\n",
              "      <td>1.000000</td>\n",
              "    </tr>\n",
              "  </tbody>\n",
              "</table>\n",
              "</div>"
            ],
            "text/plain": [
              "       log_minMax\n",
              "count  143.000000\n",
              "mean     0.282736\n",
              "std      0.138834\n",
              "min      0.000000\n",
              "25%      0.222445\n",
              "50%      0.266150\n",
              "75%      0.325974\n",
              "max      1.000000"
            ]
          },
          "metadata": {
            "tags": []
          },
          "execution_count": 6
        }
      ]
    },
    {
      "cell_type": "code",
      "metadata": {
        "id": "6QXonDDFrQgD"
      },
      "source": [
        "dates=set(df['Date'])\n",
        "dates=sorted(dates)"
      ],
      "execution_count": null,
      "outputs": []
    },
    {
      "cell_type": "code",
      "metadata": {
        "colab": {
          "base_uri": "https://localhost:8080/",
          "height": 265
        },
        "id": "7kLaTeRCmc2N",
        "outputId": "41164e81-789f-4b47-83a8-14e778575a01"
      },
      "source": [
        "df.plot()\n",
        "plt.show()"
      ],
      "execution_count": null,
      "outputs": [
        {
          "output_type": "display_data",
          "data": {
            "image/png": "[encoded data removed]",
            "text/plain": [
              "<Figure size 432x288 with 1 Axes>"
            ]
          },
          "metadata": {
            "tags": [],
            "needs_background": "light"
          }
        }
      ]
    },
    {
      "cell_type": "markdown",
      "metadata": {
        "id": "x-2we8Xkzcz0"
      },
      "source": [
        "#Model"
      ]
    },
    {
      "cell_type": "markdown",
      "metadata": {
        "id": "pcdbuzJVp-n2"
      },
      "source": [
        "##Model Prep"
      ]
    },
    {
      "cell_type": "code",
      "metadata": {
        "id": "iKIPVpEfOGLp"
      },
      "source": [
        "#Prophet demands columns be designated as ds and y\n",
        "df=df.rename(columns={'Date':'ds','log_minMax':'y'})"
      ],
      "execution_count": null,
      "outputs": []
    },
    {
      "cell_type": "markdown",
      "metadata": {
        "id": "LtQALJHeyeP7"
      },
      "source": [
        "###Train, Validation, And Test Split"
      ]
    },
    {
      "cell_type": "code",
      "metadata": {
        "id": "O6XdrKZnVYpa"
      },
      "source": [
        "trainInd=floor(len(df)*.8)\n",
        "valInd=floor(len(df)*.9)\n",
        "train=df.loc[:trainInd,:]\n",
        "val=df['ds'][trainInd:valInd]\n",
        "val=val.to_frame()\n",
        "test=df['ds'][valInd:]\n",
        "test=test.to_frame()"
      ],
      "execution_count": null,
      "outputs": []
    },
    {
      "cell_type": "markdown",
      "metadata": {
        "id": "7PuMyvCxYDPW"
      },
      "source": [
        "##Model Creation And Validation"
      ]
    },
    {
      "cell_type": "code",
      "metadata": {
        "id": "KcYBElQNwTgp",
        "colab": {
          "base_uri": "https://localhost:8080/"
        },
        "outputId": "8e3ff00a-edeb-4513-d27f-d564f1ea106f"
      },
      "source": [
        "model = Prophet()\n",
        "model.fit(train)"
      ],
      "execution_count": null,
      "outputs": [
        {
          "output_type": "stream",
          "text": [
            "INFO:fbprophet:Disabling weekly seasonality. Run prophet with weekly_seasonality=True to override this.\n",
            "INFO:fbprophet:Disabling daily seasonality. Run prophet with daily_seasonality=True to override this.\n"
          ],
          "name": "stderr"
        },
        {
          "output_type": "execute_result",
          "data": {
            "text/plain": [
              "<fbprophet.forecaster.Prophet at 0x7f3d6cbbb190>"
            ]
          },
          "metadata": {
            "tags": []
          },
          "execution_count": 27
        }
      ]
    },
    {
      "cell_type": "code",
      "metadata": {
        "id": "z-KwrdZDX_cq"
      },
      "source": [
        "forecast=model.predict(val)"
      ],
      "execution_count": null,
      "outputs": []
    },
    {
      "cell_type": "code",
      "metadata": {
        "colab": {
          "base_uri": "https://localhost:8080/"
        },
        "id": "XrtH6-Y2N23M",
        "outputId": "a2a45772-3642-4ec0-fa5a-cdced31c1321"
      },
      "source": [
        "print(forecast[['ds', 'yhat', 'yhat_lower', 'yhat_upper']].head())"
      ],
      "execution_count": null,
      "outputs": [
        {
          "output_type": "stream",
          "text": [
            "          ds      yhat  yhat_lower  yhat_upper\n",
            "0 2012-04-13  0.315585    0.213965    0.423718\n",
            "1 2012-04-20  0.296908    0.183362    0.408533\n",
            "2 2012-04-27  0.263411    0.153520    0.364251\n",
            "3 2012-05-04  0.246405    0.143600    0.351457\n",
            "4 2012-05-11  0.261774    0.160355    0.371666\n"
          ],
          "name": "stdout"
        }
      ]
    },
    {
      "cell_type": "code",
      "metadata": {
        "colab": {
          "base_uri": "https://localhost:8080/",
          "height": 441
        },
        "id": "mpVhrrJVUwmf",
        "outputId": "ad0adde5-a6c1-4366-e5bb-effcb8f73849"
      },
      "source": [
        "model.plot(forecast)\n",
        "plt.show()"
      ],
      "execution_count": null,
      "outputs": [
        {
          "output_type": "display_data",
          "data": {
            "image/png": "[encoded data removed]",
            "text/plain": [
              "<Figure size 720x432 with 1 Axes>"
            ]
          },
          "metadata": {
            "tags": []
          }
        }
      ]
    },
    {
      "cell_type": "code",
      "metadata": {
        "colab": {
          "base_uri": "https://localhost:8080/",
          "height": 317
        },
        "id": "NuYpHpYlbgoy",
        "outputId": "827d3a10-ee09-4976-9d60-5101a4f4c279"
      },
      "source": [
        "forecast.describe()"
      ],
      "execution_count": null,
      "outputs": [
        {
          "output_type": "execute_result",
          "data": {
            "text/html": [
              "<div>\n",
              "<style scoped>\n",
              "    .dataframe tbody tr th:only-of-type {\n",
              "        vertical-align: middle;\n",
              "    }\n",
              "\n",
              "    .dataframe tbody tr th {\n",
              "        vertical-align: top;\n",
              "    }\n",
              "\n",
              "    .dataframe thead th {\n",
              "        text-align: right;\n",
              "    }\n",
              "</style>\n",
              "<table border=\"1\" class=\"dataframe\">\n",
              "  <thead>\n",
              "    <tr style=\"text-align: right;\">\n",
              "      <th></th>\n",
              "      <th>trend</th>\n",
              "      <th>yhat_lower</th>\n",
              "      <th>yhat_upper</th>\n",
              "      <th>trend_lower</th>\n",
              "      <th>trend_upper</th>\n",
              "      <th>additive_terms</th>\n",
              "      <th>additive_terms_lower</th>\n",
              "      <th>additive_terms_upper</th>\n",
              "      <th>yearly</th>\n",
              "      <th>yearly_lower</th>\n",
              "      <th>yearly_upper</th>\n",
              "      <th>multiplicative_terms</th>\n",
              "      <th>multiplicative_terms_lower</th>\n",
              "      <th>multiplicative_terms_upper</th>\n",
              "      <th>yhat</th>\n",
              "    </tr>\n",
              "  </thead>\n",
              "  <tbody>\n",
              "    <tr>\n",
              "      <th>count</th>\n",
              "      <td>14.000000</td>\n",
              "      <td>14.000000</td>\n",
              "      <td>14.000000</td>\n",
              "      <td>14.000000</td>\n",
              "      <td>14.000000</td>\n",
              "      <td>14.000000</td>\n",
              "      <td>14.000000</td>\n",
              "      <td>14.000000</td>\n",
              "      <td>14.000000</td>\n",
              "      <td>14.000000</td>\n",
              "      <td>14.000000</td>\n",
              "      <td>14.0</td>\n",
              "      <td>14.0</td>\n",
              "      <td>14.0</td>\n",
              "      <td>14.000000</td>\n",
              "    </tr>\n",
              "    <tr>\n",
              "      <th>mean</th>\n",
              "      <td>0.300075</td>\n",
              "      <td>0.207211</td>\n",
              "      <td>0.418918</td>\n",
              "      <td>0.299935</td>\n",
              "      <td>0.300200</td>\n",
              "      <td>0.013099</td>\n",
              "      <td>0.013099</td>\n",
              "      <td>0.013099</td>\n",
              "      <td>0.013099</td>\n",
              "      <td>0.013099</td>\n",
              "      <td>0.013099</td>\n",
              "      <td>0.0</td>\n",
              "      <td>0.0</td>\n",
              "      <td>0.0</td>\n",
              "      <td>0.313174</td>\n",
              "    </tr>\n",
              "    <tr>\n",
              "      <th>std</th>\n",
              "      <td>0.001405</td>\n",
              "      <td>0.038486</td>\n",
              "      <td>0.037801</td>\n",
              "      <td>0.001286</td>\n",
              "      <td>0.001519</td>\n",
              "      <td>0.037075</td>\n",
              "      <td>0.037075</td>\n",
              "      <td>0.037075</td>\n",
              "      <td>0.037075</td>\n",
              "      <td>0.037075</td>\n",
              "      <td>0.037075</td>\n",
              "      <td>0.0</td>\n",
              "      <td>0.0</td>\n",
              "      <td>0.0</td>\n",
              "      <td>0.037816</td>\n",
              "    </tr>\n",
              "    <tr>\n",
              "      <th>min</th>\n",
              "      <td>0.297892</td>\n",
              "      <td>0.143600</td>\n",
              "      <td>0.351457</td>\n",
              "      <td>0.297892</td>\n",
              "      <td>0.297892</td>\n",
              "      <td>-0.052495</td>\n",
              "      <td>-0.052495</td>\n",
              "      <td>-0.052495</td>\n",
              "      <td>-0.052495</td>\n",
              "      <td>-0.052495</td>\n",
              "      <td>-0.052495</td>\n",
              "      <td>0.0</td>\n",
              "      <td>0.0</td>\n",
              "      <td>0.0</td>\n",
              "      <td>0.246405</td>\n",
              "    </tr>\n",
              "    <tr>\n",
              "      <th>25%</th>\n",
              "      <td>0.298984</td>\n",
              "      <td>0.181156</td>\n",
              "      <td>0.398685</td>\n",
              "      <td>0.298950</td>\n",
              "      <td>0.299009</td>\n",
              "      <td>-0.006167</td>\n",
              "      <td>-0.006167</td>\n",
              "      <td>-0.006167</td>\n",
              "      <td>-0.006167</td>\n",
              "      <td>-0.006167</td>\n",
              "      <td>-0.006167</td>\n",
              "      <td>0.0</td>\n",
              "      <td>0.0</td>\n",
              "      <td>0.0</td>\n",
              "      <td>0.295419</td>\n",
              "    </tr>\n",
              "    <tr>\n",
              "      <th>50%</th>\n",
              "      <td>0.300075</td>\n",
              "      <td>0.216129</td>\n",
              "      <td>0.425436</td>\n",
              "      <td>0.299954</td>\n",
              "      <td>0.300169</td>\n",
              "      <td>0.018314</td>\n",
              "      <td>0.018314</td>\n",
              "      <td>0.018314</td>\n",
              "      <td>0.018314</td>\n",
              "      <td>0.018314</td>\n",
              "      <td>0.018314</td>\n",
              "      <td>0.0</td>\n",
              "      <td>0.0</td>\n",
              "      <td>0.0</td>\n",
              "      <td>0.318221</td>\n",
              "    </tr>\n",
              "    <tr>\n",
              "      <th>75%</th>\n",
              "      <td>0.301166</td>\n",
              "      <td>0.239381</td>\n",
              "      <td>0.450374</td>\n",
              "      <td>0.300935</td>\n",
              "      <td>0.301373</td>\n",
              "      <td>0.044893</td>\n",
              "      <td>0.044893</td>\n",
              "      <td>0.044893</td>\n",
              "      <td>0.044893</td>\n",
              "      <td>0.044893</td>\n",
              "      <td>0.044893</td>\n",
              "      <td>0.0</td>\n",
              "      <td>0.0</td>\n",
              "      <td>0.0</td>\n",
              "      <td>0.346144</td>\n",
              "    </tr>\n",
              "    <tr>\n",
              "      <th>max</th>\n",
              "      <td>0.302258</td>\n",
              "      <td>0.261378</td>\n",
              "      <td>0.468978</td>\n",
              "      <td>0.301910</td>\n",
              "      <td>0.302604</td>\n",
              "      <td>0.059869</td>\n",
              "      <td>0.059869</td>\n",
              "      <td>0.059869</td>\n",
              "      <td>0.059869</td>\n",
              "      <td>0.059869</td>\n",
              "      <td>0.059869</td>\n",
              "      <td>0.0</td>\n",
              "      <td>0.0</td>\n",
              "      <td>0.0</td>\n",
              "      <td>0.361119</td>\n",
              "    </tr>\n",
              "  </tbody>\n",
              "</table>\n",
              "</div>"
            ],
            "text/plain": [
              "           trend  yhat_lower  ...  multiplicative_terms_upper       yhat\n",
              "count  14.000000   14.000000  ...                        14.0  14.000000\n",
              "mean    0.300075    0.207211  ...                         0.0   0.313174\n",
              "std     0.001405    0.038486  ...                         0.0   0.037816\n",
              "min     0.297892    0.143600  ...                         0.0   0.246405\n",
              "25%     0.298984    0.181156  ...                         0.0   0.295419\n",
              "50%     0.300075    0.216129  ...                         0.0   0.318221\n",
              "75%     0.301166    0.239381  ...                         0.0   0.346144\n",
              "max     0.302258    0.261378  ...                         0.0   0.361119\n",
              "\n",
              "[8 rows x 15 columns]"
            ]
          },
          "metadata": {
            "tags": []
          },
          "execution_count": 31
        }
      ]
    },
    {
      "cell_type": "code",
      "metadata": {
        "id": "LSECa6e8fk5i"
      },
      "source": [
        "val_y=df['y'][trainInd:valInd]\n",
        "y_hat=forecast.yhat"
      ],
      "execution_count": null,
      "outputs": []
    },
    {
      "cell_type": "code",
      "metadata": {
        "id": "MsdfKxwyhwUg"
      },
      "source": [
        "val_y=val_y.to_numpy()\n",
        "y_hat=y_hat.to_numpy()"
      ],
      "execution_count": null,
      "outputs": []
    },
    {
      "cell_type": "code",
      "metadata": {
        "colab": {
          "base_uri": "https://localhost:8080/"
        },
        "id": "O9t4s0fShAzv",
        "outputId": "ec3a7ff3-698b-48a8-8471-73a228d33206"
      },
      "source": [
        "rss=((val_y-y_hat)**2).sum()\n",
        "mse=np.mean((val_y-y_hat)**2)\n",
        "print(\"Final rmse value is =\",np.sqrt(np.mean((val_y-y_hat)**2)))"
      ],
      "execution_count": null,
      "outputs": [
        {
          "output_type": "stream",
          "text": [
            "Final rmse value is = 0.048323339567081965\n"
          ],
          "name": "stdout"
        }
      ]
    },
    {
      "cell_type": "markdown",
      "metadata": {
        "id": "7u3pgeTviVIY"
      },
      "source": [
        "##Run Model Against Test Set"
      ]
    },
    {
      "cell_type": "code",
      "metadata": {
        "id": "84c6VMYGhDNn"
      },
      "source": [
        "forecast=model.predict(test)"
      ],
      "execution_count": null,
      "outputs": []
    },
    {
      "cell_type": "code",
      "metadata": {
        "colab": {
          "base_uri": "https://localhost:8080/"
        },
        "id": "phd4IiJci6aa",
        "outputId": "7e5e5676-26c7-4ce4-bb8b-89f5ba730287"
      },
      "source": [
        "print(forecast[['ds', 'yhat', 'yhat_lower', 'yhat_upper']].head())"
      ],
      "execution_count": null,
      "outputs": [
        {
          "output_type": "stream",
          "text": [
            "          ds      yhat  yhat_lower  yhat_upper\n",
            "0 2012-07-20  0.280481    0.168553    0.383817\n",
            "1 2012-07-27  0.276975    0.169866    0.373978\n",
            "2 2012-08-03  0.281392    0.175109    0.391920\n",
            "3 2012-08-10  0.294904    0.189505    0.390900\n",
            "4 2012-08-17  0.315819    0.204172    0.425579\n"
          ],
          "name": "stdout"
        }
      ]
    },
    {
      "cell_type": "code",
      "metadata": {
        "colab": {
          "base_uri": "https://localhost:8080/",
          "height": 441
        },
        "id": "wMQhjS1ci7S-",
        "outputId": "ef7cdf38-7a97-473c-d470-9278c28d6000"
      },
      "source": [
        "model.plot(forecast)\n",
        "plt.show()"
      ],
      "execution_count": null,
      "outputs": [
        {
          "output_type": "display_data",
          "data": {
            "image/png": "[encoded data removed]",
            "text/plain": [
              "<Figure size 720x432 with 1 Axes>"
            ]
          },
          "metadata": {
            "tags": []
          }
        }
      ]
    },
    {
      "cell_type": "code",
      "metadata": {
        "colab": {
          "base_uri": "https://localhost:8080/",
          "height": 317
        },
        "id": "AAi5KZ5ti-6X",
        "outputId": "1cf99dcc-fdec-48f7-ca64-b298bed2c19d"
      },
      "source": [
        "forecast.describe()"
      ],
      "execution_count": null,
      "outputs": [
        {
          "output_type": "execute_result",
          "data": {
            "text/html": [
              "<div>\n",
              "<style scoped>\n",
              "    .dataframe tbody tr th:only-of-type {\n",
              "        vertical-align: middle;\n",
              "    }\n",
              "\n",
              "    .dataframe tbody tr th {\n",
              "        vertical-align: top;\n",
              "    }\n",
              "\n",
              "    .dataframe thead th {\n",
              "        text-align: right;\n",
              "    }\n",
              "</style>\n",
              "<table border=\"1\" class=\"dataframe\">\n",
              "  <thead>\n",
              "    <tr style=\"text-align: right;\">\n",
              "      <th></th>\n",
              "      <th>trend</th>\n",
              "      <th>yhat_lower</th>\n",
              "      <th>yhat_upper</th>\n",
              "      <th>trend_lower</th>\n",
              "      <th>trend_upper</th>\n",
              "      <th>additive_terms</th>\n",
              "      <th>additive_terms_lower</th>\n",
              "      <th>additive_terms_upper</th>\n",
              "      <th>yearly</th>\n",
              "      <th>yearly_lower</th>\n",
              "      <th>yearly_upper</th>\n",
              "      <th>multiplicative_terms</th>\n",
              "      <th>multiplicative_terms_lower</th>\n",
              "      <th>multiplicative_terms_upper</th>\n",
              "      <th>yhat</th>\n",
              "    </tr>\n",
              "  </thead>\n",
              "  <tbody>\n",
              "    <tr>\n",
              "      <th>count</th>\n",
              "      <td>15.000000</td>\n",
              "      <td>15.000000</td>\n",
              "      <td>15.000000</td>\n",
              "      <td>15.000000</td>\n",
              "      <td>15.000000</td>\n",
              "      <td>15.000000</td>\n",
              "      <td>15.000000</td>\n",
              "      <td>15.000000</td>\n",
              "      <td>15.000000</td>\n",
              "      <td>15.000000</td>\n",
              "      <td>15.000000</td>\n",
              "      <td>15.0</td>\n",
              "      <td>15.0</td>\n",
              "      <td>15.0</td>\n",
              "      <td>15.000000</td>\n",
              "    </tr>\n",
              "    <tr>\n",
              "      <th>mean</th>\n",
              "      <td>0.304944</td>\n",
              "      <td>0.144537</td>\n",
              "      <td>0.357301</td>\n",
              "      <td>0.304281</td>\n",
              "      <td>0.305738</td>\n",
              "      <td>-0.053717</td>\n",
              "      <td>-0.053717</td>\n",
              "      <td>-0.053717</td>\n",
              "      <td>-0.053717</td>\n",
              "      <td>-0.053717</td>\n",
              "      <td>-0.053717</td>\n",
              "      <td>0.0</td>\n",
              "      <td>0.0</td>\n",
              "      <td>0.0</td>\n",
              "      <td>0.251227</td>\n",
              "    </tr>\n",
              "    <tr>\n",
              "      <th>std</th>\n",
              "      <td>0.001502</td>\n",
              "      <td>0.051470</td>\n",
              "      <td>0.050682</td>\n",
              "      <td>0.001269</td>\n",
              "      <td>0.001774</td>\n",
              "      <td>0.053736</td>\n",
              "      <td>0.053736</td>\n",
              "      <td>0.053736</td>\n",
              "      <td>0.053736</td>\n",
              "      <td>0.053736</td>\n",
              "      <td>0.053736</td>\n",
              "      <td>0.0</td>\n",
              "      <td>0.0</td>\n",
              "      <td>0.0</td>\n",
              "      <td>0.052780</td>\n",
              "    </tr>\n",
              "    <tr>\n",
              "      <th>min</th>\n",
              "      <td>0.302593</td>\n",
              "      <td>0.060566</td>\n",
              "      <td>0.273502</td>\n",
              "      <td>0.302270</td>\n",
              "      <td>0.302992</td>\n",
              "      <td>-0.145590</td>\n",
              "      <td>-0.145590</td>\n",
              "      <td>-0.145590</td>\n",
              "      <td>-0.145590</td>\n",
              "      <td>-0.145590</td>\n",
              "      <td>-0.145590</td>\n",
              "      <td>0.0</td>\n",
              "      <td>0.0</td>\n",
              "      <td>0.0</td>\n",
              "      <td>0.160026</td>\n",
              "    </tr>\n",
              "    <tr>\n",
              "      <th>25%</th>\n",
              "      <td>0.303769</td>\n",
              "      <td>0.106999</td>\n",
              "      <td>0.324608</td>\n",
              "      <td>0.303295</td>\n",
              "      <td>0.304347</td>\n",
              "      <td>-0.090251</td>\n",
              "      <td>-0.090251</td>\n",
              "      <td>-0.090251</td>\n",
              "      <td>-0.090251</td>\n",
              "      <td>-0.090251</td>\n",
              "      <td>-0.090251</td>\n",
              "      <td>0.0</td>\n",
              "      <td>0.0</td>\n",
              "      <td>0.0</td>\n",
              "      <td>0.216204</td>\n",
              "    </tr>\n",
              "    <tr>\n",
              "      <th>50%</th>\n",
              "      <td>0.304944</td>\n",
              "      <td>0.155619</td>\n",
              "      <td>0.360072</td>\n",
              "      <td>0.304289</td>\n",
              "      <td>0.305715</td>\n",
              "      <td>-0.050824</td>\n",
              "      <td>-0.050824</td>\n",
              "      <td>-0.050824</td>\n",
              "      <td>-0.050824</td>\n",
              "      <td>-0.050824</td>\n",
              "      <td>-0.050824</td>\n",
              "      <td>0.0</td>\n",
              "      <td>0.0</td>\n",
              "      <td>0.0</td>\n",
              "      <td>0.254120</td>\n",
              "    </tr>\n",
              "    <tr>\n",
              "      <th>75%</th>\n",
              "      <td>0.306119</td>\n",
              "      <td>0.182307</td>\n",
              "      <td>0.391410</td>\n",
              "      <td>0.305281</td>\n",
              "      <td>0.307124</td>\n",
              "      <td>-0.015285</td>\n",
              "      <td>-0.015285</td>\n",
              "      <td>-0.015285</td>\n",
              "      <td>-0.015285</td>\n",
              "      <td>-0.015285</td>\n",
              "      <td>-0.015285</td>\n",
              "      <td>0.0</td>\n",
              "      <td>0.0</td>\n",
              "      <td>0.0</td>\n",
              "      <td>0.288148</td>\n",
              "    </tr>\n",
              "    <tr>\n",
              "      <th>max</th>\n",
              "      <td>0.307295</td>\n",
              "      <td>0.221430</td>\n",
              "      <td>0.425802</td>\n",
              "      <td>0.306244</td>\n",
              "      <td>0.308543</td>\n",
              "      <td>0.023961</td>\n",
              "      <td>0.023961</td>\n",
              "      <td>0.023961</td>\n",
              "      <td>0.023961</td>\n",
              "      <td>0.023961</td>\n",
              "      <td>0.023961</td>\n",
              "      <td>0.0</td>\n",
              "      <td>0.0</td>\n",
              "      <td>0.0</td>\n",
              "      <td>0.328234</td>\n",
              "    </tr>\n",
              "  </tbody>\n",
              "</table>\n",
              "</div>"
            ],
            "text/plain": [
              "           trend  yhat_lower  ...  multiplicative_terms_upper       yhat\n",
              "count  15.000000   15.000000  ...                        15.0  15.000000\n",
              "mean    0.304944    0.144537  ...                         0.0   0.251227\n",
              "std     0.001502    0.051470  ...                         0.0   0.052780\n",
              "min     0.302593    0.060566  ...                         0.0   0.160026\n",
              "25%     0.303769    0.106999  ...                         0.0   0.216204\n",
              "50%     0.304944    0.155619  ...                         0.0   0.254120\n",
              "75%     0.306119    0.182307  ...                         0.0   0.288148\n",
              "max     0.307295    0.221430  ...                         0.0   0.328234\n",
              "\n",
              "[8 rows x 15 columns]"
            ]
          },
          "metadata": {
            "tags": []
          },
          "execution_count": 38
        }
      ]
    },
    {
      "cell_type": "code",
      "metadata": {
        "id": "BpfGcGwXkkTC"
      },
      "source": [
        "test_y=df['y'][valInd:]\n",
        "y_hat=forecast.yhat"
      ],
      "execution_count": null,
      "outputs": []
    },
    {
      "cell_type": "code",
      "metadata": {
        "id": "HgkFhU8glwqA"
      },
      "source": [
        "test_y=test_y.to_numpy()\n",
        "y_hat=y_hat.to_numpy()"
      ],
      "execution_count": null,
      "outputs": []
    },
    {
      "cell_type": "code",
      "metadata": {
        "colab": {
          "base_uri": "https://localhost:8080/"
        },
        "id": "aFKc8vz9lzYS",
        "outputId": "7f31112e-0c94-4f96-e22a-25b20e818bca"
      },
      "source": [
        "rss=((test_y-y_hat)**2).sum()\n",
        "mse=np.mean((test_y-y_hat)**2)\n",
        "print(\"Final rmse value is =\",np.sqrt(np.mean((test_y-y_hat)**2)))"
      ],
      "execution_count": null,
      "outputs": [
        {
          "output_type": "stream",
          "text": [
            "Final rmse value is = 0.037670534146939584\n"
          ],
          "name": "stdout"
        }
      ]
    },
    {
      "cell_type": "markdown",
      "metadata": {
        "id": "PrQSJE856jxw"
      },
      "source": [
        "#Pickeling the model"
      ]
    },
    {
      "cell_type": "code",
      "metadata": {
        "id": "td7DAlHm7Geo"
      },
      "source": [
        "pickle.dump(model,open(r'gdrive/My Drive/Colab Notebooks/TimeSeries/Walmart_Notebooks/W_Corp_Prophet.sav','wb'))"
      ],
      "execution_count": null,
      "outputs": []
    }
  ]
}